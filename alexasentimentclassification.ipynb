{
  "nbformat": 4,
  "nbformat_minor": 0,
  "metadata": {
    "colab": {
      "name": "alexasentimentclassification.ipynb",
      "provenance": [],
      "collapsed_sections": [],
      "include_colab_link": true
    },
    "kernelspec": {
      "name": "python3",
      "display_name": "Python 3"
    }
  },
  "cells": [
    {
      "cell_type": "markdown",
      "metadata": {
        "id": "view-in-github",
        "colab_type": "text"
      },
      "source": [
        "<a href=\"https://colab.research.google.com/github/amitaucs/tensorflowexplore/blob/master/alexasentimentclassification.ipynb\" target=\"_parent\"><img src=\"https://colab.research.google.com/assets/colab-badge.svg\" alt=\"Open In Colab\"/></a>"
      ]
    },
    {
      "cell_type": "markdown",
      "metadata": {
        "id": "cdbSKWedJXqb",
        "colab_type": "text"
      },
      "source": [
        "# Import Libraries"
      ]
    },
    {
      "cell_type": "code",
      "metadata": {
        "id": "geXzWxgMJJj5",
        "colab_type": "code",
        "colab": {}
      },
      "source": [
        "!pip install tensorflow-gpu==2.0.0.alpha0\n",
        "import tensorflow as tf\n",
        "import pandas as pd\n",
        "import numpy as np\n",
        "import seaborn as sns\n",
        "import matplotlib.pyplot as plt"
      ],
      "execution_count": 0,
      "outputs": []
    },
    {
      "cell_type": "code",
      "metadata": {
        "id": "mG_WY9hTJwCW",
        "colab_type": "code",
        "colab": {}
      },
      "source": [
        "from google.colab import drive\n",
        "drive.mount('/content/drive')"
      ],
      "execution_count": 0,
      "outputs": []
    },
    {
      "cell_type": "markdown",
      "metadata": {
        "id": "VdFEd51GKFaS",
        "colab_type": "text"
      },
      "source": [
        "# Import Dataset\n"
      ]
    },
    {
      "cell_type": "code",
      "metadata": {
        "id": "Plk3bicuJzrG",
        "colab_type": "code",
        "colab": {}
      },
      "source": [
        "alexa_df = pd.read_csv('/content/drive/My Drive/Colab Notebooks/amazon-alexa.tsv', sep= '\\t')"
      ],
      "execution_count": 0,
      "outputs": []
    },
    {
      "cell_type": "code",
      "metadata": {
        "id": "2mqs0v8xKbs0",
        "colab_type": "code",
        "colab": {}
      },
      "source": [
        "alexa_df"
      ],
      "execution_count": 0,
      "outputs": []
    },
    {
      "cell_type": "code",
      "metadata": {
        "id": "yWkqjcGsK1AW",
        "colab_type": "code",
        "colab": {}
      },
      "source": [
        "alexa_df['verified_reviews']"
      ],
      "execution_count": 0,
      "outputs": []
    },
    {
      "cell_type": "markdown",
      "metadata": {
        "id": "wa8aYraxLbuT",
        "colab_type": "text"
      },
      "source": [
        "# Visualization of Data"
      ]
    },
    {
      "cell_type": "code",
      "metadata": {
        "id": "XG5QnA0NLYBF",
        "colab_type": "code",
        "colab": {}
      },
      "source": [
        "positive = alexa_df[alexa_df['feedback'] ==1]"
      ],
      "execution_count": 0,
      "outputs": []
    },
    {
      "cell_type": "code",
      "metadata": {
        "id": "J1L2qBlFL92g",
        "colab_type": "code",
        "colab": {}
      },
      "source": [
        "positive"
      ],
      "execution_count": 0,
      "outputs": []
    },
    {
      "cell_type": "code",
      "metadata": {
        "id": "uhsfp4vAMABY",
        "colab_type": "code",
        "colab": {}
      },
      "source": [
        "negative = alexa_df[alexa_df['feedback'] ==0]"
      ],
      "execution_count": 0,
      "outputs": []
    },
    {
      "cell_type": "code",
      "metadata": {
        "id": "H3X8cmU7MOEh",
        "colab_type": "code",
        "colab": {}
      },
      "source": [
        "negative"
      ],
      "execution_count": 0,
      "outputs": []
    },
    {
      "cell_type": "code",
      "metadata": {
        "id": "avvMsRTZMPpR",
        "colab_type": "code",
        "colab": {}
      },
      "source": [
        "sns.countplot(alexa_df['feedback'], label='Count')"
      ],
      "execution_count": 0,
      "outputs": []
    },
    {
      "cell_type": "code",
      "metadata": {
        "id": "sS9ABA6nMfzB",
        "colab_type": "code",
        "colab": {}
      },
      "source": [
        "sns.countplot(x = 'rating', data= alexa_df)"
      ],
      "execution_count": 0,
      "outputs": []
    },
    {
      "cell_type": "code",
      "metadata": {
        "id": "eH6T7UoSMrws",
        "colab_type": "code",
        "colab": {}
      },
      "source": [
        "alexa_df['rating'].hist(bins = 5)"
      ],
      "execution_count": 0,
      "outputs": []
    },
    {
      "cell_type": "code",
      "metadata": {
        "id": "89H_FE4NM_vF",
        "colab_type": "code",
        "colab": {}
      },
      "source": [
        "plt.figure(figsize=(40,50))\n",
        "sns.barplot(x = 'variation',y='rating', data = alexa_df, palette='deep')"
      ],
      "execution_count": 0,
      "outputs": []
    },
    {
      "cell_type": "code",
      "metadata": {
        "id": "zWy8nUQtNeZk",
        "colab_type": "code",
        "colab": {}
      },
      "source": [
        "alexa_df = alexa_df.drop(['date','rating'], axis=1)"
      ],
      "execution_count": 0,
      "outputs": []
    },
    {
      "cell_type": "code",
      "metadata": {
        "id": "BQ50I6piOt6r",
        "colab_type": "code",
        "colab": {}
      },
      "source": [
        "alexa_df"
      ],
      "execution_count": 0,
      "outputs": []
    },
    {
      "cell_type": "code",
      "metadata": {
        "id": "x8cRukieOu_k",
        "colab_type": "code",
        "colab": {}
      },
      "source": [
        "#Read dummy variable trap\n",
        "variation_dummies = pd.get_dummies(alexa_df['variation'], drop_first= True)"
      ],
      "execution_count": 0,
      "outputs": []
    },
    {
      "cell_type": "code",
      "metadata": {
        "id": "DeBjQMyBPL4b",
        "colab_type": "code",
        "colab": {}
      },
      "source": [
        "variation_dummies"
      ],
      "execution_count": 0,
      "outputs": []
    },
    {
      "cell_type": "code",
      "metadata": {
        "id": "yHTNzR37POhh",
        "colab_type": "code",
        "colab": {}
      },
      "source": [
        "#inplace = True ensures actual drop of the column in memory\n",
        "alexa_df.drop(['variation'],axis=1, inplace= True)"
      ],
      "execution_count": 0,
      "outputs": []
    },
    {
      "cell_type": "code",
      "metadata": {
        "id": "R2IbqzOsP2ga",
        "colab_type": "code",
        "colab": {}
      },
      "source": [
        "alexa_df"
      ],
      "execution_count": 0,
      "outputs": []
    },
    {
      "cell_type": "code",
      "metadata": {
        "id": "43RPN4PkQETE",
        "colab_type": "code",
        "colab": {}
      },
      "source": [
        "alexa_df = pd.concat([alexa_df, variation_dummies], axis=1)"
      ],
      "execution_count": 0,
      "outputs": []
    },
    {
      "cell_type": "code",
      "metadata": {
        "id": "teYAIyd1QRzU",
        "colab_type": "code",
        "colab": {}
      },
      "source": [
        "alexa_df"
      ],
      "execution_count": 0,
      "outputs": []
    },
    {
      "cell_type": "markdown",
      "metadata": {
        "id": "uVMXfG8bQZhx",
        "colab_type": "text"
      },
      "source": [
        "# Count Vectorizer"
      ]
    },
    {
      "cell_type": "code",
      "metadata": {
        "id": "Yj5lJo8eQTDG",
        "colab_type": "code",
        "colab": {}
      },
      "source": [
        "from sklearn.feature_extraction.text import CountVectorizer\n",
        "sample_data =['This is the first document.','This document is the second document.','And this is the third one.','Is this the first document?']\n",
        "\n",
        "vectorizer = CountVectorizer()\n",
        "X = vectorizer.fit_transform(sample_data)\n"
      ],
      "execution_count": 0,
      "outputs": []
    },
    {
      "cell_type": "code",
      "metadata": {
        "id": "2S9AvxfNRHz1",
        "colab_type": "code",
        "colab": {}
      },
      "source": [
        "X"
      ],
      "execution_count": 0,
      "outputs": []
    },
    {
      "cell_type": "code",
      "metadata": {
        "id": "5-FJ2_wCRSL1",
        "colab_type": "code",
        "colab": {}
      },
      "source": [
        "print(X.toarray())"
      ],
      "execution_count": 0,
      "outputs": []
    },
    {
      "cell_type": "code",
      "metadata": {
        "id": "abf7TdWCRX6w",
        "colab_type": "code",
        "colab": {}
      },
      "source": [
        "print(vectorizer.get_feature_names())"
      ],
      "execution_count": 0,
      "outputs": []
    },
    {
      "cell_type": "markdown",
      "metadata": {
        "id": "ge9LBdCiSSGV",
        "colab_type": "text"
      },
      "source": [
        "# Apply count vectorizer on data"
      ]
    },
    {
      "cell_type": "code",
      "metadata": {
        "id": "R6DKBCJgRhVI",
        "colab_type": "code",
        "colab": {}
      },
      "source": [
        "vectorizer = CountVectorizer()\n",
        "alexa_countvct = vectorizer.fit_transform(alexa_df['verified_reviews'])"
      ],
      "execution_count": 0,
      "outputs": []
    },
    {
      "cell_type": "code",
      "metadata": {
        "id": "vA6jJpuISsdc",
        "colab_type": "code",
        "colab": {}
      },
      "source": [
        "alexa_countvct"
      ],
      "execution_count": 0,
      "outputs": []
    },
    {
      "cell_type": "code",
      "metadata": {
        "id": "m2dxUQokStnZ",
        "colab_type": "code",
        "colab": {}
      },
      "source": [
        "alexa_countvct.shape"
      ],
      "execution_count": 0,
      "outputs": []
    },
    {
      "cell_type": "code",
      "metadata": {
        "id": "bbt54prTSyjA",
        "colab_type": "code",
        "colab": {}
      },
      "source": [
        "print(vectorizer.get_feature_names())"
      ],
      "execution_count": 0,
      "outputs": []
    },
    {
      "cell_type": "code",
      "metadata": {
        "id": "uOjt7NgXTAnt",
        "colab_type": "code",
        "colab": {}
      },
      "source": [
        "print(alexa_countvct.toarray())"
      ],
      "execution_count": 0,
      "outputs": []
    },
    {
      "cell_type": "code",
      "metadata": {
        "id": "hc2wOGv-TG_b",
        "colab_type": "code",
        "colab": {}
      },
      "source": [
        "alexa_df.drop(['verified_reviews'],axis=1, inplace=True)"
      ],
      "execution_count": 0,
      "outputs": []
    },
    {
      "cell_type": "code",
      "metadata": {
        "id": "zh5i8UM8TTgw",
        "colab_type": "code",
        "colab": {}
      },
      "source": [
        "#Array can not be concatenate hence converted to dataframe\n",
        "reviews = pd.DataFrame(alexa_countvct.toarray())"
      ],
      "execution_count": 0,
      "outputs": []
    },
    {
      "cell_type": "code",
      "metadata": {
        "id": "vj3MwsyoTp2A",
        "colab_type": "code",
        "colab": {}
      },
      "source": [
        "alexa_df = pd.concat([alexa_df,reviews],axis=1)"
      ],
      "execution_count": 0,
      "outputs": []
    },
    {
      "cell_type": "code",
      "metadata": {
        "id": "92TU_HzCT458",
        "colab_type": "code",
        "colab": {}
      },
      "source": [
        "X = alexa_df.drop(['feedback'],axis=1)"
      ],
      "execution_count": 0,
      "outputs": []
    },
    {
      "cell_type": "code",
      "metadata": {
        "id": "-5e0m7V7T6ST",
        "colab_type": "code",
        "colab": {}
      },
      "source": [
        "X"
      ],
      "execution_count": 0,
      "outputs": []
    },
    {
      "cell_type": "code",
      "metadata": {
        "id": "FcgGfmllUfEs",
        "colab_type": "code",
        "colab": {}
      },
      "source": [
        "y = alexa_df['feedback']"
      ],
      "execution_count": 0,
      "outputs": []
    },
    {
      "cell_type": "markdown",
      "metadata": {
        "id": "4jwf00ZhUo-g",
        "colab_type": "text"
      },
      "source": [
        "# Train the model"
      ]
    },
    {
      "cell_type": "code",
      "metadata": {
        "id": "uzCO7uVXUkUo",
        "colab_type": "code",
        "colab": {
          "base_uri": "https://localhost:8080/",
          "height": 34
        },
        "outputId": "a9a285d5-5ba2-4698-f4be-bce821b8c332"
      },
      "source": [
        "X.shape"
      ],
      "execution_count": 40,
      "outputs": [
        {
          "output_type": "execute_result",
          "data": {
            "text/plain": [
              "(3150, 4059)"
            ]
          },
          "metadata": {
            "tags": []
          },
          "execution_count": 40
        }
      ]
    },
    {
      "cell_type": "code",
      "metadata": {
        "id": "ZE7dvE1rVqUg",
        "colab_type": "code",
        "colab": {
          "base_uri": "https://localhost:8080/",
          "height": 34
        },
        "outputId": "4d4e3c01-8712-466f-f5da-940289f4f9fb"
      },
      "source": [
        "y.shape"
      ],
      "execution_count": 41,
      "outputs": [
        {
          "output_type": "execute_result",
          "data": {
            "text/plain": [
              "(3150,)"
            ]
          },
          "metadata": {
            "tags": []
          },
          "execution_count": 41
        }
      ]
    },
    {
      "cell_type": "code",
      "metadata": {
        "id": "ZfbOI-RoVuZh",
        "colab_type": "code",
        "colab": {}
      },
      "source": [
        "from sklearn.model_selection import train_test_split\n",
        "X_train,X_test,y_train,y_test = train_test_split(X,y,test_size=0.2)"
      ],
      "execution_count": 0,
      "outputs": []
    },
    {
      "cell_type": "code",
      "metadata": {
        "id": "3iFZ-aEjV-ab",
        "colab_type": "code",
        "colab": {
          "base_uri": "https://localhost:8080/",
          "height": 34
        },
        "outputId": "e70b1c55-7452-4a71-c2eb-09970a373248"
      },
      "source": [
        "X_train.shape"
      ],
      "execution_count": 43,
      "outputs": [
        {
          "output_type": "execute_result",
          "data": {
            "text/plain": [
              "(2520, 4059)"
            ]
          },
          "metadata": {
            "tags": []
          },
          "execution_count": 43
        }
      ]
    },
    {
      "cell_type": "code",
      "metadata": {
        "id": "Ia_EQXWYWB5D",
        "colab_type": "code",
        "colab": {
          "base_uri": "https://localhost:8080/",
          "height": 34
        },
        "outputId": "a456bfef-9edb-4909-f120-1757fdf4dd6f"
      },
      "source": [
        "X_test.shape"
      ],
      "execution_count": 44,
      "outputs": [
        {
          "output_type": "execute_result",
          "data": {
            "text/plain": [
              "(630, 4059)"
            ]
          },
          "metadata": {
            "tags": []
          },
          "execution_count": 44
        }
      ]
    },
    {
      "cell_type": "code",
      "metadata": {
        "id": "YLnVFEH-WFCE",
        "colab_type": "code",
        "colab": {}
      },
      "source": [
        "ANN_classifier = tf.keras.models.Sequential()\n",
        "ANN_classifier.add(tf.keras.layers.Dense(units=400, activation='relu',input_shape=(4059,)))\n",
        "ANN_classifier.add(tf.keras.layers.Dense(units=400, activation='relu'))\n",
        "ANN_classifier.add(tf.keras.layers.Dense(units=1,activation='sigmoid'))"
      ],
      "execution_count": 0,
      "outputs": []
    },
    {
      "cell_type": "code",
      "metadata": {
        "id": "F6MpoIWvWPU_",
        "colab_type": "code",
        "colab": {
          "base_uri": "https://localhost:8080/",
          "height": 252
        },
        "outputId": "9f46dfb8-9e0e-4672-a6b1-c5d4f881a1f7"
      },
      "source": [
        "ANN_classifier.summary()"
      ],
      "execution_count": 48,
      "outputs": [
        {
          "output_type": "stream",
          "text": [
            "Model: \"sequential_1\"\n",
            "_________________________________________________________________\n",
            "Layer (type)                 Output Shape              Param #   \n",
            "=================================================================\n",
            "dense (Dense)                (None, 400)               1624000   \n",
            "_________________________________________________________________\n",
            "dense_1 (Dense)              (None, 400)               160400    \n",
            "_________________________________________________________________\n",
            "dense_2 (Dense)              (None, 1)                 401       \n",
            "=================================================================\n",
            "Total params: 1,784,801\n",
            "Trainable params: 1,784,801\n",
            "Non-trainable params: 0\n",
            "_________________________________________________________________\n"
          ],
          "name": "stdout"
        }
      ]
    },
    {
      "cell_type": "code",
      "metadata": {
        "id": "jrSLvFoIXAsr",
        "colab_type": "code",
        "colab": {}
      },
      "source": [
        "# Read what is binary_crossentropy and , metrics accuracy\n",
        "ANN_classifier.compile(optimizer='Adam', loss ='binary_crossentropy',metrics = ['accuracy'])"
      ],
      "execution_count": 0,
      "outputs": []
    },
    {
      "cell_type": "code",
      "metadata": {
        "id": "kP32YPRCXWlO",
        "colab_type": "code",
        "colab": {
          "base_uri": "https://localhost:8080/",
          "height": 353
        },
        "outputId": "3b4f7b6a-20c6-4f68-b4db-41b972bceae1"
      },
      "source": [
        "epochs_hist = ANN_classifier.fit(X_train,y_train,epochs = 10)"
      ],
      "execution_count": 55,
      "outputs": [
        {
          "output_type": "stream",
          "text": [
            "Epoch 1/10\n",
            "2520/2520 [==============================] - 2s 698us/sample - loss: 0.2718 - accuracy: 0.9063\n",
            "Epoch 2/10\n",
            "2520/2520 [==============================] - 2s 636us/sample - loss: 0.0886 - accuracy: 0.9651\n",
            "Epoch 3/10\n",
            "2520/2520 [==============================] - 2s 629us/sample - loss: 0.0362 - accuracy: 0.9877\n",
            "Epoch 4/10\n",
            "2520/2520 [==============================] - 2s 631us/sample - loss: 0.0214 - accuracy: 0.9921\n",
            "Epoch 5/10\n",
            "2520/2520 [==============================] - 2s 619us/sample - loss: 0.0189 - accuracy: 0.9929\n",
            "Epoch 6/10\n",
            "2520/2520 [==============================] - 2s 651us/sample - loss: 0.0182 - accuracy: 0.9925\n",
            "Epoch 7/10\n",
            "2520/2520 [==============================] - 2s 626us/sample - loss: 0.0177 - accuracy: 0.9929\n",
            "Epoch 8/10\n",
            "2520/2520 [==============================] - 2s 639us/sample - loss: 0.0160 - accuracy: 0.9933\n",
            "Epoch 9/10\n",
            "2520/2520 [==============================] - 2s 632us/sample - loss: 0.0169 - accuracy: 0.9929\n",
            "Epoch 10/10\n",
            "2520/2520 [==============================] - 2s 626us/sample - loss: 0.0172 - accuracy: 0.9933\n"
          ],
          "name": "stdout"
        }
      ]
    },
    {
      "cell_type": "markdown",
      "metadata": {
        "id": "9U6_Md5PYWqM",
        "colab_type": "text"
      },
      "source": [
        "# Evaluate the model"
      ]
    },
    {
      "cell_type": "code",
      "metadata": {
        "id": "eBlDDr45Xu1x",
        "colab_type": "code",
        "colab": {
          "base_uri": "https://localhost:8080/",
          "height": 134
        },
        "outputId": "ad212dda-cdf4-4899-9034-9f8e81a990bf"
      },
      "source": [
        "y_predict_train = ANN_classifier.predict(X_train)\n",
        "y_predict_train"
      ],
      "execution_count": 56,
      "outputs": [
        {
          "output_type": "execute_result",
          "data": {
            "text/plain": [
              "array([[0.9999996 ],\n",
              "       [0.00144842],\n",
              "       [1.        ],\n",
              "       ...,\n",
              "       [1.        ],\n",
              "       [0.00351018],\n",
              "       [1.        ]], dtype=float32)"
            ]
          },
          "metadata": {
            "tags": []
          },
          "execution_count": 56
        }
      ]
    },
    {
      "cell_type": "code",
      "metadata": {
        "id": "eqMureXBYu0Q",
        "colab_type": "code",
        "colab": {}
      },
      "source": [
        "y_predict_train = (y_predict_train > 0.5)"
      ],
      "execution_count": 0,
      "outputs": []
    },
    {
      "cell_type": "code",
      "metadata": {
        "id": "pzj8pnFcY53U",
        "colab_type": "code",
        "colab": {
          "base_uri": "https://localhost:8080/",
          "height": 134
        },
        "outputId": "059fad46-4ff0-492b-8a8a-c2badf986449"
      },
      "source": [
        "y_predict_train"
      ],
      "execution_count": 58,
      "outputs": [
        {
          "output_type": "execute_result",
          "data": {
            "text/plain": [
              "array([[ True],\n",
              "       [False],\n",
              "       [ True],\n",
              "       ...,\n",
              "       [ True],\n",
              "       [False],\n",
              "       [ True]])"
            ]
          },
          "metadata": {
            "tags": []
          },
          "execution_count": 58
        }
      ]
    },
    {
      "cell_type": "code",
      "metadata": {
        "id": "d8V8cb46Y8bL",
        "colab_type": "code",
        "colab": {
          "base_uri": "https://localhost:8080/",
          "height": 286
        },
        "outputId": "799009dc-a226-4d81-8e4c-42da9ddd1882"
      },
      "source": [
        "from sklearn.metrics import confusion_matrix\n",
        "cm = confusion_matrix(y_train,y_predict_train)\n",
        "sns.heatmap(cm,annot= True)"
      ],
      "execution_count": 60,
      "outputs": [
        {
          "output_type": "execute_result",
          "data": {
            "text/plain": [
              "<matplotlib.axes._subplots.AxesSubplot at 0x7f38b01be4e0>"
            ]
          },
          "metadata": {
            "tags": []
          },
          "execution_count": 60
        },
        {
          "output_type": "display_data",
          "data": {
            "image/png": "[encoded data removed]",
            "text/plain": [
              "<Figure size 432x288 with 2 Axes>"
            ]
          },
          "metadata": {
            "tags": []
          }
        }
      ]
    },
    {
      "cell_type": "code",
      "metadata": {
        "id": "rRJ-5rrrZEK7",
        "colab_type": "code",
        "colab": {
          "base_uri": "https://localhost:8080/",
          "height": 1000
        },
        "outputId": "16e886c1-ccc8-43a7-9fb8-b8e72ddae528"
      },
      "source": [
        "#Now doing eith test data\n",
        "y_predict_test = ANN_classifier.predict(X_test)\n",
        "y_predict_test"
      ],
      "execution_count": 61,
      "outputs": [
        {
          "output_type": "execute_result",
          "data": {
            "text/plain": [
              "array([[9.99642074e-01],\n",
              "       [8.58055949e-01],\n",
              "       [9.99996424e-01],\n",
              "       [1.00000000e+00],\n",
              "       [1.00000000e+00],\n",
              "       [9.99854803e-01],\n",
              "       [1.00000000e+00],\n",
              "       [1.00000000e+00],\n",
              "       [9.99985278e-01],\n",
              "       [9.99998808e-01],\n",
              "       [1.00000000e+00],\n",
              "       [9.99997497e-01],\n",
              "       [1.00000000e+00],\n",
              "       [9.99998927e-01],\n",
              "       [1.00000000e+00],\n",
              "       [9.98381257e-01],\n",
              "       [9.99999881e-01],\n",
              "       [1.00000000e+00],\n",
              "       [9.99969482e-01],\n",
              "       [1.00000000e+00],\n",
              "       [9.93890405e-01],\n",
              "       [9.51058924e-01],\n",
              "       [9.99999046e-01],\n",
              "       [9.99998093e-01],\n",
              "       [1.07538700e-03],\n",
              "       [9.99996543e-01],\n",
              "       [9.99998629e-01],\n",
              "       [9.99999285e-01],\n",
              "       [1.00000000e+00],\n",
              "       [1.00000000e+00],\n",
              "       [9.99704421e-01],\n",
              "       [9.99977052e-01],\n",
              "       [9.99998331e-01],\n",
              "       [9.99999881e-01],\n",
              "       [8.58055949e-01],\n",
              "       [1.00000000e+00],\n",
              "       [9.99999642e-01],\n",
              "       [9.99998689e-01],\n",
              "       [1.00000000e+00],\n",
              "       [9.83637094e-01],\n",
              "       [9.99935210e-01],\n",
              "       [1.00000000e+00],\n",
              "       [9.99999881e-01],\n",
              "       [9.99998450e-01],\n",
              "       [9.99995112e-01],\n",
              "       [1.00000000e+00],\n",
              "       [1.14679337e-04],\n",
              "       [9.99999881e-01],\n",
              "       [1.00000000e+00],\n",
              "       [1.00000000e+00],\n",
              "       [9.99999881e-01],\n",
              "       [9.99997377e-01],\n",
              "       [1.00000000e+00],\n",
              "       [9.93160009e-01],\n",
              "       [9.99948323e-01],\n",
              "       [9.99988079e-01],\n",
              "       [1.00000000e+00],\n",
              "       [1.00000000e+00],\n",
              "       [9.99996841e-01],\n",
              "       [9.92952347e-01],\n",
              "       [9.99997914e-01],\n",
              "       [1.00000000e+00],\n",
              "       [1.00000000e+00],\n",
              "       [1.00000000e+00],\n",
              "       [9.99886274e-01],\n",
              "       [9.99930501e-01],\n",
              "       [1.00291193e-01],\n",
              "       [9.51058924e-01],\n",
              "       [9.99975920e-01],\n",
              "       [9.99998569e-01],\n",
              "       [9.99982715e-01],\n",
              "       [9.99999762e-01],\n",
              "       [1.00000000e+00],\n",
              "       [1.00000000e+00],\n",
              "       [8.89394045e-01],\n",
              "       [1.00000000e+00],\n",
              "       [1.00000000e+00],\n",
              "       [9.97608304e-01],\n",
              "       [1.45079494e-02],\n",
              "       [9.99654531e-01],\n",
              "       [9.99940634e-01],\n",
              "       [1.00000000e+00],\n",
              "       [9.99715090e-01],\n",
              "       [9.02004361e-01],\n",
              "       [1.00000000e+00],\n",
              "       [9.99990523e-01],\n",
              "       [1.00000000e+00],\n",
              "       [9.99999881e-01],\n",
              "       [9.84927297e-01],\n",
              "       [1.00000000e+00],\n",
              "       [2.09683180e-03],\n",
              "       [9.51058924e-01],\n",
              "       [9.99999642e-01],\n",
              "       [9.96771574e-01],\n",
              "       [9.99722123e-01],\n",
              "       [1.00000000e+00],\n",
              "       [9.99940932e-01],\n",
              "       [1.00000000e+00],\n",
              "       [9.99999881e-01],\n",
              "       [9.99957919e-01],\n",
              "       [1.00000000e+00],\n",
              "       [9.99998987e-01],\n",
              "       [9.99998152e-01],\n",
              "       [9.99999344e-01],\n",
              "       [9.99999762e-01],\n",
              "       [9.99998331e-01],\n",
              "       [1.00000000e+00],\n",
              "       [1.00000000e+00],\n",
              "       [9.93979931e-01],\n",
              "       [9.99999762e-01],\n",
              "       [1.00000000e+00],\n",
              "       [9.89209652e-01],\n",
              "       [1.00000000e+00],\n",
              "       [9.99999166e-01],\n",
              "       [1.00000000e+00],\n",
              "       [1.00000000e+00],\n",
              "       [1.81900531e-01],\n",
              "       [9.99894142e-01],\n",
              "       [9.99999762e-01],\n",
              "       [1.00000000e+00],\n",
              "       [9.99969006e-01],\n",
              "       [9.99985933e-01],\n",
              "       [9.99996543e-01],\n",
              "       [1.00000000e+00],\n",
              "       [1.00000000e+00],\n",
              "       [1.00000000e+00],\n",
              "       [1.00000000e+00],\n",
              "       [1.00000000e+00],\n",
              "       [9.99921143e-01],\n",
              "       [1.00000000e+00],\n",
              "       [1.00000000e+00],\n",
              "       [9.99999285e-01],\n",
              "       [9.99994695e-01],\n",
              "       [1.00000000e+00],\n",
              "       [1.00000000e+00],\n",
              "       [8.76301229e-01],\n",
              "       [1.00000000e+00],\n",
              "       [1.00000000e+00],\n",
              "       [1.00000000e+00],\n",
              "       [1.00000000e+00],\n",
              "       [9.99996662e-01],\n",
              "       [9.99990344e-01],\n",
              "       [1.00000000e+00],\n",
              "       [4.24921215e-02],\n",
              "       [1.00000000e+00],\n",
              "       [9.98455167e-01],\n",
              "       [1.00000000e+00],\n",
              "       [9.99996066e-01],\n",
              "       [9.99999881e-01],\n",
              "       [9.99943376e-01],\n",
              "       [1.00000000e+00],\n",
              "       [9.99999881e-01],\n",
              "       [1.00000000e+00],\n",
              "       [1.00000000e+00],\n",
              "       [1.00000000e+00],\n",
              "       [5.96046448e-08],\n",
              "       [1.00000000e+00],\n",
              "       [9.99999881e-01],\n",
              "       [1.00000000e+00],\n",
              "       [1.00000000e+00],\n",
              "       [9.99991059e-01],\n",
              "       [1.00000000e+00],\n",
              "       [1.00000000e+00],\n",
              "       [6.00293458e-01],\n",
              "       [9.99999166e-01],\n",
              "       [1.00000000e+00],\n",
              "       [1.00000000e+00],\n",
              "       [1.00000000e+00],\n",
              "       [1.00000000e+00],\n",
              "       [1.00000000e+00],\n",
              "       [9.99999881e-01],\n",
              "       [1.00000000e+00],\n",
              "       [9.99998927e-01],\n",
              "       [9.99661446e-01],\n",
              "       [1.00000000e+00],\n",
              "       [9.99969780e-01],\n",
              "       [9.99998093e-01],\n",
              "       [9.99997318e-01],\n",
              "       [9.99999523e-01],\n",
              "       [1.00000000e+00],\n",
              "       [7.92065620e-01],\n",
              "       [9.99999285e-01],\n",
              "       [9.99963403e-01],\n",
              "       [3.69548798e-05],\n",
              "       [2.16238797e-02],\n",
              "       [8.32036138e-01],\n",
              "       [1.94750428e-02],\n",
              "       [1.00000000e+00],\n",
              "       [9.99982834e-01],\n",
              "       [9.99986053e-01],\n",
              "       [1.00000000e+00],\n",
              "       [1.00000000e+00],\n",
              "       [1.00000000e+00],\n",
              "       [9.99999285e-01],\n",
              "       [9.99998868e-01],\n",
              "       [1.00000000e+00],\n",
              "       [9.99892592e-01],\n",
              "       [9.99907732e-01],\n",
              "       [1.00000000e+00],\n",
              "       [1.00000000e+00],\n",
              "       [9.99980927e-01],\n",
              "       [9.99978900e-01],\n",
              "       [1.00000000e+00],\n",
              "       [1.00000000e+00],\n",
              "       [9.99998987e-01],\n",
              "       [9.99938309e-01],\n",
              "       [6.43378496e-03],\n",
              "       [9.99998689e-01],\n",
              "       [1.00000000e+00],\n",
              "       [1.00000000e+00],\n",
              "       [9.99999762e-01],\n",
              "       [1.00000000e+00],\n",
              "       [9.99551117e-01],\n",
              "       [9.99976635e-01],\n",
              "       [1.00000000e+00],\n",
              "       [1.00000000e+00],\n",
              "       [9.99929309e-01],\n",
              "       [1.00000000e+00],\n",
              "       [9.99990821e-01],\n",
              "       [1.00000000e+00],\n",
              "       [9.99999821e-01],\n",
              "       [9.99999881e-01],\n",
              "       [9.99993324e-01],\n",
              "       [1.00000000e+00],\n",
              "       [9.99999046e-01],\n",
              "       [1.00000000e+00],\n",
              "       [9.99999583e-01],\n",
              "       [1.00000000e+00],\n",
              "       [1.00000000e+00],\n",
              "       [9.99839902e-01],\n",
              "       [9.99993503e-01],\n",
              "       [9.99999762e-01],\n",
              "       [1.00000000e+00],\n",
              "       [1.00000000e+00],\n",
              "       [9.99995232e-01],\n",
              "       [1.00000000e+00],\n",
              "       [1.00000000e+00],\n",
              "       [9.99922872e-01],\n",
              "       [9.99631763e-01],\n",
              "       [9.99985278e-01],\n",
              "       [9.99996305e-01],\n",
              "       [9.99993086e-01],\n",
              "       [9.99996424e-01],\n",
              "       [1.00000000e+00],\n",
              "       [9.99999881e-01],\n",
              "       [9.99994338e-01],\n",
              "       [1.00000000e+00],\n",
              "       [9.99989390e-01],\n",
              "       [1.00000000e+00],\n",
              "       [1.00000000e+00],\n",
              "       [9.99793172e-01],\n",
              "       [9.99963582e-01],\n",
              "       [1.00000000e+00],\n",
              "       [9.98141110e-01],\n",
              "       [9.99999821e-01],\n",
              "       [9.85874534e-01],\n",
              "       [1.00000000e+00],\n",
              "       [9.99999642e-01],\n",
              "       [1.00000000e+00],\n",
              "       [1.00000000e+00],\n",
              "       [1.00000000e+00],\n",
              "       [1.00000000e+00],\n",
              "       [9.99456763e-01],\n",
              "       [9.99450564e-01],\n",
              "       [1.00000000e+00],\n",
              "       [9.99959052e-01],\n",
              "       [1.00000000e+00],\n",
              "       [9.99935210e-01],\n",
              "       [9.98425841e-01],\n",
              "       [9.99998569e-01],\n",
              "       [1.00000000e+00],\n",
              "       [9.99983549e-01],\n",
              "       [1.00000000e+00],\n",
              "       [9.99975502e-01],\n",
              "       [1.00000000e+00],\n",
              "       [1.00000000e+00],\n",
              "       [9.99999881e-01],\n",
              "       [9.99463260e-01],\n",
              "       [1.00000000e+00],\n",
              "       [1.00000000e+00],\n",
              "       [9.99985218e-01],\n",
              "       [1.00000000e+00],\n",
              "       [9.99999940e-01],\n",
              "       [1.00000000e+00],\n",
              "       [9.99996722e-01],\n",
              "       [1.00000000e+00],\n",
              "       [1.00000000e+00],\n",
              "       [9.99999940e-01],\n",
              "       [9.99997497e-01],\n",
              "       [9.99963760e-01],\n",
              "       [9.99636412e-01],\n",
              "       [1.00000000e+00],\n",
              "       [1.00000000e+00],\n",
              "       [9.99630809e-01],\n",
              "       [9.98200417e-01],\n",
              "       [9.99999762e-01],\n",
              "       [9.99970496e-01],\n",
              "       [1.00000000e+00],\n",
              "       [1.00000000e+00],\n",
              "       [9.99991417e-01],\n",
              "       [9.99987662e-01],\n",
              "       [9.99844909e-01],\n",
              "       [6.23721480e-01],\n",
              "       [1.00000000e+00],\n",
              "       [1.00000000e+00],\n",
              "       [7.10804880e-01],\n",
              "       [9.94840026e-01],\n",
              "       [1.64860487e-03],\n",
              "       [1.00000000e+00],\n",
              "       [1.00000000e+00],\n",
              "       [9.99941885e-01],\n",
              "       [7.91063786e-01],\n",
              "       [9.99996185e-01],\n",
              "       [1.00000000e+00],\n",
              "       [9.46873188e-01],\n",
              "       [1.00000000e+00],\n",
              "       [1.00000000e+00],\n",
              "       [7.91289508e-01],\n",
              "       [9.51058924e-01],\n",
              "       [9.99999762e-01],\n",
              "       [6.55957162e-02],\n",
              "       [9.99998689e-01],\n",
              "       [9.32440042e-01],\n",
              "       [9.99897361e-01],\n",
              "       [9.99999881e-01],\n",
              "       [1.00000000e+00],\n",
              "       [1.00000000e+00],\n",
              "       [9.99663591e-01],\n",
              "       [8.45700502e-03],\n",
              "       [9.99998093e-01],\n",
              "       [9.99992967e-01],\n",
              "       [9.99897361e-01],\n",
              "       [1.00000000e+00],\n",
              "       [6.08961701e-01],\n",
              "       [1.00000000e+00],\n",
              "       [9.99930918e-01],\n",
              "       [1.00000000e+00],\n",
              "       [1.00000000e+00],\n",
              "       [1.00000000e+00],\n",
              "       [9.99999881e-01],\n",
              "       [1.00000000e+00],\n",
              "       [9.99987245e-01],\n",
              "       [1.00000000e+00],\n",
              "       [4.79429960e-04],\n",
              "       [1.00000000e+00],\n",
              "       [9.99992967e-01],\n",
              "       [8.00818205e-04],\n",
              "       [1.00000000e+00],\n",
              "       [9.99825060e-01],\n",
              "       [9.99995112e-01],\n",
              "       [1.00000000e+00],\n",
              "       [9.99923348e-01],\n",
              "       [1.00000000e+00],\n",
              "       [1.00000000e+00],\n",
              "       [1.00000000e+00],\n",
              "       [1.00000000e+00],\n",
              "       [1.00000000e+00],\n",
              "       [3.31908464e-03],\n",
              "       [9.97698009e-01],\n",
              "       [9.99980152e-01],\n",
              "       [1.00000000e+00],\n",
              "       [9.99999881e-01],\n",
              "       [9.99999762e-01],\n",
              "       [9.99942303e-01],\n",
              "       [9.99566436e-01],\n",
              "       [1.00000000e+00],\n",
              "       [9.99999642e-01],\n",
              "       [1.00000000e+00],\n",
              "       [9.98511851e-01],\n",
              "       [9.99936223e-01],\n",
              "       [9.98482287e-01],\n",
              "       [9.99721885e-01],\n",
              "       [1.00000000e+00],\n",
              "       [1.00000000e+00],\n",
              "       [9.99999046e-01],\n",
              "       [9.99999881e-01],\n",
              "       [9.99965191e-01],\n",
              "       [1.00000000e+00],\n",
              "       [1.00000000e+00],\n",
              "       [1.00000000e+00],\n",
              "       [1.00000000e+00],\n",
              "       [9.99998152e-01],\n",
              "       [1.00000000e+00],\n",
              "       [9.99999583e-01],\n",
              "       [9.97608304e-01],\n",
              "       [9.99935210e-01],\n",
              "       [9.99984562e-01],\n",
              "       [9.99880314e-01],\n",
              "       [1.00000000e+00],\n",
              "       [1.00000000e+00],\n",
              "       [8.32036138e-01],\n",
              "       [9.76628304e-01],\n",
              "       [8.32036138e-01],\n",
              "       [1.00000000e+00],\n",
              "       [9.99757349e-01],\n",
              "       [1.00000000e+00],\n",
              "       [1.00000000e+00],\n",
              "       [9.99525309e-01],\n",
              "       [9.99978542e-01],\n",
              "       [9.99999881e-01],\n",
              "       [9.99999881e-01],\n",
              "       [1.00000000e+00],\n",
              "       [1.00000000e+00],\n",
              "       [9.99998450e-01],\n",
              "       [9.99919295e-01],\n",
              "       [9.99999881e-01],\n",
              "       [1.14070117e-01],\n",
              "       [1.00000000e+00],\n",
              "       [1.00000000e+00],\n",
              "       [1.00000000e+00],\n",
              "       [1.97022229e-01],\n",
              "       [1.00000000e+00],\n",
              "       [1.00000000e+00],\n",
              "       [1.00000000e+00],\n",
              "       [1.00000000e+00],\n",
              "       [1.00000000e+00],\n",
              "       [1.00000000e+00],\n",
              "       [1.00000000e+00],\n",
              "       [1.00000000e+00],\n",
              "       [9.99999404e-01],\n",
              "       [9.99994159e-01],\n",
              "       [9.99921083e-01],\n",
              "       [9.99999523e-01],\n",
              "       [1.06847286e-01],\n",
              "       [9.99999881e-01],\n",
              "       [1.00000000e+00],\n",
              "       [9.99999046e-01],\n",
              "       [1.00000000e+00],\n",
              "       [1.00000000e+00],\n",
              "       [1.00000000e+00],\n",
              "       [9.99927640e-01],\n",
              "       [9.99890208e-01],\n",
              "       [9.99301076e-01],\n",
              "       [1.00000000e+00],\n",
              "       [9.99987364e-01],\n",
              "       [1.00000000e+00],\n",
              "       [1.00000000e+00],\n",
              "       [1.00000000e+00],\n",
              "       [1.73939109e-01],\n",
              "       [9.99849081e-01],\n",
              "       [9.46117520e-01],\n",
              "       [9.99597549e-01],\n",
              "       [9.99999344e-01],\n",
              "       [1.00000000e+00],\n",
              "       [1.00000000e+00],\n",
              "       [9.99982476e-01],\n",
              "       [9.99902129e-01],\n",
              "       [9.99999225e-01],\n",
              "       [9.99962926e-01],\n",
              "       [1.00000000e+00],\n",
              "       [1.39474869e-05],\n",
              "       [9.99999881e-01],\n",
              "       [1.63885057e-01],\n",
              "       [9.99722123e-01],\n",
              "       [1.00000000e+00],\n",
              "       [9.37193632e-04],\n",
              "       [1.00000000e+00],\n",
              "       [9.99998808e-01],\n",
              "       [1.00000000e+00],\n",
              "       [1.00000000e+00],\n",
              "       [9.99985695e-01],\n",
              "       [1.00000000e+00],\n",
              "       [9.99486208e-01],\n",
              "       [9.26852226e-06],\n",
              "       [9.55736756e-01],\n",
              "       [1.00000000e+00],\n",
              "       [7.42042959e-01],\n",
              "       [9.99635339e-01],\n",
              "       [1.00000000e+00],\n",
              "       [9.99997497e-01],\n",
              "       [1.00000000e+00],\n",
              "       [9.99875426e-01],\n",
              "       [1.00000000e+00],\n",
              "       [9.99475360e-01],\n",
              "       [9.99999225e-01],\n",
              "       [9.99986053e-01],\n",
              "       [8.76301229e-01],\n",
              "       [1.00000000e+00],\n",
              "       [9.99439120e-01],\n",
              "       [1.00000000e+00],\n",
              "       [9.99999523e-01],\n",
              "       [1.00000000e+00],\n",
              "       [9.99904633e-01],\n",
              "       [9.95788574e-01],\n",
              "       [1.00000000e+00],\n",
              "       [9.43266630e-01],\n",
              "       [1.00000000e+00],\n",
              "       [1.00000000e+00],\n",
              "       [9.99979019e-01],\n",
              "       [9.99981761e-01],\n",
              "       [1.00000000e+00],\n",
              "       [9.96699929e-01],\n",
              "       [1.00000000e+00],\n",
              "       [9.41035032e-01],\n",
              "       [1.00000000e+00],\n",
              "       [1.00000000e+00],\n",
              "       [1.00000000e+00],\n",
              "       [9.99890089e-01],\n",
              "       [1.00000000e+00],\n",
              "       [9.99999881e-01],\n",
              "       [9.99999166e-01],\n",
              "       [9.99999762e-01],\n",
              "       [9.99797583e-01],\n",
              "       [9.99971211e-01],\n",
              "       [9.99994040e-01],\n",
              "       [9.99995232e-01],\n",
              "       [7.20928311e-01],\n",
              "       [9.99884844e-01],\n",
              "       [9.99999642e-01],\n",
              "       [1.00000000e+00],\n",
              "       [9.99998569e-01],\n",
              "       [1.00000000e+00],\n",
              "       [1.00000000e+00],\n",
              "       [9.99547482e-01],\n",
              "       [9.98528361e-01],\n",
              "       [1.00000000e+00],\n",
              "       [9.99436617e-01],\n",
              "       [9.92952347e-01],\n",
              "       [9.51058924e-01],\n",
              "       [9.99902964e-01],\n",
              "       [9.99937057e-01],\n",
              "       [1.00000000e+00],\n",
              "       [1.00000000e+00],\n",
              "       [1.00000000e+00],\n",
              "       [1.00000000e+00],\n",
              "       [9.99993086e-01],\n",
              "       [9.99980927e-01],\n",
              "       [1.00000000e+00],\n",
              "       [1.00000000e+00],\n",
              "       [1.00000000e+00],\n",
              "       [9.99999881e-01],\n",
              "       [9.99987900e-01],\n",
              "       [1.00000000e+00],\n",
              "       [1.00000000e+00],\n",
              "       [1.00000000e+00],\n",
              "       [9.99999940e-01],\n",
              "       [1.00000000e+00],\n",
              "       [9.99978304e-01],\n",
              "       [9.99999940e-01],\n",
              "       [1.00000000e+00],\n",
              "       [1.00000000e+00],\n",
              "       [9.99821663e-01],\n",
              "       [9.99996543e-01],\n",
              "       [9.99991059e-01],\n",
              "       [1.00000000e+00],\n",
              "       [1.00000000e+00],\n",
              "       [9.99996424e-01],\n",
              "       [1.00000000e+00],\n",
              "       [9.99996662e-01],\n",
              "       [2.26438046e-04],\n",
              "       [1.00000000e+00],\n",
              "       [1.00000000e+00],\n",
              "       [3.08676064e-01],\n",
              "       [9.99969006e-01],\n",
              "       [9.99947309e-01],\n",
              "       [1.00000000e+00],\n",
              "       [9.99999225e-01],\n",
              "       [9.99999166e-01],\n",
              "       [1.00000000e+00],\n",
              "       [9.99799848e-01],\n",
              "       [8.73457313e-01],\n",
              "       [1.00000000e+00],\n",
              "       [1.00000000e+00],\n",
              "       [9.99963045e-01],\n",
              "       [9.46873188e-01],\n",
              "       [9.99999821e-01],\n",
              "       [1.00000000e+00],\n",
              "       [1.00000000e+00],\n",
              "       [9.99947309e-01],\n",
              "       [9.98200417e-01],\n",
              "       [9.50013041e-01],\n",
              "       [9.99999881e-01],\n",
              "       [9.99999046e-01],\n",
              "       [1.00000000e+00],\n",
              "       [1.00000000e+00],\n",
              "       [1.00000000e+00],\n",
              "       [1.39116853e-01],\n",
              "       [9.99999821e-01],\n",
              "       [1.00000000e+00],\n",
              "       [9.99998212e-01],\n",
              "       [9.99999046e-01],\n",
              "       [1.00000000e+00],\n",
              "       [9.99963045e-01],\n",
              "       [9.99361575e-01],\n",
              "       [1.00000000e+00],\n",
              "       [9.99988198e-01],\n",
              "       [1.00000000e+00],\n",
              "       [9.99341309e-01],\n",
              "       [1.00000000e+00],\n",
              "       [9.84889627e-01],\n",
              "       [1.00000000e+00],\n",
              "       [1.00000000e+00],\n",
              "       [9.67182279e-01],\n",
              "       [9.99997258e-01],\n",
              "       [9.99999881e-01],\n",
              "       [9.99988794e-01],\n",
              "       [1.00000000e+00],\n",
              "       [9.99999940e-01],\n",
              "       [9.99794602e-01],\n",
              "       [9.99991715e-01],\n",
              "       [9.99815524e-01],\n",
              "       [9.93890405e-01],\n",
              "       [9.86401677e-01],\n",
              "       [9.99999821e-01],\n",
              "       [7.92065620e-01],\n",
              "       [9.99999404e-01],\n",
              "       [1.00000000e+00],\n",
              "       [9.99963760e-01],\n",
              "       [9.99999881e-01],\n",
              "       [1.00000000e+00],\n",
              "       [9.99999762e-01],\n",
              "       [9.99999881e-01],\n",
              "       [1.00000000e+00],\n",
              "       [9.99600828e-01],\n",
              "       [9.99993324e-01],\n",
              "       [9.99998212e-01],\n",
              "       [1.00000000e+00],\n",
              "       [9.99999702e-01],\n",
              "       [9.39352751e-01],\n",
              "       [9.99996066e-01],\n",
              "       [1.00000000e+00],\n",
              "       [1.00000000e+00],\n",
              "       [9.99916673e-01],\n",
              "       [1.00000000e+00],\n",
              "       [9.99997735e-01],\n",
              "       [1.00000000e+00],\n",
              "       [1.00000000e+00],\n",
              "       [1.00000000e+00],\n",
              "       [1.00000000e+00],\n",
              "       [1.00000000e+00]], dtype=float32)"
            ]
          },
          "metadata": {
            "tags": []
          },
          "execution_count": 61
        }
      ]
    },
    {
      "cell_type": "code",
      "metadata": {
        "id": "M0gp06JlZ4In",
        "colab_type": "code",
        "colab": {}
      },
      "source": [
        "y_predict_test = (y_predict_test > 0.5)"
      ],
      "execution_count": 0,
      "outputs": []
    },
    {
      "cell_type": "code",
      "metadata": {
        "id": "xGveBqV0Z9oo",
        "colab_type": "code",
        "colab": {
          "base_uri": "https://localhost:8080/",
          "height": 286
        },
        "outputId": "41f41753-831a-45bc-8390-7fe0c3a86df9"
      },
      "source": [
        "from sklearn.metrics import confusion_matrix\n",
        "cm = confusion_matrix(y_test,y_predict_test)\n",
        "sns.heatmap(cm,annot= True)"
      ],
      "execution_count": 63,
      "outputs": [
        {
          "output_type": "execute_result",
          "data": {
            "text/plain": [
              "<matplotlib.axes._subplots.AxesSubplot at 0x7f38af68e048>"
            ]
          },
          "metadata": {
            "tags": []
          },
          "execution_count": 63
        },
        {
          "output_type": "display_data",
          "data": {
            "image/png": "[encoded data removed]",
            "text/plain": [
              "<Figure size 432x288 with 2 Axes>"
            ]
          },
          "metadata": {
            "tags": []
          }
        }
      ]
    },
    {
      "cell_type": "code",
      "metadata": {
        "id": "QkjTH9yAbKCx",
        "colab_type": "code",
        "colab": {
          "base_uri": "https://localhost:8080/",
          "height": 34
        },
        "outputId": "f566cc94-f963-48ec-9a9d-1b8228c96b8e"
      },
      "source": [
        "epochs_hist.history.keys()"
      ],
      "execution_count": 67,
      "outputs": [
        {
          "output_type": "execute_result",
          "data": {
            "text/plain": [
              "dict_keys(['loss', 'accuracy'])"
            ]
          },
          "metadata": {
            "tags": []
          },
          "execution_count": 67
        }
      ]
    },
    {
      "cell_type": "code",
      "metadata": {
        "id": "rrdlHGhKaDpp",
        "colab_type": "code",
        "colab": {
          "base_uri": "https://localhost:8080/",
          "height": 312
        },
        "outputId": "1045e2a3-89ea-47d0-9f6c-e34f2c079084"
      },
      "source": [
        "plt.plot(epochs_hist.history['loss'])\n",
        "\n",
        "plt.title('Model Loss Progress During Training')\n",
        "plt.xlabel('Epoch')\n",
        "plt.ylabel('Training Loss')\n",
        "plt.legend(['Training Loss'])"
      ],
      "execution_count": 68,
      "outputs": [
        {
          "output_type": "execute_result",
          "data": {
            "text/plain": [
              "<matplotlib.legend.Legend at 0x7f38af642128>"
            ]
          },
          "metadata": {
            "tags": []
          },
          "execution_count": 68
        },
        {
          "output_type": "display_data",
          "data": {
            "image/png": "[encoded data removed]",
            "text/plain": [
              "<Figure size 432x288 with 1 Axes>"
            ]
          },
          "metadata": {
            "tags": []
          }
        }
      ]
    },
    {
      "cell_type": "code",
      "metadata": {
        "id": "QPmkXzRRazQX",
        "colab_type": "code",
        "colab": {
          "base_uri": "https://localhost:8080/",
          "height": 312
        },
        "outputId": "e1512eb0-f3d7-474d-a84a-224643ce274d"
      },
      "source": [
        "plt.plot(epochs_hist.history['accuracy'])\n",
        "\n",
        "plt.title('Model Loss Progress During Training')\n",
        "plt.xlabel('Epoch')\n",
        "plt.ylabel('Training Accuracy')\n",
        "plt.legend(['Training Accuracy'])"
      ],
      "execution_count": 69,
      "outputs": [
        {
          "output_type": "execute_result",
          "data": {
            "text/plain": [
              "<matplotlib.legend.Legend at 0x7f38af574a20>"
            ]
          },
          "metadata": {
            "tags": []
          },
          "execution_count": 69
        },
        {
          "output_type": "display_data",
          "data": {
            "image/png": "[encoded data removed]",
            "text/plain": [
              "<Figure size 432x288 with 1 Axes>"
            ]
          },
          "metadata": {
            "tags": []
          }
        }
      ]
    },
    {
      "cell_type": "code",
      "metadata": {
        "id": "UJIdj8rXbjUk",
        "colab_type": "code",
        "colab": {}
      },
      "source": [
        ""
      ],
      "execution_count": 0,
      "outputs": []
    }
  ]
}