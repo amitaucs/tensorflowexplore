{
  "nbformat": 4,
  "nbformat_minor": 0,
  "metadata": {
    "colab": {
      "name": "Regression.ipynb",
      "provenance": [],
      "collapsed_sections": [],
      "include_colab_link": true
    },
    "kernelspec": {
      "name": "python3",
      "display_name": "Python 3"
    },
    "accelerator": "GPU"
  },
  "cells": [
    {
      "cell_type": "markdown",
      "metadata": {
        "id": "view-in-github",
        "colab_type": "text"
      },
      "source": [
        "<a href=\"https://colab.research.google.com/github/amitaucs/tensorflowexplore/blob/master/Regression.ipynb\" target=\"_parent\"><img src=\"https://colab.research.google.com/assets/colab-badge.svg\" alt=\"Open In Colab\"/></a>"
      ]
    },
    {
      "cell_type": "code",
      "metadata": {
        "id": "GrD8hW8GzaW6",
        "colab_type": "code",
        "colab": {
          "base_uri": "https://localhost:8080/",
          "height": 970
        },
        "outputId": "6fdae681-ff37-43ac-df52-fd4efa9a032e"
      },
      "source": [
        "!pip install tensorflow==2.0.0-alpha\n",
        "import tensorflow as tf"
      ],
      "execution_count": 1,
      "outputs": [
        {
          "output_type": "stream",
          "text": [
            "Collecting tensorflow==2.0.0-alpha\n",
            "\u001b[?25l  Downloading https://files.pythonhosted.org/packages/29/39/f99185d39131b8333afcfe1dcdb0629c2ffc4ecfb0e4c14ca210d620e56c/tensorflow-2.0.0a0-cp36-cp36m-manylinux1_x86_64.whl (79.9MB)\n",
            "\u001b[K     |████████████████████████████████| 79.9MB 122kB/s \n",
            "\u001b[?25hRequirement already satisfied: termcolor>=1.1.0 in /usr/local/lib/python3.6/dist-packages (from tensorflow==2.0.0-alpha) (1.1.0)\n",
            "Requirement already satisfied: grpcio>=1.8.6 in /usr/local/lib/python3.6/dist-packages (from tensorflow==2.0.0-alpha) (1.15.0)\n",
            "Requirement already satisfied: numpy<2.0,>=1.14.5 in /usr/local/lib/python3.6/dist-packages (from tensorflow==2.0.0-alpha) (1.17.3)\n",
            "Requirement already satisfied: keras-preprocessing>=1.0.5 in /usr/local/lib/python3.6/dist-packages (from tensorflow==2.0.0-alpha) (1.1.0)\n",
            "Requirement already satisfied: gast>=0.2.0 in /usr/local/lib/python3.6/dist-packages (from tensorflow==2.0.0-alpha) (0.2.2)\n",
            "Requirement already satisfied: google-pasta>=0.1.2 in /usr/local/lib/python3.6/dist-packages (from tensorflow==2.0.0-alpha) (0.1.7)\n",
            "Requirement already satisfied: six>=1.10.0 in /usr/local/lib/python3.6/dist-packages (from tensorflow==2.0.0-alpha) (1.12.0)\n",
            "Requirement already satisfied: astor>=0.6.0 in /usr/local/lib/python3.6/dist-packages (from tensorflow==2.0.0-alpha) (0.8.0)\n",
            "Requirement already satisfied: protobuf>=3.6.1 in /usr/local/lib/python3.6/dist-packages (from tensorflow==2.0.0-alpha) (3.10.0)\n",
            "Collecting tf-estimator-nightly<1.14.0.dev2019030116,>=1.14.0.dev2019030115\n",
            "\u001b[?25l  Downloading https://files.pythonhosted.org/packages/13/82/f16063b4eed210dc2ab057930ac1da4fbe1e91b7b051a6c8370b401e6ae7/tf_estimator_nightly-1.14.0.dev2019030115-py2.py3-none-any.whl (411kB)\n",
            "\u001b[K     |████████████████████████████████| 419kB 49.2MB/s \n",
            "\u001b[?25hCollecting tb-nightly<1.14.0a20190302,>=1.14.0a20190301\n",
            "\u001b[?25l  Downloading https://files.pythonhosted.org/packages/a9/51/aa1d756644bf4624c03844115e4ac4058eff77acd786b26315f051a4b195/tb_nightly-1.14.0a20190301-py3-none-any.whl (3.0MB)\n",
            "\u001b[K     |████████████████████████████████| 3.0MB 45.4MB/s \n",
            "\u001b[?25hRequirement already satisfied: wheel>=0.26 in /usr/local/lib/python3.6/dist-packages (from tensorflow==2.0.0-alpha) (0.33.6)\n",
            "Requirement already satisfied: absl-py>=0.7.0 in /usr/local/lib/python3.6/dist-packages (from tensorflow==2.0.0-alpha) (0.8.1)\n",
            "Requirement already satisfied: keras-applications>=1.0.6 in /usr/local/lib/python3.6/dist-packages (from tensorflow==2.0.0-alpha) (1.0.8)\n",
            "Requirement already satisfied: setuptools in /usr/local/lib/python3.6/dist-packages (from protobuf>=3.6.1->tensorflow==2.0.0-alpha) (41.4.0)\n",
            "Requirement already satisfied: markdown>=2.6.8 in /usr/local/lib/python3.6/dist-packages (from tb-nightly<1.14.0a20190302,>=1.14.0a20190301->tensorflow==2.0.0-alpha) (3.1.1)\n",
            "Requirement already satisfied: werkzeug>=0.11.15 in /usr/local/lib/python3.6/dist-packages (from tb-nightly<1.14.0a20190302,>=1.14.0a20190301->tensorflow==2.0.0-alpha) (0.16.0)\n",
            "Requirement already satisfied: h5py in /usr/local/lib/python3.6/dist-packages (from keras-applications>=1.0.6->tensorflow==2.0.0-alpha) (2.8.0)\n",
            "Installing collected packages: tf-estimator-nightly, tb-nightly, tensorflow\n",
            "  Found existing installation: tensorflow 1.15.0\n",
            "    Uninstalling tensorflow-1.15.0:\n",
            "      Successfully uninstalled tensorflow-1.15.0\n",
            "Successfully installed tb-nightly-1.14.0a20190301 tensorflow-2.0.0a0 tf-estimator-nightly-1.14.0.dev2019030115\n"
          ],
          "name": "stdout"
        },
        {
          "output_type": "stream",
          "text": [
            "/usr/local/lib/python3.6/dist-packages/tensorflow/python/framework/dtypes.py:523: FutureWarning: Passing (type, 1) or '1type' as a synonym of type is deprecated; in a future version of numpy, it will be understood as (type, (1,)) / '(1,)type'.\n",
            "  _np_qint8 = np.dtype([(\"qint8\", np.int8, 1)])\n",
            "/usr/local/lib/python3.6/dist-packages/tensorflow/python/framework/dtypes.py:524: FutureWarning: Passing (type, 1) or '1type' as a synonym of type is deprecated; in a future version of numpy, it will be understood as (type, (1,)) / '(1,)type'.\n",
            "  _np_quint8 = np.dtype([(\"quint8\", np.uint8, 1)])\n",
            "/usr/local/lib/python3.6/dist-packages/tensorflow/python/framework/dtypes.py:525: FutureWarning: Passing (type, 1) or '1type' as a synonym of type is deprecated; in a future version of numpy, it will be understood as (type, (1,)) / '(1,)type'.\n",
            "  _np_qint16 = np.dtype([(\"qint16\", np.int16, 1)])\n",
            "/usr/local/lib/python3.6/dist-packages/tensorflow/python/framework/dtypes.py:526: FutureWarning: Passing (type, 1) or '1type' as a synonym of type is deprecated; in a future version of numpy, it will be understood as (type, (1,)) / '(1,)type'.\n",
            "  _np_quint16 = np.dtype([(\"quint16\", np.uint16, 1)])\n",
            "/usr/local/lib/python3.6/dist-packages/tensorflow/python/framework/dtypes.py:527: FutureWarning: Passing (type, 1) or '1type' as a synonym of type is deprecated; in a future version of numpy, it will be understood as (type, (1,)) / '(1,)type'.\n",
            "  _np_qint32 = np.dtype([(\"qint32\", np.int32, 1)])\n",
            "/usr/local/lib/python3.6/dist-packages/tensorflow/python/framework/dtypes.py:532: FutureWarning: Passing (type, 1) or '1type' as a synonym of type is deprecated; in a future version of numpy, it will be understood as (type, (1,)) / '(1,)type'.\n",
            "  np_resource = np.dtype([(\"resource\", np.ubyte, 1)])\n",
            "/usr/local/lib/python3.6/dist-packages/tensorboard/compat/tensorflow_stub/dtypes.py:541: FutureWarning: Passing (type, 1) or '1type' as a synonym of type is deprecated; in a future version of numpy, it will be understood as (type, (1,)) / '(1,)type'.\n",
            "  _np_qint8 = np.dtype([(\"qint8\", np.int8, 1)])\n",
            "/usr/local/lib/python3.6/dist-packages/tensorboard/compat/tensorflow_stub/dtypes.py:542: FutureWarning: Passing (type, 1) or '1type' as a synonym of type is deprecated; in a future version of numpy, it will be understood as (type, (1,)) / '(1,)type'.\n",
            "  _np_quint8 = np.dtype([(\"quint8\", np.uint8, 1)])\n",
            "/usr/local/lib/python3.6/dist-packages/tensorboard/compat/tensorflow_stub/dtypes.py:543: FutureWarning: Passing (type, 1) or '1type' as a synonym of type is deprecated; in a future version of numpy, it will be understood as (type, (1,)) / '(1,)type'.\n",
            "  _np_qint16 = np.dtype([(\"qint16\", np.int16, 1)])\n",
            "/usr/local/lib/python3.6/dist-packages/tensorboard/compat/tensorflow_stub/dtypes.py:544: FutureWarning: Passing (type, 1) or '1type' as a synonym of type is deprecated; in a future version of numpy, it will be understood as (type, (1,)) / '(1,)type'.\n",
            "  _np_quint16 = np.dtype([(\"quint16\", np.uint16, 1)])\n",
            "/usr/local/lib/python3.6/dist-packages/tensorboard/compat/tensorflow_stub/dtypes.py:545: FutureWarning: Passing (type, 1) or '1type' as a synonym of type is deprecated; in a future version of numpy, it will be understood as (type, (1,)) / '(1,)type'.\n",
            "  _np_qint32 = np.dtype([(\"qint32\", np.int32, 1)])\n",
            "/usr/local/lib/python3.6/dist-packages/tensorboard/compat/tensorflow_stub/dtypes.py:550: FutureWarning: Passing (type, 1) or '1type' as a synonym of type is deprecated; in a future version of numpy, it will be understood as (type, (1,)) / '(1,)type'.\n",
            "  np_resource = np.dtype([(\"resource\", np.ubyte, 1)])\n"
          ],
          "name": "stderr"
        }
      ]
    },
    {
      "cell_type": "code",
      "metadata": {
        "id": "C16t_ljSzmew",
        "colab_type": "code",
        "colab": {}
      },
      "source": [
        "import numpy as np\n",
        "import pandas as pd\n",
        "import matplotlib.pyplot as plt\n",
        "\n"
      ],
      "execution_count": 0,
      "outputs": []
    },
    {
      "cell_type": "code",
      "metadata": {
        "id": "_P3V8RdX0hhI",
        "colab_type": "code",
        "colab": {}
      },
      "source": [
        ""
      ],
      "execution_count": 0,
      "outputs": []
    },
    {
      "cell_type": "code",
      "metadata": {
        "id": "KCc3ECAd18Vj",
        "colab_type": "code",
        "colab": {
          "base_uri": "https://localhost:8080/",
          "height": 124
        },
        "outputId": "f5da4a41-e35a-41f6-d324-f45a5f37efcb"
      },
      "source": [
        "from google.colab import drive\n",
        "drive.mount('/content/drive')"
      ],
      "execution_count": 3,
      "outputs": [
        {
          "output_type": "stream",
          "text": [
            "Go to this URL in a browser: https://accounts.google.com/o/oauth2/auth?client_id=947318989803-6bn6qk8qdgf4n4g3pfee6491hc0brc4i.apps.googleusercontent.com&redirect_uri=urn%3Aietf%3Awg%3Aoauth%3A2.0%3Aoob&scope=email%20https%3A%2F%2Fwww.googleapis.com%2Fauth%2Fdocs.test%20https%3A%2F%2Fwww.googleapis.com%2Fauth%2Fdrive%20https%3A%2F%2Fwww.googleapis.com%2Fauth%2Fdrive.photos.readonly%20https%3A%2F%2Fwww.googleapis.com%2Fauth%2Fpeopleapi.readonly&response_type=code\n",
            "\n",
            "Enter your authorization code:\n",
            "··········\n",
            "Mounted at /content/drive\n"
          ],
          "name": "stdout"
        }
      ]
    },
    {
      "cell_type": "code",
      "metadata": {
        "id": "dWkzL5lB19TJ",
        "colab_type": "code",
        "colab": {}
      },
      "source": [
        "data = pd.read_csv('/content/drive/My Drive/Colab Notebooks/moore.csv',header=None).values\n"
      ],
      "execution_count": 0,
      "outputs": []
    },
    {
      "cell_type": "code",
      "metadata": {
        "id": "VKJMyvmd2sfN",
        "colab_type": "code",
        "colab": {
          "base_uri": "https://localhost:8080/",
          "height": 1000
        },
        "outputId": "e0caabc1-cf40-4d9a-8d67-58e10ad72f93"
      },
      "source": [
        "data"
      ],
      "execution_count": 5,
      "outputs": [
        {
          "output_type": "execute_result",
          "data": {
            "text/plain": [
              "array([[       1971,        2300],\n",
              "       [       1972,        3500],\n",
              "       [       1973,        2500],\n",
              "       [       1973,        2500],\n",
              "       [       1974,        4100],\n",
              "       [       1974,        4500],\n",
              "       [       1974,        8000],\n",
              "       [       1975,        3510],\n",
              "       [       1976,        5000],\n",
              "       [       1976,        8500],\n",
              "       [       1976,        6500],\n",
              "       [       1978,        9000],\n",
              "       [       1978,       29000],\n",
              "       [       1979,       17500],\n",
              "       [       1979,       29000],\n",
              "       [       1979,       68000],\n",
              "       [       1981,       11500],\n",
              "       [       1982,       55000],\n",
              "       [       1982,      134000],\n",
              "       [       1983,       22000],\n",
              "       [       1984,       63000],\n",
              "       [       1984,      190000],\n",
              "       [       1985,      275000],\n",
              "       [       1985,       25000],\n",
              "       [       1985,       16000],\n",
              "       [       1986,      110000],\n",
              "       [       1986,      375000],\n",
              "       [       1986,       30000],\n",
              "       [       1987,      385000],\n",
              "       [       1987,      730000],\n",
              "       [       1987,      273000],\n",
              "       [       1987,      553000],\n",
              "       [       1988,      180000],\n",
              "       [       1988,      250000],\n",
              "       [       1989,      600000],\n",
              "       [       1989,     1000000],\n",
              "       [       1989,     1180235],\n",
              "       [       1989,      310000],\n",
              "       [       1990,     1200000],\n",
              "       [       1991,     1350000],\n",
              "       [       1991,       35000],\n",
              "       [       1992,      600000],\n",
              "       [       1992,      900000],\n",
              "       [       1993,     2800000],\n",
              "       [       1993,     3100000],\n",
              "       [       1994,      578977],\n",
              "       [       1994,     2500000],\n",
              "       [       1995,     2500000],\n",
              "       [       1999,      111000],\n",
              "       [       1995,     5500000],\n",
              "       [       1996,     4300000],\n",
              "       [       1997,    10000000],\n",
              "       [       1997,     7500000],\n",
              "       [       1997,     8800000],\n",
              "       [       1998,     7500000],\n",
              "       [       1999,     9500000],\n",
              "       [       1999,    13500000],\n",
              "       [       2000,    21000000],\n",
              "       [       2000,    21000000],\n",
              "       [       1999,    27400000],\n",
              "       [       1999,    21300000],\n",
              "       [       1999,    22000000],\n",
              "       [       2000,    42000000],\n",
              "       [       2001,   191000000],\n",
              "       [       2001,    45000000],\n",
              "       [       2002,    55000000],\n",
              "       [       2004,   112000000],\n",
              "       [       2004,   400000000],\n",
              "       [       2005,   169000000],\n",
              "       [       2006,   184000000],\n",
              "       [       2005,   228000000],\n",
              "       [       2006,   362000000],\n",
              "       [       2007,   540000000],\n",
              "       [       2008,    47000000],\n",
              "       [       2003,    54300000],\n",
              "       [       2003,   105900000],\n",
              "       [       2002,   220000000],\n",
              "       [       2005,   165000000],\n",
              "       [       2005,   250000000],\n",
              "       [       2006,   291000000],\n",
              "       [       2007,   169000000],\n",
              "       [       2003,   410000000],\n",
              "       [       2008,   600000000],\n",
              "       [       2009,   760000000],\n",
              "       [       2011,  1870000000],\n",
              "       [       2012,   432000000],\n",
              "       [       2007,   463000000],\n",
              "       [       2007,    26000000],\n",
              "       [       2008,   230000000],\n",
              "       [       2004,   592000000],\n",
              "       [       2007,   411000000],\n",
              "       [       2008,   731000000],\n",
              "       [       2008,   758000000],\n",
              "       [       2007,   789000000],\n",
              "       [       2009,   904000000],\n",
              "       [       2010,  1000000000],\n",
              "       [       2012,  2990000000],\n",
              "       [       2013,  1000000000],\n",
              "       [       2011,  1160000000],\n",
              "       [       2010,  1170000000],\n",
              "       [       2010,  1200000000],\n",
              "       [       2012,  1200000000],\n",
              "       [       2012,  1303000000],\n",
              "       [       2010,  1400000000],\n",
              "       [       2012,  1400000000],\n",
              "       [       2014,  1400000000],\n",
              "       [       2006,  1700000000],\n",
              "       [       2015,  1750000000],\n",
              "       [       2013,  1860000000],\n",
              "       [       2015,  1900000000],\n",
              "       [       2008,  1900000000],\n",
              "       [       2010,  2000000000],\n",
              "       [       2014,  2000000000],\n",
              "       [       2015,  2000000000],\n",
              "       [       2015,  3000000000],\n",
              "       [       2012,  2100000000],\n",
              "       [       2011,  2270000000],\n",
              "       [       2010,  2300000000],\n",
              "       [       2014,  2600000000],\n",
              "       [       2011,  2600000000],\n",
              "       [       2012,  2750000000],\n",
              "       [       2014,  3000000000],\n",
              "       [       2016,  3000000000],\n",
              "       [       2017,  5300000000],\n",
              "       [       2017,  5300000000],\n",
              "       [       2018,  8500000000],\n",
              "       [       2012,  3100000000],\n",
              "       [       2016,  3200000000],\n",
              "       [       2016,  3300000000],\n",
              "       [       2015,  3990000000],\n",
              "       [       2013,  4200000000],\n",
              "       [       2017,  4300000000],\n",
              "       [       2014,  4310000000],\n",
              "       [       2017,  4800000000],\n",
              "       [       2017,  4800000000],\n",
              "       [       2017,  4800000000],\n",
              "       [       2012,  5000000000],\n",
              "       [       2013,  5000000000],\n",
              "       [       2014,  5560000000],\n",
              "       [       2017,  6100000000],\n",
              "       [       2018,  6900000000],\n",
              "       [       2016,  4000000000],\n",
              "       [       2018,  6900000000],\n",
              "       [       2017,  5500000000],\n",
              "       [       2018,  5500000000],\n",
              "       [       2017,  7000000000],\n",
              "       [       2015,  7100000000],\n",
              "       [       2017,  8000000000],\n",
              "       [       2016,  7200000000],\n",
              "       [       2017,  8000000000],\n",
              "       [       2016,  8000000000],\n",
              "       [       2017,  9700000000],\n",
              "       [       2017,   250000000],\n",
              "       [       2015, 10000000000],\n",
              "       [       2017,  5450000000],\n",
              "       [       2018, 10000000000],\n",
              "       [       2017,  4300000000],\n",
              "       [       2017, 18000000000],\n",
              "       [       2017, 19200000000],\n",
              "       [       2018,  8876000000],\n",
              "       [       2018, 23600000000],\n",
              "       [       2018,  9000000000]])"
            ]
          },
          "metadata": {
            "tags": []
          },
          "execution_count": 5
        }
      ]
    },
    {
      "cell_type": "code",
      "metadata": {
        "id": "R-1CcQ7Q29zP",
        "colab_type": "code",
        "colab": {}
      },
      "source": [
        "X= data[:,0]"
      ],
      "execution_count": 0,
      "outputs": []
    },
    {
      "cell_type": "code",
      "metadata": {
        "id": "XvXmf8yg3Gry",
        "colab_type": "code",
        "colab": {
          "base_uri": "https://localhost:8080/",
          "height": 276
        },
        "outputId": "92086c4b-94bf-41bc-b133-d440d64ee151"
      },
      "source": [
        "X"
      ],
      "execution_count": 7,
      "outputs": [
        {
          "output_type": "execute_result",
          "data": {
            "text/plain": [
              "array([1971, 1972, 1973, 1973, 1974, 1974, 1974, 1975, 1976, 1976, 1976,\n",
              "       1978, 1978, 1979, 1979, 1979, 1981, 1982, 1982, 1983, 1984, 1984,\n",
              "       1985, 1985, 1985, 1986, 1986, 1986, 1987, 1987, 1987, 1987, 1988,\n",
              "       1988, 1989, 1989, 1989, 1989, 1990, 1991, 1991, 1992, 1992, 1993,\n",
              "       1993, 1994, 1994, 1995, 1999, 1995, 1996, 1997, 1997, 1997, 1998,\n",
              "       1999, 1999, 2000, 2000, 1999, 1999, 1999, 2000, 2001, 2001, 2002,\n",
              "       2004, 2004, 2005, 2006, 2005, 2006, 2007, 2008, 2003, 2003, 2002,\n",
              "       2005, 2005, 2006, 2007, 2003, 2008, 2009, 2011, 2012, 2007, 2007,\n",
              "       2008, 2004, 2007, 2008, 2008, 2007, 2009, 2010, 2012, 2013, 2011,\n",
              "       2010, 2010, 2012, 2012, 2010, 2012, 2014, 2006, 2015, 2013, 2015,\n",
              "       2008, 2010, 2014, 2015, 2015, 2012, 2011, 2010, 2014, 2011, 2012,\n",
              "       2014, 2016, 2017, 2017, 2018, 2012, 2016, 2016, 2015, 2013, 2017,\n",
              "       2014, 2017, 2017, 2017, 2012, 2013, 2014, 2017, 2018, 2016, 2018,\n",
              "       2017, 2018, 2017, 2015, 2017, 2016, 2017, 2016, 2017, 2017, 2015,\n",
              "       2017, 2018, 2017, 2017, 2017, 2018, 2018, 2018])"
            ]
          },
          "metadata": {
            "tags": []
          },
          "execution_count": 7
        }
      ]
    },
    {
      "cell_type": "code",
      "metadata": {
        "id": "N36AnNaw3HZx",
        "colab_type": "code",
        "colab": {
          "base_uri": "https://localhost:8080/",
          "height": 35
        },
        "outputId": "a925e3f8-00f2-4fe8-9f0f-902c43f278d6"
      },
      "source": [
        "X.shape"
      ],
      "execution_count": 8,
      "outputs": [
        {
          "output_type": "execute_result",
          "data": {
            "text/plain": [
              "(162,)"
            ]
          },
          "metadata": {
            "tags": []
          },
          "execution_count": 8
        }
      ]
    },
    {
      "cell_type": "code",
      "metadata": {
        "id": "lpDi2zMA3KeB",
        "colab_type": "code",
        "colab": {}
      },
      "source": [
        "X = X.reshape(-1,1)"
      ],
      "execution_count": 0,
      "outputs": []
    },
    {
      "cell_type": "code",
      "metadata": {
        "id": "BA40qo3h3Rqx",
        "colab_type": "code",
        "colab": {
          "base_uri": "https://localhost:8080/",
          "height": 1000
        },
        "outputId": "37ddbacc-f89a-48e0-91a2-544734ed9f68"
      },
      "source": [
        "X"
      ],
      "execution_count": 10,
      "outputs": [
        {
          "output_type": "execute_result",
          "data": {
            "text/plain": [
              "array([[1971],\n",
              "       [1972],\n",
              "       [1973],\n",
              "       [1973],\n",
              "       [1974],\n",
              "       [1974],\n",
              "       [1974],\n",
              "       [1975],\n",
              "       [1976],\n",
              "       [1976],\n",
              "       [1976],\n",
              "       [1978],\n",
              "       [1978],\n",
              "       [1979],\n",
              "       [1979],\n",
              "       [1979],\n",
              "       [1981],\n",
              "       [1982],\n",
              "       [1982],\n",
              "       [1983],\n",
              "       [1984],\n",
              "       [1984],\n",
              "       [1985],\n",
              "       [1985],\n",
              "       [1985],\n",
              "       [1986],\n",
              "       [1986],\n",
              "       [1986],\n",
              "       [1987],\n",
              "       [1987],\n",
              "       [1987],\n",
              "       [1987],\n",
              "       [1988],\n",
              "       [1988],\n",
              "       [1989],\n",
              "       [1989],\n",
              "       [1989],\n",
              "       [1989],\n",
              "       [1990],\n",
              "       [1991],\n",
              "       [1991],\n",
              "       [1992],\n",
              "       [1992],\n",
              "       [1993],\n",
              "       [1993],\n",
              "       [1994],\n",
              "       [1994],\n",
              "       [1995],\n",
              "       [1999],\n",
              "       [1995],\n",
              "       [1996],\n",
              "       [1997],\n",
              "       [1997],\n",
              "       [1997],\n",
              "       [1998],\n",
              "       [1999],\n",
              "       [1999],\n",
              "       [2000],\n",
              "       [2000],\n",
              "       [1999],\n",
              "       [1999],\n",
              "       [1999],\n",
              "       [2000],\n",
              "       [2001],\n",
              "       [2001],\n",
              "       [2002],\n",
              "       [2004],\n",
              "       [2004],\n",
              "       [2005],\n",
              "       [2006],\n",
              "       [2005],\n",
              "       [2006],\n",
              "       [2007],\n",
              "       [2008],\n",
              "       [2003],\n",
              "       [2003],\n",
              "       [2002],\n",
              "       [2005],\n",
              "       [2005],\n",
              "       [2006],\n",
              "       [2007],\n",
              "       [2003],\n",
              "       [2008],\n",
              "       [2009],\n",
              "       [2011],\n",
              "       [2012],\n",
              "       [2007],\n",
              "       [2007],\n",
              "       [2008],\n",
              "       [2004],\n",
              "       [2007],\n",
              "       [2008],\n",
              "       [2008],\n",
              "       [2007],\n",
              "       [2009],\n",
              "       [2010],\n",
              "       [2012],\n",
              "       [2013],\n",
              "       [2011],\n",
              "       [2010],\n",
              "       [2010],\n",
              "       [2012],\n",
              "       [2012],\n",
              "       [2010],\n",
              "       [2012],\n",
              "       [2014],\n",
              "       [2006],\n",
              "       [2015],\n",
              "       [2013],\n",
              "       [2015],\n",
              "       [2008],\n",
              "       [2010],\n",
              "       [2014],\n",
              "       [2015],\n",
              "       [2015],\n",
              "       [2012],\n",
              "       [2011],\n",
              "       [2010],\n",
              "       [2014],\n",
              "       [2011],\n",
              "       [2012],\n",
              "       [2014],\n",
              "       [2016],\n",
              "       [2017],\n",
              "       [2017],\n",
              "       [2018],\n",
              "       [2012],\n",
              "       [2016],\n",
              "       [2016],\n",
              "       [2015],\n",
              "       [2013],\n",
              "       [2017],\n",
              "       [2014],\n",
              "       [2017],\n",
              "       [2017],\n",
              "       [2017],\n",
              "       [2012],\n",
              "       [2013],\n",
              "       [2014],\n",
              "       [2017],\n",
              "       [2018],\n",
              "       [2016],\n",
              "       [2018],\n",
              "       [2017],\n",
              "       [2018],\n",
              "       [2017],\n",
              "       [2015],\n",
              "       [2017],\n",
              "       [2016],\n",
              "       [2017],\n",
              "       [2016],\n",
              "       [2017],\n",
              "       [2017],\n",
              "       [2015],\n",
              "       [2017],\n",
              "       [2018],\n",
              "       [2017],\n",
              "       [2017],\n",
              "       [2017],\n",
              "       [2018],\n",
              "       [2018],\n",
              "       [2018]])"
            ]
          },
          "metadata": {
            "tags": []
          },
          "execution_count": 10
        }
      ]
    },
    {
      "cell_type": "code",
      "metadata": {
        "id": "ucEOdFzY3SsS",
        "colab_type": "code",
        "colab": {}
      },
      "source": [
        "Y = data[:,1]"
      ],
      "execution_count": 0,
      "outputs": []
    },
    {
      "cell_type": "code",
      "metadata": {
        "id": "ZtVF2Y8D3pyE",
        "colab_type": "code",
        "colab": {
          "base_uri": "https://localhost:8080/",
          "height": 587
        },
        "outputId": "34876dbb-fbf7-4a1e-ad49-89dff0bd83c2"
      },
      "source": [
        "Y"
      ],
      "execution_count": 12,
      "outputs": [
        {
          "output_type": "execute_result",
          "data": {
            "text/plain": [
              "array([       2300,        3500,        2500,        2500,        4100,\n",
              "              4500,        8000,        3510,        5000,        8500,\n",
              "              6500,        9000,       29000,       17500,       29000,\n",
              "             68000,       11500,       55000,      134000,       22000,\n",
              "             63000,      190000,      275000,       25000,       16000,\n",
              "            110000,      375000,       30000,      385000,      730000,\n",
              "            273000,      553000,      180000,      250000,      600000,\n",
              "           1000000,     1180235,      310000,     1200000,     1350000,\n",
              "             35000,      600000,      900000,     2800000,     3100000,\n",
              "            578977,     2500000,     2500000,      111000,     5500000,\n",
              "           4300000,    10000000,     7500000,     8800000,     7500000,\n",
              "           9500000,    13500000,    21000000,    21000000,    27400000,\n",
              "          21300000,    22000000,    42000000,   191000000,    45000000,\n",
              "          55000000,   112000000,   400000000,   169000000,   184000000,\n",
              "         228000000,   362000000,   540000000,    47000000,    54300000,\n",
              "         105900000,   220000000,   165000000,   250000000,   291000000,\n",
              "         169000000,   410000000,   600000000,   760000000,  1870000000,\n",
              "         432000000,   463000000,    26000000,   230000000,   592000000,\n",
              "         411000000,   731000000,   758000000,   789000000,   904000000,\n",
              "        1000000000,  2990000000,  1000000000,  1160000000,  1170000000,\n",
              "        1200000000,  1200000000,  1303000000,  1400000000,  1400000000,\n",
              "        1400000000,  1700000000,  1750000000,  1860000000,  1900000000,\n",
              "        1900000000,  2000000000,  2000000000,  2000000000,  3000000000,\n",
              "        2100000000,  2270000000,  2300000000,  2600000000,  2600000000,\n",
              "        2750000000,  3000000000,  3000000000,  5300000000,  5300000000,\n",
              "        8500000000,  3100000000,  3200000000,  3300000000,  3990000000,\n",
              "        4200000000,  4300000000,  4310000000,  4800000000,  4800000000,\n",
              "        4800000000,  5000000000,  5000000000,  5560000000,  6100000000,\n",
              "        6900000000,  4000000000,  6900000000,  5500000000,  5500000000,\n",
              "        7000000000,  7100000000,  8000000000,  7200000000,  8000000000,\n",
              "        8000000000,  9700000000,   250000000, 10000000000,  5450000000,\n",
              "       10000000000,  4300000000, 18000000000, 19200000000,  8876000000,\n",
              "       23600000000,  9000000000])"
            ]
          },
          "metadata": {
            "tags": []
          },
          "execution_count": 12
        }
      ]
    },
    {
      "cell_type": "code",
      "metadata": {
        "id": "5L9C5j2d3qWm",
        "colab_type": "code",
        "colab": {
          "base_uri": "https://localhost:8080/",
          "height": 294
        },
        "outputId": "b22e009e-8cb2-47a9-b7a9-6ac7749e46cd"
      },
      "source": [
        "plt.scatter(X,Y)"
      ],
      "execution_count": 13,
      "outputs": [
        {
          "output_type": "execute_result",
          "data": {
            "text/plain": [
              "<matplotlib.collections.PathCollection at 0x7f501621fa90>"
            ]
          },
          "metadata": {
            "tags": []
          },
          "execution_count": 13
        },
        {
          "output_type": "display_data",
          "data": {
            "image/png": "[encoded data removed]",
            "text/plain": [
              "<Figure size 432x288 with 1 Axes>"
            ]
          },
          "metadata": {
            "tags": []
          }
        }
      ]
    },
    {
      "cell_type": "code",
      "metadata": {
        "id": "3hebj2Wf3ymu",
        "colab_type": "code",
        "outputId": "3ad7dd71-a027-4664-8c6d-da059c4bfc35",
        "colab": {
          "base_uri": "https://localhost:8080/",
          "height": 282
        }
      },
      "source": [
        "Y = np.log(Y)\n",
        "plt.scatter(X,Y)"
      ],
      "execution_count": 14,
      "outputs": [
        {
          "output_type": "execute_result",
          "data": {
            "text/plain": [
              "<matplotlib.collections.PathCollection at 0x7f50134f2278>"
            ]
          },
          "metadata": {
            "tags": []
          },
          "execution_count": 14
        },
        {
          "output_type": "display_data",
          "data": {
            "image/png": "[encoded data removed]",
            "text/plain": [
              "<Figure size 432x288 with 1 Axes>"
            ]
          },
          "metadata": {
            "tags": []
          }
        }
      ]
    },
    {
      "cell_type": "code",
      "metadata": {
        "id": "aQsH8PRi5E5G",
        "colab_type": "code",
        "outputId": "c009a976-f57e-4a16-cd5c-e5a7f76f4480",
        "colab": {
          "base_uri": "https://localhost:8080/",
          "height": 35
        }
      },
      "source": [
        "X.mean()"
      ],
      "execution_count": 15,
      "outputs": [
        {
          "output_type": "execute_result",
          "data": {
            "text/plain": [
              "2002.1975308641975"
            ]
          },
          "metadata": {
            "tags": []
          },
          "execution_count": 15
        }
      ]
    },
    {
      "cell_type": "code",
      "metadata": {
        "id": "T6JmdL7a5GZV",
        "colab_type": "code",
        "colab": {}
      },
      "source": [
        "X = X-X.mean()"
      ],
      "execution_count": 0,
      "outputs": []
    },
    {
      "cell_type": "code",
      "metadata": {
        "id": "xBDwUZ6f5dAF",
        "colab_type": "code",
        "outputId": "90e79432-7ccd-481e-c5f6-6a0d00d5c9cf",
        "colab": {
          "base_uri": "https://localhost:8080/",
          "height": 1000
        }
      },
      "source": [
        "X"
      ],
      "execution_count": 17,
      "outputs": [
        {
          "output_type": "execute_result",
          "data": {
            "text/plain": [
              "array([[-31.19753086],\n",
              "       [-30.19753086],\n",
              "       [-29.19753086],\n",
              "       [-29.19753086],\n",
              "       [-28.19753086],\n",
              "       [-28.19753086],\n",
              "       [-28.19753086],\n",
              "       [-27.19753086],\n",
              "       [-26.19753086],\n",
              "       [-26.19753086],\n",
              "       [-26.19753086],\n",
              "       [-24.19753086],\n",
              "       [-24.19753086],\n",
              "       [-23.19753086],\n",
              "       [-23.19753086],\n",
              "       [-23.19753086],\n",
              "       [-21.19753086],\n",
              "       [-20.19753086],\n",
              "       [-20.19753086],\n",
              "       [-19.19753086],\n",
              "       [-18.19753086],\n",
              "       [-18.19753086],\n",
              "       [-17.19753086],\n",
              "       [-17.19753086],\n",
              "       [-17.19753086],\n",
              "       [-16.19753086],\n",
              "       [-16.19753086],\n",
              "       [-16.19753086],\n",
              "       [-15.19753086],\n",
              "       [-15.19753086],\n",
              "       [-15.19753086],\n",
              "       [-15.19753086],\n",
              "       [-14.19753086],\n",
              "       [-14.19753086],\n",
              "       [-13.19753086],\n",
              "       [-13.19753086],\n",
              "       [-13.19753086],\n",
              "       [-13.19753086],\n",
              "       [-12.19753086],\n",
              "       [-11.19753086],\n",
              "       [-11.19753086],\n",
              "       [-10.19753086],\n",
              "       [-10.19753086],\n",
              "       [ -9.19753086],\n",
              "       [ -9.19753086],\n",
              "       [ -8.19753086],\n",
              "       [ -8.19753086],\n",
              "       [ -7.19753086],\n",
              "       [ -3.19753086],\n",
              "       [ -7.19753086],\n",
              "       [ -6.19753086],\n",
              "       [ -5.19753086],\n",
              "       [ -5.19753086],\n",
              "       [ -5.19753086],\n",
              "       [ -4.19753086],\n",
              "       [ -3.19753086],\n",
              "       [ -3.19753086],\n",
              "       [ -2.19753086],\n",
              "       [ -2.19753086],\n",
              "       [ -3.19753086],\n",
              "       [ -3.19753086],\n",
              "       [ -3.19753086],\n",
              "       [ -2.19753086],\n",
              "       [ -1.19753086],\n",
              "       [ -1.19753086],\n",
              "       [ -0.19753086],\n",
              "       [  1.80246914],\n",
              "       [  1.80246914],\n",
              "       [  2.80246914],\n",
              "       [  3.80246914],\n",
              "       [  2.80246914],\n",
              "       [  3.80246914],\n",
              "       [  4.80246914],\n",
              "       [  5.80246914],\n",
              "       [  0.80246914],\n",
              "       [  0.80246914],\n",
              "       [ -0.19753086],\n",
              "       [  2.80246914],\n",
              "       [  2.80246914],\n",
              "       [  3.80246914],\n",
              "       [  4.80246914],\n",
              "       [  0.80246914],\n",
              "       [  5.80246914],\n",
              "       [  6.80246914],\n",
              "       [  8.80246914],\n",
              "       [  9.80246914],\n",
              "       [  4.80246914],\n",
              "       [  4.80246914],\n",
              "       [  5.80246914],\n",
              "       [  1.80246914],\n",
              "       [  4.80246914],\n",
              "       [  5.80246914],\n",
              "       [  5.80246914],\n",
              "       [  4.80246914],\n",
              "       [  6.80246914],\n",
              "       [  7.80246914],\n",
              "       [  9.80246914],\n",
              "       [ 10.80246914],\n",
              "       [  8.80246914],\n",
              "       [  7.80246914],\n",
              "       [  7.80246914],\n",
              "       [  9.80246914],\n",
              "       [  9.80246914],\n",
              "       [  7.80246914],\n",
              "       [  9.80246914],\n",
              "       [ 11.80246914],\n",
              "       [  3.80246914],\n",
              "       [ 12.80246914],\n",
              "       [ 10.80246914],\n",
              "       [ 12.80246914],\n",
              "       [  5.80246914],\n",
              "       [  7.80246914],\n",
              "       [ 11.80246914],\n",
              "       [ 12.80246914],\n",
              "       [ 12.80246914],\n",
              "       [  9.80246914],\n",
              "       [  8.80246914],\n",
              "       [  7.80246914],\n",
              "       [ 11.80246914],\n",
              "       [  8.80246914],\n",
              "       [  9.80246914],\n",
              "       [ 11.80246914],\n",
              "       [ 13.80246914],\n",
              "       [ 14.80246914],\n",
              "       [ 14.80246914],\n",
              "       [ 15.80246914],\n",
              "       [  9.80246914],\n",
              "       [ 13.80246914],\n",
              "       [ 13.80246914],\n",
              "       [ 12.80246914],\n",
              "       [ 10.80246914],\n",
              "       [ 14.80246914],\n",
              "       [ 11.80246914],\n",
              "       [ 14.80246914],\n",
              "       [ 14.80246914],\n",
              "       [ 14.80246914],\n",
              "       [  9.80246914],\n",
              "       [ 10.80246914],\n",
              "       [ 11.80246914],\n",
              "       [ 14.80246914],\n",
              "       [ 15.80246914],\n",
              "       [ 13.80246914],\n",
              "       [ 15.80246914],\n",
              "       [ 14.80246914],\n",
              "       [ 15.80246914],\n",
              "       [ 14.80246914],\n",
              "       [ 12.80246914],\n",
              "       [ 14.80246914],\n",
              "       [ 13.80246914],\n",
              "       [ 14.80246914],\n",
              "       [ 13.80246914],\n",
              "       [ 14.80246914],\n",
              "       [ 14.80246914],\n",
              "       [ 12.80246914],\n",
              "       [ 14.80246914],\n",
              "       [ 15.80246914],\n",
              "       [ 14.80246914],\n",
              "       [ 14.80246914],\n",
              "       [ 14.80246914],\n",
              "       [ 15.80246914],\n",
              "       [ 15.80246914],\n",
              "       [ 15.80246914]])"
            ]
          },
          "metadata": {
            "tags": []
          },
          "execution_count": 17
        }
      ]
    },
    {
      "cell_type": "code",
      "metadata": {
        "id": "WmrfBuxo5dym",
        "colab_type": "code",
        "outputId": "801a83af-467b-40e4-e6ea-3441173129d8",
        "colab": {
          "base_uri": "https://localhost:8080/",
          "height": 35
        }
      },
      "source": [
        "X.shape"
      ],
      "execution_count": 18,
      "outputs": [
        {
          "output_type": "execute_result",
          "data": {
            "text/plain": [
              "(162, 1)"
            ]
          },
          "metadata": {
            "tags": []
          },
          "execution_count": 18
        }
      ]
    },
    {
      "cell_type": "code",
      "metadata": {
        "id": "Sssd7-X75ryR",
        "colab_type": "code",
        "outputId": "8965bd8d-e5ff-4b56-d52d-dc9f2332ed94",
        "colab": {
          "base_uri": "https://localhost:8080/",
          "height": 190
        }
      },
      "source": [
        "model = tf.keras.models.Sequential()\n",
        "model.add(tf.keras.layers.Input(shape=(1,)))\n",
        "model.add(tf.keras.layers.Dense(1))\n",
        "\n",
        "model.summary()"
      ],
      "execution_count": 19,
      "outputs": [
        {
          "output_type": "stream",
          "text": [
            "Model: \"sequential\"\n",
            "_________________________________________________________________\n",
            "Layer (type)                 Output Shape              Param #   \n",
            "=================================================================\n",
            "dense (Dense)                (None, 1)                 2         \n",
            "=================================================================\n",
            "Total params: 2\n",
            "Trainable params: 2\n",
            "Non-trainable params: 0\n",
            "_________________________________________________________________\n"
          ],
          "name": "stdout"
        }
      ]
    },
    {
      "cell_type": "code",
      "metadata": {
        "id": "KxRLhZiQ6Xwp",
        "colab_type": "code",
        "colab": {}
      },
      "source": [
        "model.compile(optimizer= tf.keras.optimizers.SGD(0.001,0.9), loss='mse')"
      ],
      "execution_count": 0,
      "outputs": []
    },
    {
      "cell_type": "code",
      "metadata": {
        "id": "qejy4GLi62BL",
        "colab_type": "code",
        "colab": {}
      },
      "source": [
        "def schedule(epoch,lr):\n",
        "  if epoch >= 50:\n",
        "    return 0.0001\n",
        "  return 0.001\n",
        "\n",
        "scheduler = tf.keras.callbacks.LearningRateScheduler(schedule)\n"
      ],
      "execution_count": 0,
      "outputs": []
    },
    {
      "cell_type": "code",
      "metadata": {
        "id": "miUhM9Yz7tCp",
        "colab_type": "code",
        "outputId": "6ba34c69-e2c8-4934-b89d-8686e94c62ef",
        "colab": {
          "base_uri": "https://localhost:8080/",
          "height": 1000
        }
      },
      "source": [
        "history = model.fit(X,Y, epochs=200, callbacks=[scheduler])"
      ],
      "execution_count": 22,
      "outputs": [
        {
          "output_type": "stream",
          "text": [
            "Epoch 1/200\n",
            "162/162 [==============================] - 0s 382us/sample - loss: 322.0724\n",
            "Epoch 2/200\n",
            "162/162 [==============================] - 0s 62us/sample - loss: 299.0977\n",
            "Epoch 3/200\n",
            "162/162 [==============================] - 0s 63us/sample - loss: 518.6089\n",
            "Epoch 4/200\n",
            "162/162 [==============================] - 0s 66us/sample - loss: 273.6268\n",
            "Epoch 5/200\n",
            "162/162 [==============================] - 0s 62us/sample - loss: 168.9514\n",
            "Epoch 6/200\n",
            "162/162 [==============================] - 0s 73us/sample - loss: 127.3688\n",
            "Epoch 7/200\n",
            "162/162 [==============================] - 0s 73us/sample - loss: 80.3925\n",
            "Epoch 8/200\n",
            "162/162 [==============================] - 0s 73us/sample - loss: 62.7253\n",
            "Epoch 9/200\n",
            "162/162 [==============================] - 0s 74us/sample - loss: 68.6662\n",
            "Epoch 10/200\n",
            "162/162 [==============================] - 0s 77us/sample - loss: 41.6568\n",
            "Epoch 11/200\n",
            "162/162 [==============================] - 0s 69us/sample - loss: 38.4668\n",
            "Epoch 12/200\n",
            "162/162 [==============================] - 0s 83us/sample - loss: 28.6551\n",
            "Epoch 13/200\n",
            "162/162 [==============================] - 0s 69us/sample - loss: 27.5536\n",
            "Epoch 14/200\n",
            "162/162 [==============================] - 0s 74us/sample - loss: 20.4185\n",
            "Epoch 15/200\n",
            "162/162 [==============================] - 0s 68us/sample - loss: 18.9427\n",
            "Epoch 16/200\n",
            "162/162 [==============================] - 0s 74us/sample - loss: 11.2997\n",
            "Epoch 17/200\n",
            "162/162 [==============================] - 0s 68us/sample - loss: 7.2646\n",
            "Epoch 18/200\n",
            "162/162 [==============================] - 0s 64us/sample - loss: 3.9684\n",
            "Epoch 19/200\n",
            "162/162 [==============================] - 0s 64us/sample - loss: 4.3111\n",
            "Epoch 20/200\n",
            "162/162 [==============================] - 0s 66us/sample - loss: 2.4883\n",
            "Epoch 21/200\n",
            "162/162 [==============================] - 0s 67us/sample - loss: 1.8972\n",
            "Epoch 22/200\n",
            "162/162 [==============================] - 0s 59us/sample - loss: 1.6759\n",
            "Epoch 23/200\n",
            "162/162 [==============================] - 0s 82us/sample - loss: 1.3818\n",
            "Epoch 24/200\n",
            "162/162 [==============================] - 0s 69us/sample - loss: 1.3771\n",
            "Epoch 25/200\n",
            "162/162 [==============================] - 0s 67us/sample - loss: 1.1674\n",
            "Epoch 26/200\n",
            "162/162 [==============================] - 0s 111us/sample - loss: 1.1027\n",
            "Epoch 27/200\n",
            "162/162 [==============================] - 0s 81us/sample - loss: 1.0025\n",
            "Epoch 28/200\n",
            "162/162 [==============================] - 0s 87us/sample - loss: 1.1206\n",
            "Epoch 29/200\n",
            "162/162 [==============================] - 0s 68us/sample - loss: 0.9724\n",
            "Epoch 30/200\n",
            "162/162 [==============================] - 0s 60us/sample - loss: 0.9626\n",
            "Epoch 31/200\n",
            "162/162 [==============================] - 0s 64us/sample - loss: 0.9105\n",
            "Epoch 32/200\n",
            "162/162 [==============================] - 0s 75us/sample - loss: 0.9844\n",
            "Epoch 33/200\n",
            "162/162 [==============================] - 0s 74us/sample - loss: 0.8985\n",
            "Epoch 34/200\n",
            "162/162 [==============================] - 0s 74us/sample - loss: 0.9042\n",
            "Epoch 35/200\n",
            "162/162 [==============================] - 0s 71us/sample - loss: 0.9592\n",
            "Epoch 36/200\n",
            "162/162 [==============================] - 0s 73us/sample - loss: 0.8889\n",
            "Epoch 37/200\n",
            "162/162 [==============================] - 0s 79us/sample - loss: 0.9252\n",
            "Epoch 38/200\n",
            "162/162 [==============================] - 0s 77us/sample - loss: 0.8965\n",
            "Epoch 39/200\n",
            "162/162 [==============================] - 0s 93us/sample - loss: 1.0009\n",
            "Epoch 40/200\n",
            "162/162 [==============================] - 0s 79us/sample - loss: 0.9997\n",
            "Epoch 41/200\n",
            "162/162 [==============================] - 0s 65us/sample - loss: 1.0538\n",
            "Epoch 42/200\n",
            "162/162 [==============================] - 0s 74us/sample - loss: 1.0053\n",
            "Epoch 43/200\n",
            "162/162 [==============================] - 0s 71us/sample - loss: 0.8709\n",
            "Epoch 44/200\n",
            "162/162 [==============================] - 0s 63us/sample - loss: 0.9112\n",
            "Epoch 45/200\n",
            "162/162 [==============================] - 0s 91us/sample - loss: 0.8887\n",
            "Epoch 46/200\n",
            "162/162 [==============================] - 0s 71us/sample - loss: 0.9204\n",
            "Epoch 47/200\n",
            "162/162 [==============================] - 0s 74us/sample - loss: 1.0100\n",
            "Epoch 48/200\n",
            "162/162 [==============================] - 0s 65us/sample - loss: 0.8950\n",
            "Epoch 49/200\n",
            "162/162 [==============================] - 0s 74us/sample - loss: 1.1587\n",
            "Epoch 50/200\n",
            "162/162 [==============================] - 0s 65us/sample - loss: 1.0608\n",
            "Epoch 51/200\n",
            "162/162 [==============================] - 0s 67us/sample - loss: 1.4454\n",
            "Epoch 52/200\n",
            "162/162 [==============================] - 0s 66us/sample - loss: 1.0871\n",
            "Epoch 53/200\n",
            "162/162 [==============================] - 0s 82us/sample - loss: 0.9045\n",
            "Epoch 54/200\n",
            "162/162 [==============================] - 0s 87us/sample - loss: 0.9426\n",
            "Epoch 55/200\n",
            "162/162 [==============================] - 0s 58us/sample - loss: 0.8870\n",
            "Epoch 56/200\n",
            "162/162 [==============================] - 0s 74us/sample - loss: 0.8768\n",
            "Epoch 57/200\n",
            "162/162 [==============================] - 0s 63us/sample - loss: 0.8785\n",
            "Epoch 58/200\n",
            "162/162 [==============================] - 0s 89us/sample - loss: 0.8842\n",
            "Epoch 59/200\n",
            "162/162 [==============================] - 0s 85us/sample - loss: 0.8759\n",
            "Epoch 60/200\n",
            "162/162 [==============================] - 0s 73us/sample - loss: 0.8703\n",
            "Epoch 61/200\n",
            "162/162 [==============================] - 0s 62us/sample - loss: 0.8749\n",
            "Epoch 62/200\n",
            "162/162 [==============================] - 0s 64us/sample - loss: 0.8866\n",
            "Epoch 63/200\n",
            "162/162 [==============================] - 0s 70us/sample - loss: 0.8893\n",
            "Epoch 64/200\n",
            "162/162 [==============================] - 0s 88us/sample - loss: 0.8749\n",
            "Epoch 65/200\n",
            "162/162 [==============================] - 0s 108us/sample - loss: 0.8713\n",
            "Epoch 66/200\n",
            "162/162 [==============================] - 0s 77us/sample - loss: 0.8715\n",
            "Epoch 67/200\n",
            "162/162 [==============================] - 0s 73us/sample - loss: 0.8736\n",
            "Epoch 68/200\n",
            "162/162 [==============================] - 0s 90us/sample - loss: 0.8700\n",
            "Epoch 69/200\n",
            "162/162 [==============================] - 0s 65us/sample - loss: 0.8729\n",
            "Epoch 70/200\n",
            "162/162 [==============================] - 0s 71us/sample - loss: 0.8740\n",
            "Epoch 71/200\n",
            "162/162 [==============================] - 0s 85us/sample - loss: 0.8739\n",
            "Epoch 72/200\n",
            "162/162 [==============================] - 0s 75us/sample - loss: 0.8709\n",
            "Epoch 73/200\n",
            "162/162 [==============================] - 0s 62us/sample - loss: 0.8743\n",
            "Epoch 74/200\n",
            "162/162 [==============================] - 0s 75us/sample - loss: 0.8754\n",
            "Epoch 75/200\n",
            "162/162 [==============================] - 0s 74us/sample - loss: 0.8767\n",
            "Epoch 76/200\n",
            "162/162 [==============================] - 0s 73us/sample - loss: 0.8826\n",
            "Epoch 77/200\n",
            "162/162 [==============================] - 0s 66us/sample - loss: 0.8718\n",
            "Epoch 78/200\n",
            "162/162 [==============================] - 0s 79us/sample - loss: 0.8682\n",
            "Epoch 79/200\n",
            "162/162 [==============================] - 0s 100us/sample - loss: 0.8890\n",
            "Epoch 80/200\n",
            "162/162 [==============================] - 0s 86us/sample - loss: 0.8837\n",
            "Epoch 81/200\n",
            "162/162 [==============================] - 0s 66us/sample - loss: 0.8709\n",
            "Epoch 82/200\n",
            "162/162 [==============================] - 0s 68us/sample - loss: 0.8756\n",
            "Epoch 83/200\n",
            "162/162 [==============================] - 0s 74us/sample - loss: 0.8784\n",
            "Epoch 84/200\n",
            "162/162 [==============================] - 0s 80us/sample - loss: 0.8723\n",
            "Epoch 85/200\n",
            "162/162 [==============================] - 0s 68us/sample - loss: 0.8713\n",
            "Epoch 86/200\n",
            "162/162 [==============================] - 0s 82us/sample - loss: 0.8708\n",
            "Epoch 87/200\n",
            "162/162 [==============================] - 0s 73us/sample - loss: 0.8713\n",
            "Epoch 88/200\n",
            "162/162 [==============================] - 0s 74us/sample - loss: 0.8740\n",
            "Epoch 89/200\n",
            "162/162 [==============================] - 0s 70us/sample - loss: 0.8778\n",
            "Epoch 90/200\n",
            "162/162 [==============================] - 0s 63us/sample - loss: 0.8757\n",
            "Epoch 91/200\n",
            "162/162 [==============================] - 0s 78us/sample - loss: 0.8733\n",
            "Epoch 92/200\n",
            "162/162 [==============================] - 0s 78us/sample - loss: 0.8765\n",
            "Epoch 93/200\n",
            "162/162 [==============================] - 0s 93us/sample - loss: 0.8632\n",
            "Epoch 94/200\n",
            "162/162 [==============================] - 0s 101us/sample - loss: 0.8802\n",
            "Epoch 95/200\n",
            "162/162 [==============================] - 0s 79us/sample - loss: 0.8710\n",
            "Epoch 96/200\n",
            "162/162 [==============================] - 0s 85us/sample - loss: 0.8752\n",
            "Epoch 97/200\n",
            "162/162 [==============================] - 0s 72us/sample - loss: 0.8755\n",
            "Epoch 98/200\n",
            "162/162 [==============================] - 0s 75us/sample - loss: 0.8878\n",
            "Epoch 99/200\n",
            "162/162 [==============================] - 0s 77us/sample - loss: 0.8793\n",
            "Epoch 100/200\n",
            "162/162 [==============================] - 0s 85us/sample - loss: 0.8862\n",
            "Epoch 101/200\n",
            "162/162 [==============================] - 0s 67us/sample - loss: 0.8799\n",
            "Epoch 102/200\n",
            "162/162 [==============================] - 0s 77us/sample - loss: 0.8774\n",
            "Epoch 103/200\n",
            "162/162 [==============================] - 0s 77us/sample - loss: 0.8722\n",
            "Epoch 104/200\n",
            "162/162 [==============================] - 0s 70us/sample - loss: 0.8789\n",
            "Epoch 105/200\n",
            "162/162 [==============================] - 0s 77us/sample - loss: 0.8825\n",
            "Epoch 106/200\n",
            "162/162 [==============================] - 0s 68us/sample - loss: 0.8826\n",
            "Epoch 107/200\n",
            "162/162 [==============================] - 0s 95us/sample - loss: 0.8746\n",
            "Epoch 108/200\n",
            "162/162 [==============================] - 0s 93us/sample - loss: 0.8870\n",
            "Epoch 109/200\n",
            "162/162 [==============================] - 0s 63us/sample - loss: 0.8837\n",
            "Epoch 110/200\n",
            "162/162 [==============================] - 0s 62us/sample - loss: 0.8722\n",
            "Epoch 111/200\n",
            "162/162 [==============================] - 0s 76us/sample - loss: 0.8791\n",
            "Epoch 112/200\n",
            "162/162 [==============================] - 0s 78us/sample - loss: 0.8785\n",
            "Epoch 113/200\n",
            "162/162 [==============================] - 0s 76us/sample - loss: 0.8684\n",
            "Epoch 114/200\n",
            "162/162 [==============================] - 0s 70us/sample - loss: 0.8754\n",
            "Epoch 115/200\n",
            "162/162 [==============================] - 0s 75us/sample - loss: 0.8737\n",
            "Epoch 116/200\n",
            "162/162 [==============================] - 0s 76us/sample - loss: 0.8712\n",
            "Epoch 117/200\n",
            "162/162 [==============================] - 0s 71us/sample - loss: 0.8757\n",
            "Epoch 118/200\n",
            "162/162 [==============================] - 0s 71us/sample - loss: 0.8774\n",
            "Epoch 119/200\n",
            "162/162 [==============================] - 0s 104us/sample - loss: 0.8692\n",
            "Epoch 120/200\n",
            "162/162 [==============================] - 0s 69us/sample - loss: 0.9083\n",
            "Epoch 121/200\n",
            "162/162 [==============================] - 0s 91us/sample - loss: 0.9312\n",
            "Epoch 122/200\n",
            "162/162 [==============================] - 0s 80us/sample - loss: 0.8731\n",
            "Epoch 123/200\n",
            "162/162 [==============================] - 0s 77us/sample - loss: 0.8746\n",
            "Epoch 124/200\n",
            "162/162 [==============================] - 0s 85us/sample - loss: 0.8858\n",
            "Epoch 125/200\n",
            "162/162 [==============================] - 0s 64us/sample - loss: 0.8878\n",
            "Epoch 126/200\n",
            "162/162 [==============================] - 0s 66us/sample - loss: 0.8956\n",
            "Epoch 127/200\n",
            "162/162 [==============================] - 0s 68us/sample - loss: 0.8889\n",
            "Epoch 128/200\n",
            "162/162 [==============================] - 0s 75us/sample - loss: 0.8705\n",
            "Epoch 129/200\n",
            "162/162 [==============================] - 0s 77us/sample - loss: 0.8713\n",
            "Epoch 130/200\n",
            "162/162 [==============================] - 0s 100us/sample - loss: 0.8706\n",
            "Epoch 131/200\n",
            "162/162 [==============================] - 0s 85us/sample - loss: 0.8708\n",
            "Epoch 132/200\n",
            "162/162 [==============================] - 0s 81us/sample - loss: 0.8768\n",
            "Epoch 133/200\n",
            "162/162 [==============================] - 0s 78us/sample - loss: 0.8806\n",
            "Epoch 134/200\n",
            "162/162 [==============================] - 0s 76us/sample - loss: 0.8702\n",
            "Epoch 135/200\n",
            "162/162 [==============================] - 0s 76us/sample - loss: 0.8752\n",
            "Epoch 136/200\n",
            "162/162 [==============================] - 0s 70us/sample - loss: 0.8834\n",
            "Epoch 137/200\n",
            "162/162 [==============================] - 0s 86us/sample - loss: 0.8788\n",
            "Epoch 138/200\n",
            "162/162 [==============================] - 0s 61us/sample - loss: 0.8723\n",
            "Epoch 139/200\n",
            "162/162 [==============================] - 0s 77us/sample - loss: 0.8739\n",
            "Epoch 140/200\n",
            "162/162 [==============================] - 0s 52us/sample - loss: 0.8720\n",
            "Epoch 141/200\n",
            "162/162 [==============================] - 0s 76us/sample - loss: 0.8741\n",
            "Epoch 142/200\n",
            "162/162 [==============================] - 0s 66us/sample - loss: 0.8806\n",
            "Epoch 143/200\n",
            "162/162 [==============================] - 0s 67us/sample - loss: 0.9044\n",
            "Epoch 144/200\n",
            "162/162 [==============================] - 0s 66us/sample - loss: 0.8878\n",
            "Epoch 145/200\n",
            "162/162 [==============================] - 0s 71us/sample - loss: 0.8731\n",
            "Epoch 146/200\n",
            "162/162 [==============================] - 0s 74us/sample - loss: 0.8735\n",
            "Epoch 147/200\n",
            "162/162 [==============================] - 0s 75us/sample - loss: 0.8749\n",
            "Epoch 148/200\n",
            "162/162 [==============================] - 0s 82us/sample - loss: 0.8708\n",
            "Epoch 149/200\n",
            "162/162 [==============================] - 0s 81us/sample - loss: 0.8835\n",
            "Epoch 150/200\n",
            "162/162 [==============================] - 0s 81us/sample - loss: 0.9651\n",
            "Epoch 151/200\n",
            "162/162 [==============================] - 0s 73us/sample - loss: 0.9749\n",
            "Epoch 152/200\n",
            "162/162 [==============================] - 0s 85us/sample - loss: 0.8724\n",
            "Epoch 153/200\n",
            "162/162 [==============================] - 0s 84us/sample - loss: 0.9008\n",
            "Epoch 154/200\n",
            "162/162 [==============================] - 0s 84us/sample - loss: 0.9238\n",
            "Epoch 155/200\n",
            "162/162 [==============================] - 0s 55us/sample - loss: 0.8782\n",
            "Epoch 156/200\n",
            "162/162 [==============================] - 0s 76us/sample - loss: 0.8712\n",
            "Epoch 157/200\n",
            "162/162 [==============================] - 0s 66us/sample - loss: 0.8758\n",
            "Epoch 158/200\n",
            "162/162 [==============================] - 0s 82us/sample - loss: 0.8722\n",
            "Epoch 159/200\n",
            "162/162 [==============================] - 0s 106us/sample - loss: 0.8737\n",
            "Epoch 160/200\n",
            "162/162 [==============================] - 0s 82us/sample - loss: 0.8737\n",
            "Epoch 161/200\n",
            "162/162 [==============================] - 0s 83us/sample - loss: 0.8759\n",
            "Epoch 162/200\n",
            "162/162 [==============================] - 0s 87us/sample - loss: 0.8732\n",
            "Epoch 163/200\n",
            "162/162 [==============================] - 0s 72us/sample - loss: 0.8748\n",
            "Epoch 164/200\n",
            "162/162 [==============================] - 0s 72us/sample - loss: 0.8759\n",
            "Epoch 165/200\n",
            "162/162 [==============================] - 0s 77us/sample - loss: 0.8726\n",
            "Epoch 166/200\n",
            "162/162 [==============================] - 0s 76us/sample - loss: 0.8733\n",
            "Epoch 167/200\n",
            "162/162 [==============================] - 0s 82us/sample - loss: 0.8757\n",
            "Epoch 168/200\n",
            "162/162 [==============================] - 0s 147us/sample - loss: 0.8735\n",
            "Epoch 169/200\n",
            "162/162 [==============================] - 0s 70us/sample - loss: 0.8752\n",
            "Epoch 170/200\n",
            "162/162 [==============================] - 0s 74us/sample - loss: 0.8722\n",
            "Epoch 171/200\n",
            "162/162 [==============================] - 0s 59us/sample - loss: 0.8723\n",
            "Epoch 172/200\n",
            "162/162 [==============================] - 0s 98us/sample - loss: 0.8711\n",
            "Epoch 173/200\n",
            "162/162 [==============================] - 0s 84us/sample - loss: 0.8719\n",
            "Epoch 174/200\n",
            "162/162 [==============================] - 0s 110us/sample - loss: 0.8722\n",
            "Epoch 175/200\n",
            "162/162 [==============================] - 0s 96us/sample - loss: 0.8732\n",
            "Epoch 176/200\n",
            "162/162 [==============================] - 0s 92us/sample - loss: 0.8701\n",
            "Epoch 177/200\n",
            "162/162 [==============================] - 0s 87us/sample - loss: 0.8833\n",
            "Epoch 178/200\n",
            "162/162 [==============================] - 0s 73us/sample - loss: 0.8750\n",
            "Epoch 179/200\n",
            "162/162 [==============================] - 0s 104us/sample - loss: 0.9114\n",
            "Epoch 180/200\n",
            "162/162 [==============================] - 0s 76us/sample - loss: 0.9380\n",
            "Epoch 181/200\n",
            "162/162 [==============================] - 0s 78us/sample - loss: 0.8783\n",
            "Epoch 182/200\n",
            "162/162 [==============================] - 0s 72us/sample - loss: 0.8718\n",
            "Epoch 183/200\n",
            "162/162 [==============================] - 0s 77us/sample - loss: 0.8715\n",
            "Epoch 184/200\n",
            "162/162 [==============================] - 0s 57us/sample - loss: 0.8716\n",
            "Epoch 185/200\n",
            "162/162 [==============================] - 0s 77us/sample - loss: 0.8711\n",
            "Epoch 186/200\n",
            "162/162 [==============================] - 0s 77us/sample - loss: 0.8835\n",
            "Epoch 187/200\n",
            "162/162 [==============================] - 0s 75us/sample - loss: 0.8796\n",
            "Epoch 188/200\n",
            "162/162 [==============================] - 0s 66us/sample - loss: 0.8749\n",
            "Epoch 189/200\n",
            "162/162 [==============================] - 0s 86us/sample - loss: 0.8726\n",
            "Epoch 190/200\n",
            "162/162 [==============================] - 0s 99us/sample - loss: 0.8780\n",
            "Epoch 191/200\n",
            "162/162 [==============================] - 0s 77us/sample - loss: 0.8797\n",
            "Epoch 192/200\n",
            "162/162 [==============================] - 0s 77us/sample - loss: 0.8761\n",
            "Epoch 193/200\n",
            "162/162 [==============================] - 0s 101us/sample - loss: 0.8816\n",
            "Epoch 194/200\n",
            "162/162 [==============================] - 0s 71us/sample - loss: 0.8722\n",
            "Epoch 195/200\n",
            "162/162 [==============================] - 0s 73us/sample - loss: 0.8759\n",
            "Epoch 196/200\n",
            "162/162 [==============================] - 0s 86us/sample - loss: 0.8806\n",
            "Epoch 197/200\n",
            "162/162 [==============================] - 0s 91us/sample - loss: 0.8759\n",
            "Epoch 198/200\n",
            "162/162 [==============================] - 0s 104us/sample - loss: 0.8781\n",
            "Epoch 199/200\n",
            "162/162 [==============================] - 0s 66us/sample - loss: 0.8817\n",
            "Epoch 200/200\n",
            "162/162 [==============================] - 0s 87us/sample - loss: 0.8707\n"
          ],
          "name": "stdout"
        }
      ]
    },
    {
      "cell_type": "code",
      "metadata": {
        "id": "f1a3l4b_7_WB",
        "colab_type": "code",
        "outputId": "3e8de233-957e-4893-8ef9-03bb0e51ef50",
        "colab": {
          "base_uri": "https://localhost:8080/",
          "height": 35
        }
      },
      "source": [
        "history.history.keys()"
      ],
      "execution_count": 23,
      "outputs": [
        {
          "output_type": "execute_result",
          "data": {
            "text/plain": [
              "dict_keys(['loss', 'lr'])"
            ]
          },
          "metadata": {
            "tags": []
          },
          "execution_count": 23
        }
      ]
    },
    {
      "cell_type": "code",
      "metadata": {
        "id": "kUdiUUqY8L8M",
        "colab_type": "code",
        "outputId": "ac7e89f9-45a8-43a0-97fa-3d4d113275f9",
        "colab": {
          "base_uri": "https://localhost:8080/",
          "height": 282
        }
      },
      "source": [
        "plt.plot(history.history['loss'],label='loss')"
      ],
      "execution_count": 24,
      "outputs": [
        {
          "output_type": "execute_result",
          "data": {
            "text/plain": [
              "[<matplotlib.lines.Line2D at 0x7f5009963748>]"
            ]
          },
          "metadata": {
            "tags": []
          },
          "execution_count": 24
        },
        {
          "output_type": "display_data",
          "data": {
            "image/png": "[encoded data removed]",
            "text/plain": [
              "<Figure size 432x288 with 1 Axes>"
            ]
          },
          "metadata": {
            "tags": []
          }
        }
      ]
    },
    {
      "cell_type": "code",
      "metadata": {
        "id": "bddz2FlV8bHD",
        "colab_type": "code",
        "outputId": "733e142b-012a-4062-b813-50aff748b640",
        "colab": {
          "base_uri": "https://localhost:8080/",
          "height": 52
        }
      },
      "source": [
        "print(model.layers)\n",
        "print(model.layers[0].get_weights())"
      ],
      "execution_count": 25,
      "outputs": [
        {
          "output_type": "stream",
          "text": [
            "[<tensorflow.python.keras.layers.core.Dense object at 0x7f50134b3470>]\n",
            "[array([[0.34225395]], dtype=float32), array([17.783855], dtype=float32)]\n"
          ],
          "name": "stdout"
        }
      ]
    },
    {
      "cell_type": "code",
      "metadata": {
        "id": "tC33yg1K8mF9",
        "colab_type": "code",
        "colab": {}
      },
      "source": [
        "#slope is\n",
        "a = model.layers[0].get_weights()[0][0,0]"
      ],
      "execution_count": 0,
      "outputs": []
    },
    {
      "cell_type": "code",
      "metadata": {
        "id": "v6UW10Un9AzP",
        "colab_type": "code",
        "outputId": "1c21a0ad-995e-442f-a738-631b24580d57",
        "colab": {
          "base_uri": "https://localhost:8080/",
          "height": 35
        }
      },
      "source": [
        "a"
      ],
      "execution_count": 27,
      "outputs": [
        {
          "output_type": "execute_result",
          "data": {
            "text/plain": [
              "0.34225395"
            ]
          },
          "metadata": {
            "tags": []
          },
          "execution_count": 27
        }
      ]
    },
    {
      "cell_type": "code",
      "metadata": {
        "id": "mbD6wpTQ9IYA",
        "colab_type": "code",
        "outputId": "c8383d82-29d5-495a-e707-08427debf867",
        "colab": {
          "base_uri": "https://localhost:8080/",
          "height": 35
        }
      },
      "source": [
        "print(\"Time to double :\", np.log(2)/a)"
      ],
      "execution_count": 28,
      "outputs": [
        {
          "output_type": "stream",
          "text": [
            "Time to double : 2.025242291701188\n"
          ],
          "name": "stdout"
        }
      ]
    },
    {
      "cell_type": "code",
      "metadata": {
        "id": "Bd391aMHAFpO",
        "colab_type": "code",
        "outputId": "6ae2a58d-7b8c-46f0-f251-5f893c9590a9",
        "colab": {
          "base_uri": "https://localhost:8080/",
          "height": 282
        }
      },
      "source": [
        "Yhat = model.predict(X).flatten()\n",
        "plt.scatter(X,Y)\n",
        "plt.plot(X,Yhat)"
      ],
      "execution_count": 30,
      "outputs": [
        {
          "output_type": "execute_result",
          "data": {
            "text/plain": [
              "[<matplotlib.lines.Line2D at 0x7f5009929cf8>]"
            ]
          },
          "metadata": {
            "tags": []
          },
          "execution_count": 30
        },
        {
          "output_type": "display_data",
          "data": {
            "image/png": "[encoded data removed]",
            "text/plain": [
              "<Figure size 432x288 with 1 Axes>"
            ]
          },
          "metadata": {
            "tags": []
          }
        }
      ]
    },
    {
      "cell_type": "code",
      "metadata": {
        "id": "OBHMf0zfAXCf",
        "colab_type": "code",
        "colab": {
          "base_uri": "https://localhost:8080/",
          "height": 35
        },
        "outputId": "0d6f0fed-b281-47bb-c628-24faf98e9ce4"
      },
      "source": [
        "#manual check\n",
        "\n",
        "w, b = model.layers[0].get_weights()\n"
      ],
      "execution_count": 38,
      "outputs": [
        {
          "output_type": "execute_result",
          "data": {
            "text/plain": [
              "array([[0.34225395]], dtype=float32)"
            ]
          },
          "metadata": {
            "tags": []
          },
          "execution_count": 38
        }
      ]
    },
    {
      "cell_type": "code",
      "metadata": {
        "id": "vUWuolr6JUn5",
        "colab_type": "code",
        "colab": {}
      },
      "source": [
        "X =X.reshape(-1,1)"
      ],
      "execution_count": 0,
      "outputs": []
    },
    {
      "cell_type": "code",
      "metadata": {
        "id": "beh478RBJYU9",
        "colab_type": "code",
        "colab": {
          "base_uri": "https://localhost:8080/",
          "height": 587
        },
        "outputId": "bc9d9eef-bd6a-4fe4-88cf-120380e21562"
      },
      "source": [
        "Yhat2 = (X.dot(w) +b)\n",
        "Yhat2.flatten()"
      ],
      "execution_count": 37,
      "outputs": [
        {
          "output_type": "execute_result",
          "data": {
            "text/plain": [
              "array([ 7.10637717,  7.44863112,  7.79088508,  7.79088508,  8.13313903,\n",
              "        8.13313903,  8.13313903,  8.47539298,  8.81764694,  8.81764694,\n",
              "        8.81764694,  9.50215484,  9.50215484,  9.8444088 ,  9.8444088 ,\n",
              "        9.8444088 , 10.5289167 , 10.87117065, 10.87117065, 11.21342461,\n",
              "       11.55567856, 11.55567856, 11.89793251, 11.89793251, 11.89793251,\n",
              "       12.24018647, 12.24018647, 12.24018647, 12.58244042, 12.58244042,\n",
              "       12.58244042, 12.58244042, 12.92469437, 12.92469437, 13.26694833,\n",
              "       13.26694833, 13.26694833, 13.26694833, 13.60920228, 13.95145623,\n",
              "       13.95145623, 14.29371019, 14.29371019, 14.63596414, 14.63596414,\n",
              "       14.97821809, 14.97821809, 15.32047205, 16.68948786, 15.32047205,\n",
              "       15.662726  , 16.00497995, 16.00497995, 16.00497995, 16.34723391,\n",
              "       16.68948786, 16.68948786, 17.03174181, 17.03174181, 16.68948786,\n",
              "       16.68948786, 16.68948786, 17.03174181, 17.37399577, 17.37399577,\n",
              "       17.71624972, 18.40075763, 18.40075763, 18.74301158, 19.08526553,\n",
              "       18.74301158, 19.08526553, 19.42751949, 19.76977344, 18.05850367,\n",
              "       18.05850367, 17.71624972, 18.74301158, 18.74301158, 19.08526553,\n",
              "       19.42751949, 18.05850367, 19.76977344, 20.11202739, 20.7965353 ,\n",
              "       21.13878925, 19.42751949, 19.42751949, 19.76977344, 18.40075763,\n",
              "       19.42751949, 19.76977344, 19.76977344, 19.42751949, 20.11202739,\n",
              "       20.45428134, 21.13878925, 21.4810432 , 20.7965353 , 20.45428134,\n",
              "       20.45428134, 21.13878925, 21.13878925, 20.45428134, 21.13878925,\n",
              "       21.82329716, 19.08526553, 22.16555111, 21.4810432 , 22.16555111,\n",
              "       19.76977344, 20.45428134, 21.82329716, 22.16555111, 22.16555111,\n",
              "       21.13878925, 20.7965353 , 20.45428134, 21.82329716, 20.7965353 ,\n",
              "       21.13878925, 21.82329716, 22.50780506, 22.85005902, 22.85005902,\n",
              "       23.19231297, 21.13878925, 22.50780506, 22.50780506, 22.16555111,\n",
              "       21.4810432 , 22.85005902, 21.82329716, 22.85005902, 22.85005902,\n",
              "       22.85005902, 21.13878925, 21.4810432 , 21.82329716, 22.85005902,\n",
              "       23.19231297, 22.50780506, 23.19231297, 22.85005902, 23.19231297,\n",
              "       22.85005902, 22.16555111, 22.85005902, 22.50780506, 22.85005902,\n",
              "       22.50780506, 22.85005902, 22.85005902, 22.16555111, 22.85005902,\n",
              "       23.19231297, 22.85005902, 22.85005902, 22.85005902, 23.19231297,\n",
              "       23.19231297, 23.19231297])"
            ]
          },
          "metadata": {
            "tags": []
          },
          "execution_count": 37
        }
      ]
    },
    {
      "cell_type": "code",
      "metadata": {
        "id": "xuXkDaUHJmkP",
        "colab_type": "code",
        "colab": {
          "base_uri": "https://localhost:8080/",
          "height": 35
        },
        "outputId": "511ec1ae-4670-4a8a-98e1-a993dc29516e"
      },
      "source": [
        "np.allclose(Yhat,Yhat2)"
      ],
      "execution_count": 34,
      "outputs": [
        {
          "output_type": "execute_result",
          "data": {
            "text/plain": [
              "True"
            ]
          },
          "metadata": {
            "tags": []
          },
          "execution_count": 34
        }
      ]
    },
    {
      "cell_type": "code",
      "metadata": {
        "id": "Lz6d6f6xJsz5",
        "colab_type": "code",
        "colab": {}
      },
      "source": [
        ""
      ],
      "execution_count": 0,
      "outputs": []
    }
  ]
}