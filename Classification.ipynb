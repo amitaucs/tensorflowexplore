{
  "nbformat": 4,
  "nbformat_minor": 0,
  "metadata": {
    "colab": {
      "name": "Classification.ipynb",
      "provenance": [],
      "collapsed_sections": [],
      "include_colab_link": true
    },
    "kernelspec": {
      "name": "python3",
      "display_name": "Python 3"
    },
    "accelerator": "GPU"
  },
  "cells": [
    {
      "cell_type": "markdown",
      "metadata": {
        "id": "view-in-github",
        "colab_type": "text"
      },
      "source": [
        "<a href=\"https://colab.research.google.com/github/amitaucs/tensorflowexplore/blob/master/Classification.ipynb\" target=\"_parent\"><img src=\"https://colab.research.google.com/assets/colab-badge.svg\" alt=\"Open In Colab\"/></a>"
      ]
    },
    {
      "cell_type": "code",
      "metadata": {
        "id": "27SO4Es2kdww",
        "colab_type": "code",
        "colab": {
          "base_uri": "https://localhost:8080/",
          "height": 970
        },
        "outputId": "5c3c8ccb-721a-47ab-d2c7-0392a0695a8b"
      },
      "source": [
        "!pip install tensorflow==2.0.0-alpha\n",
        "import tensorflow as tf\n"
      ],
      "execution_count": 1,
      "outputs": [
        {
          "output_type": "stream",
          "text": [
            "Collecting tensorflow==2.0.0-alpha\n",
            "\u001b[?25l  Downloading https://files.pythonhosted.org/packages/29/39/f99185d39131b8333afcfe1dcdb0629c2ffc4ecfb0e4c14ca210d620e56c/tensorflow-2.0.0a0-cp36-cp36m-manylinux1_x86_64.whl (79.9MB)\n",
            "\u001b[K     |████████████████████████████████| 79.9MB 126kB/s \n",
            "\u001b[?25hRequirement already satisfied: keras-preprocessing>=1.0.5 in /usr/local/lib/python3.6/dist-packages (from tensorflow==2.0.0-alpha) (1.1.0)\n",
            "Requirement already satisfied: grpcio>=1.8.6 in /usr/local/lib/python3.6/dist-packages (from tensorflow==2.0.0-alpha) (1.15.0)\n",
            "Requirement already satisfied: google-pasta>=0.1.2 in /usr/local/lib/python3.6/dist-packages (from tensorflow==2.0.0-alpha) (0.1.7)\n",
            "Requirement already satisfied: wheel>=0.26 in /usr/local/lib/python3.6/dist-packages (from tensorflow==2.0.0-alpha) (0.33.6)\n",
            "Requirement already satisfied: absl-py>=0.7.0 in /usr/local/lib/python3.6/dist-packages (from tensorflow==2.0.0-alpha) (0.8.1)\n",
            "Requirement already satisfied: astor>=0.6.0 in /usr/local/lib/python3.6/dist-packages (from tensorflow==2.0.0-alpha) (0.8.0)\n",
            "Requirement already satisfied: protobuf>=3.6.1 in /usr/local/lib/python3.6/dist-packages (from tensorflow==2.0.0-alpha) (3.10.0)\n",
            "Requirement already satisfied: gast>=0.2.0 in /usr/local/lib/python3.6/dist-packages (from tensorflow==2.0.0-alpha) (0.2.2)\n",
            "Requirement already satisfied: termcolor>=1.1.0 in /usr/local/lib/python3.6/dist-packages (from tensorflow==2.0.0-alpha) (1.1.0)\n",
            "Requirement already satisfied: six>=1.10.0 in /usr/local/lib/python3.6/dist-packages (from tensorflow==2.0.0-alpha) (1.12.0)\n",
            "Collecting tb-nightly<1.14.0a20190302,>=1.14.0a20190301\n",
            "\u001b[?25l  Downloading https://files.pythonhosted.org/packages/a9/51/aa1d756644bf4624c03844115e4ac4058eff77acd786b26315f051a4b195/tb_nightly-1.14.0a20190301-py3-none-any.whl (3.0MB)\n",
            "\u001b[K     |████████████████████████████████| 3.0MB 29.9MB/s \n",
            "\u001b[?25hRequirement already satisfied: keras-applications>=1.0.6 in /usr/local/lib/python3.6/dist-packages (from tensorflow==2.0.0-alpha) (1.0.8)\n",
            "Collecting tf-estimator-nightly<1.14.0.dev2019030116,>=1.14.0.dev2019030115\n",
            "\u001b[?25l  Downloading https://files.pythonhosted.org/packages/13/82/f16063b4eed210dc2ab057930ac1da4fbe1e91b7b051a6c8370b401e6ae7/tf_estimator_nightly-1.14.0.dev2019030115-py2.py3-none-any.whl (411kB)\n",
            "\u001b[K     |████████████████████████████████| 419kB 37.3MB/s \n",
            "\u001b[?25hRequirement already satisfied: numpy<2.0,>=1.14.5 in /usr/local/lib/python3.6/dist-packages (from tensorflow==2.0.0-alpha) (1.17.3)\n",
            "Requirement already satisfied: setuptools in /usr/local/lib/python3.6/dist-packages (from protobuf>=3.6.1->tensorflow==2.0.0-alpha) (41.4.0)\n",
            "Requirement already satisfied: werkzeug>=0.11.15 in /usr/local/lib/python3.6/dist-packages (from tb-nightly<1.14.0a20190302,>=1.14.0a20190301->tensorflow==2.0.0-alpha) (0.16.0)\n",
            "Requirement already satisfied: markdown>=2.6.8 in /usr/local/lib/python3.6/dist-packages (from tb-nightly<1.14.0a20190302,>=1.14.0a20190301->tensorflow==2.0.0-alpha) (3.1.1)\n",
            "Requirement already satisfied: h5py in /usr/local/lib/python3.6/dist-packages (from keras-applications>=1.0.6->tensorflow==2.0.0-alpha) (2.8.0)\n",
            "Installing collected packages: tb-nightly, tf-estimator-nightly, tensorflow\n",
            "  Found existing installation: tensorflow 1.15.0\n",
            "    Uninstalling tensorflow-1.15.0:\n",
            "      Successfully uninstalled tensorflow-1.15.0\n",
            "Successfully installed tb-nightly-1.14.0a20190301 tensorflow-2.0.0a0 tf-estimator-nightly-1.14.0.dev2019030115\n"
          ],
          "name": "stdout"
        },
        {
          "output_type": "stream",
          "text": [
            "/usr/local/lib/python3.6/dist-packages/tensorflow/python/framework/dtypes.py:523: FutureWarning: Passing (type, 1) or '1type' as a synonym of type is deprecated; in a future version of numpy, it will be understood as (type, (1,)) / '(1,)type'.\n",
            "  _np_qint8 = np.dtype([(\"qint8\", np.int8, 1)])\n",
            "/usr/local/lib/python3.6/dist-packages/tensorflow/python/framework/dtypes.py:524: FutureWarning: Passing (type, 1) or '1type' as a synonym of type is deprecated; in a future version of numpy, it will be understood as (type, (1,)) / '(1,)type'.\n",
            "  _np_quint8 = np.dtype([(\"quint8\", np.uint8, 1)])\n",
            "/usr/local/lib/python3.6/dist-packages/tensorflow/python/framework/dtypes.py:525: FutureWarning: Passing (type, 1) or '1type' as a synonym of type is deprecated; in a future version of numpy, it will be understood as (type, (1,)) / '(1,)type'.\n",
            "  _np_qint16 = np.dtype([(\"qint16\", np.int16, 1)])\n",
            "/usr/local/lib/python3.6/dist-packages/tensorflow/python/framework/dtypes.py:526: FutureWarning: Passing (type, 1) or '1type' as a synonym of type is deprecated; in a future version of numpy, it will be understood as (type, (1,)) / '(1,)type'.\n",
            "  _np_quint16 = np.dtype([(\"quint16\", np.uint16, 1)])\n",
            "/usr/local/lib/python3.6/dist-packages/tensorflow/python/framework/dtypes.py:527: FutureWarning: Passing (type, 1) or '1type' as a synonym of type is deprecated; in a future version of numpy, it will be understood as (type, (1,)) / '(1,)type'.\n",
            "  _np_qint32 = np.dtype([(\"qint32\", np.int32, 1)])\n",
            "/usr/local/lib/python3.6/dist-packages/tensorflow/python/framework/dtypes.py:532: FutureWarning: Passing (type, 1) or '1type' as a synonym of type is deprecated; in a future version of numpy, it will be understood as (type, (1,)) / '(1,)type'.\n",
            "  np_resource = np.dtype([(\"resource\", np.ubyte, 1)])\n",
            "/usr/local/lib/python3.6/dist-packages/tensorboard/compat/tensorflow_stub/dtypes.py:541: FutureWarning: Passing (type, 1) or '1type' as a synonym of type is deprecated; in a future version of numpy, it will be understood as (type, (1,)) / '(1,)type'.\n",
            "  _np_qint8 = np.dtype([(\"qint8\", np.int8, 1)])\n",
            "/usr/local/lib/python3.6/dist-packages/tensorboard/compat/tensorflow_stub/dtypes.py:542: FutureWarning: Passing (type, 1) or '1type' as a synonym of type is deprecated; in a future version of numpy, it will be understood as (type, (1,)) / '(1,)type'.\n",
            "  _np_quint8 = np.dtype([(\"quint8\", np.uint8, 1)])\n",
            "/usr/local/lib/python3.6/dist-packages/tensorboard/compat/tensorflow_stub/dtypes.py:543: FutureWarning: Passing (type, 1) or '1type' as a synonym of type is deprecated; in a future version of numpy, it will be understood as (type, (1,)) / '(1,)type'.\n",
            "  _np_qint16 = np.dtype([(\"qint16\", np.int16, 1)])\n",
            "/usr/local/lib/python3.6/dist-packages/tensorboard/compat/tensorflow_stub/dtypes.py:544: FutureWarning: Passing (type, 1) or '1type' as a synonym of type is deprecated; in a future version of numpy, it will be understood as (type, (1,)) / '(1,)type'.\n",
            "  _np_quint16 = np.dtype([(\"quint16\", np.uint16, 1)])\n",
            "/usr/local/lib/python3.6/dist-packages/tensorboard/compat/tensorflow_stub/dtypes.py:545: FutureWarning: Passing (type, 1) or '1type' as a synonym of type is deprecated; in a future version of numpy, it will be understood as (type, (1,)) / '(1,)type'.\n",
            "  _np_qint32 = np.dtype([(\"qint32\", np.int32, 1)])\n",
            "/usr/local/lib/python3.6/dist-packages/tensorboard/compat/tensorflow_stub/dtypes.py:550: FutureWarning: Passing (type, 1) or '1type' as a synonym of type is deprecated; in a future version of numpy, it will be understood as (type, (1,)) / '(1,)type'.\n",
            "  np_resource = np.dtype([(\"resource\", np.ubyte, 1)])\n"
          ],
          "name": "stderr"
        }
      ]
    },
    {
      "cell_type": "code",
      "metadata": {
        "id": "mk29eke7llhX",
        "colab_type": "code",
        "colab": {
          "base_uri": "https://localhost:8080/",
          "height": 35
        },
        "outputId": "c84af8ed-24e2-4c06-8cfa-fe1c2e30e79d"
      },
      "source": [
        "print(tf.__version__)"
      ],
      "execution_count": 2,
      "outputs": [
        {
          "output_type": "stream",
          "text": [
            "2.0.0-alpha0\n"
          ],
          "name": "stdout"
        }
      ]
    },
    {
      "cell_type": "code",
      "metadata": {
        "id": "ihXkXfr1m4ku",
        "colab_type": "code",
        "colab": {}
      },
      "source": [
        "from sklearn.datasets import load_breast_cancer"
      ],
      "execution_count": 0,
      "outputs": []
    },
    {
      "cell_type": "code",
      "metadata": {
        "id": "uXcQMxHnnA2m",
        "colab_type": "code",
        "colab": {}
      },
      "source": [
        "data = load_breast_cancer()"
      ],
      "execution_count": 0,
      "outputs": []
    },
    {
      "cell_type": "code",
      "metadata": {
        "id": "1Vmy6axbnNEe",
        "colab_type": "code",
        "colab": {
          "base_uri": "https://localhost:8080/",
          "height": 35
        },
        "outputId": "41c7a1bd-cc1e-49df-e8c1-45d7b6bf44c7"
      },
      "source": [
        "type(data)"
      ],
      "execution_count": 5,
      "outputs": [
        {
          "output_type": "execute_result",
          "data": {
            "text/plain": [
              "sklearn.utils.Bunch"
            ]
          },
          "metadata": {
            "tags": []
          },
          "execution_count": 5
        }
      ]
    },
    {
      "cell_type": "code",
      "metadata": {
        "id": "P7_XpjBNnPxA",
        "colab_type": "code",
        "colab": {
          "base_uri": "https://localhost:8080/",
          "height": 35
        },
        "outputId": "f54cd8ce-dddc-4946-80d2-4c164d434630"
      },
      "source": [
        "data.keys()"
      ],
      "execution_count": 6,
      "outputs": [
        {
          "output_type": "execute_result",
          "data": {
            "text/plain": [
              "dict_keys(['data', 'target', 'target_names', 'DESCR', 'feature_names', 'filename'])"
            ]
          },
          "metadata": {
            "tags": []
          },
          "execution_count": 6
        }
      ]
    },
    {
      "cell_type": "code",
      "metadata": {
        "id": "Y4a4qcwxnTI0",
        "colab_type": "code",
        "colab": {
          "base_uri": "https://localhost:8080/",
          "height": 35
        },
        "outputId": "11540e50-60ec-4673-a2a5-3ba4c76868c6"
      },
      "source": [
        "data.data.shape"
      ],
      "execution_count": 7,
      "outputs": [
        {
          "output_type": "execute_result",
          "data": {
            "text/plain": [
              "(569, 30)"
            ]
          },
          "metadata": {
            "tags": []
          },
          "execution_count": 7
        }
      ]
    },
    {
      "cell_type": "code",
      "metadata": {
        "id": "EgyUNlADnVNN",
        "colab_type": "code",
        "colab": {
          "base_uri": "https://localhost:8080/",
          "height": 35
        },
        "outputId": "aa36b035-8f65-4535-df90-dd3f581a34f0"
      },
      "source": [
        "data.target.shape"
      ],
      "execution_count": 8,
      "outputs": [
        {
          "output_type": "execute_result",
          "data": {
            "text/plain": [
              "(569,)"
            ]
          },
          "metadata": {
            "tags": []
          },
          "execution_count": 8
        }
      ]
    },
    {
      "cell_type": "code",
      "metadata": {
        "id": "mCgLZ61Tncu5",
        "colab_type": "code",
        "colab": {
          "base_uri": "https://localhost:8080/",
          "height": 35
        },
        "outputId": "336dadeb-16c2-47aa-eb6c-3e15abc3a32e"
      },
      "source": [
        "data.target_names"
      ],
      "execution_count": 9,
      "outputs": [
        {
          "output_type": "execute_result",
          "data": {
            "text/plain": [
              "array(['malignant', 'benign'], dtype='<U9')"
            ]
          },
          "metadata": {
            "tags": []
          },
          "execution_count": 9
        }
      ]
    },
    {
      "cell_type": "code",
      "metadata": {
        "id": "Xw9OINrcnmtF",
        "colab_type": "code",
        "colab": {
          "base_uri": "https://localhost:8080/",
          "height": 190
        },
        "outputId": "54a2b256-76f8-4c82-a544-7a34cabc36d4"
      },
      "source": [
        "data.feature_names"
      ],
      "execution_count": 10,
      "outputs": [
        {
          "output_type": "execute_result",
          "data": {
            "text/plain": [
              "array(['mean radius', 'mean texture', 'mean perimeter', 'mean area',\n",
              "       'mean smoothness', 'mean compactness', 'mean concavity',\n",
              "       'mean concave points', 'mean symmetry', 'mean fractal dimension',\n",
              "       'radius error', 'texture error', 'perimeter error', 'area error',\n",
              "       'smoothness error', 'compactness error', 'concavity error',\n",
              "       'concave points error', 'symmetry error',\n",
              "       'fractal dimension error', 'worst radius', 'worst texture',\n",
              "       'worst perimeter', 'worst area', 'worst smoothness',\n",
              "       'worst compactness', 'worst concavity', 'worst concave points',\n",
              "       'worst symmetry', 'worst fractal dimension'], dtype='<U23')"
            ]
          },
          "metadata": {
            "tags": []
          },
          "execution_count": 10
        }
      ]
    },
    {
      "cell_type": "code",
      "metadata": {
        "id": "xCWSyclTn03D",
        "colab_type": "code",
        "colab": {}
      },
      "source": [
        "from sklearn.model_selection import train_test_split"
      ],
      "execution_count": 0,
      "outputs": []
    },
    {
      "cell_type": "code",
      "metadata": {
        "id": "nyYGrtxDoEgH",
        "colab_type": "code",
        "colab": {}
      },
      "source": [
        "X_test,X_train,y_test,y_train = train_test_split(data.data,data.target,test_size = 0.33)"
      ],
      "execution_count": 0,
      "outputs": []
    },
    {
      "cell_type": "code",
      "metadata": {
        "id": "Batm5ImcolHc",
        "colab_type": "code",
        "colab": {}
      },
      "source": [
        "N, D = X_train.shape"
      ],
      "execution_count": 0,
      "outputs": []
    },
    {
      "cell_type": "code",
      "metadata": {
        "id": "31y5I4Cgou8O",
        "colab_type": "code",
        "colab": {
          "base_uri": "https://localhost:8080/",
          "height": 35
        },
        "outputId": "157776a7-dcd9-4a9a-8095-0b3a64e88a9d"
      },
      "source": [
        "N"
      ],
      "execution_count": 14,
      "outputs": [
        {
          "output_type": "execute_result",
          "data": {
            "text/plain": [
              "188"
            ]
          },
          "metadata": {
            "tags": []
          },
          "execution_count": 14
        }
      ]
    },
    {
      "cell_type": "code",
      "metadata": {
        "id": "QpVmxIaAowUl",
        "colab_type": "code",
        "colab": {
          "base_uri": "https://localhost:8080/",
          "height": 35
        },
        "outputId": "1e50a5af-edab-4160-ffac-3055a42559d1"
      },
      "source": [
        "D"
      ],
      "execution_count": 15,
      "outputs": [
        {
          "output_type": "execute_result",
          "data": {
            "text/plain": [
              "30"
            ]
          },
          "metadata": {
            "tags": []
          },
          "execution_count": 15
        }
      ]
    },
    {
      "cell_type": "code",
      "metadata": {
        "id": "cL4NXmjioxMN",
        "colab_type": "code",
        "colab": {
          "base_uri": "https://localhost:8080/",
          "height": 242
        },
        "outputId": "afb2ba0e-a6e9-49bb-f621-49c9bf49bdee"
      },
      "source": [
        "X_train"
      ],
      "execution_count": 16,
      "outputs": [
        {
          "output_type": "execute_result",
          "data": {
            "text/plain": [
              "array([[1.166e+01, 1.707e+01, 7.370e+01, ..., 4.262e-02, 2.731e-01,\n",
              "        6.825e-02],\n",
              "       [1.684e+01, 1.946e+01, 1.084e+02, ..., 8.436e-02, 2.527e-01,\n",
              "        5.972e-02],\n",
              "       [1.277e+01, 2.141e+01, 8.202e+01, ..., 4.773e-02, 2.179e-01,\n",
              "        6.871e-02],\n",
              "       ...,\n",
              "       [1.955e+01, 2.321e+01, 1.289e+02, ..., 1.825e-01, 2.576e-01,\n",
              "        7.602e-02],\n",
              "       [1.057e+01, 2.022e+01, 7.015e+01, ..., 1.465e-01, 2.597e-01,\n",
              "        1.200e-01],\n",
              "       [1.611e+01, 1.805e+01, 1.051e+02, ..., 1.216e-01, 2.792e-01,\n",
              "        8.158e-02]])"
            ]
          },
          "metadata": {
            "tags": []
          },
          "execution_count": 16
        }
      ]
    },
    {
      "cell_type": "code",
      "metadata": {
        "id": "fZ5PkWxno2Km",
        "colab_type": "code",
        "colab": {}
      },
      "source": [
        "from sklearn.preprocessing import StandardScaler\n",
        "scaler = StandardScaler()\n",
        "\n",
        "X_train = scaler.fit_transform(X_train)\n",
        "X_test = scaler.fit_transform(X_test)\n"
      ],
      "execution_count": 0,
      "outputs": []
    },
    {
      "cell_type": "code",
      "metadata": {
        "id": "QNdU_J5upKrQ",
        "colab_type": "code",
        "colab": {
          "base_uri": "https://localhost:8080/",
          "height": 242
        },
        "outputId": "4d87fa1d-07e5-4572-8578-ddf9afc2ac9a"
      },
      "source": [
        "X_train"
      ],
      "execution_count": 18,
      "outputs": [
        {
          "output_type": "execute_result",
          "data": {
            "text/plain": [
              "array([[-0.75861728, -0.51882731, -0.81553862, ..., -1.16494696,\n",
              "        -0.21134301, -0.75202897],\n",
              "       [ 0.76632467,  0.01503004,  0.6781326 , ..., -0.50877082,\n",
              "        -0.49396886, -1.17154681],\n",
              "       [-0.431844  ,  0.45060402, -0.45740189, ..., -1.0846149 ,\n",
              "        -0.97609533, -0.7294055 ],\n",
              "       ...,\n",
              "       [ 1.56412248,  0.85267231,  1.56056084, ...,  1.03404487,\n",
              "        -0.42608324, -0.36988904],\n",
              "       [-1.07950275,  0.1847922 , -0.96834937, ...,  0.46810474,\n",
              "        -0.3969894 ,  1.7931115 ],\n",
              "       [ 0.55141972, -0.29992346,  0.53608317, ...,  0.07666281,\n",
              "        -0.12683233, -0.09644013]])"
            ]
          },
          "metadata": {
            "tags": []
          },
          "execution_count": 18
        }
      ]
    },
    {
      "cell_type": "code",
      "metadata": {
        "id": "Rxmj-uQdpZel",
        "colab_type": "code",
        "colab": {
          "base_uri": "https://localhost:8080/",
          "height": 1000
        },
        "outputId": "6035a2c0-332c-4c41-d4cc-7fbee5a31830"
      },
      "source": [
        "model = tf.keras.models.Sequential()\n",
        "model.add(tf.keras.layers.Dense(1, input_shape=(D,), activation='sigmoid'))\n",
        "\n",
        "model.compile(optimizer='Adam', loss='binary_crossentropy', metrics=['accuracy'])\n",
        "history = model.fit(X_train,y_train, validation_data=(X_test,y_test),epochs=100)\n",
        "\n"
      ],
      "execution_count": 19,
      "outputs": [
        {
          "output_type": "stream",
          "text": [
            "Train on 188 samples, validate on 381 samples\n",
            "Epoch 1/100\n",
            "188/188 [==============================] - 0s 990us/sample - loss: 1.6405 - accuracy: 0.1383 - val_loss: 1.6857 - val_accuracy: 0.1181\n",
            "Epoch 2/100\n",
            "188/188 [==============================] - 0s 144us/sample - loss: 1.5710 - accuracy: 0.1436 - val_loss: 1.6152 - val_accuracy: 0.1234\n",
            "Epoch 3/100\n",
            "188/188 [==============================] - 0s 123us/sample - loss: 1.5042 - accuracy: 0.1436 - val_loss: 1.5452 - val_accuracy: 0.1260\n",
            "Epoch 4/100\n",
            "188/188 [==============================] - 0s 131us/sample - loss: 1.4360 - accuracy: 0.1436 - val_loss: 1.4774 - val_accuracy: 0.1339\n",
            "Epoch 5/100\n",
            "188/188 [==============================] - 0s 132us/sample - loss: 1.3736 - accuracy: 0.1596 - val_loss: 1.4101 - val_accuracy: 0.1444\n",
            "Epoch 6/100\n",
            "188/188 [==============================] - 0s 150us/sample - loss: 1.3097 - accuracy: 0.1702 - val_loss: 1.3453 - val_accuracy: 0.1549\n",
            "Epoch 7/100\n",
            "188/188 [==============================] - 0s 130us/sample - loss: 1.2485 - accuracy: 0.1755 - val_loss: 1.2825 - val_accuracy: 0.1575\n",
            "Epoch 8/100\n",
            "188/188 [==============================] - 0s 160us/sample - loss: 1.1902 - accuracy: 0.1862 - val_loss: 1.2214 - val_accuracy: 0.1627\n",
            "Epoch 9/100\n",
            "188/188 [==============================] - 0s 174us/sample - loss: 1.1328 - accuracy: 0.1968 - val_loss: 1.1628 - val_accuracy: 0.1759\n",
            "Epoch 10/100\n",
            "188/188 [==============================] - 0s 170us/sample - loss: 1.0784 - accuracy: 0.2128 - val_loss: 1.1069 - val_accuracy: 0.1837\n",
            "Epoch 11/100\n",
            "188/188 [==============================] - 0s 182us/sample - loss: 1.0267 - accuracy: 0.2234 - val_loss: 1.0530 - val_accuracy: 0.1864\n",
            "Epoch 12/100\n",
            "188/188 [==============================] - 0s 153us/sample - loss: 0.9785 - accuracy: 0.2394 - val_loss: 1.0010 - val_accuracy: 0.1995\n",
            "Epoch 13/100\n",
            "188/188 [==============================] - 0s 134us/sample - loss: 0.9290 - accuracy: 0.2553 - val_loss: 0.9530 - val_accuracy: 0.2231\n",
            "Epoch 14/100\n",
            "188/188 [==============================] - 0s 126us/sample - loss: 0.8847 - accuracy: 0.2872 - val_loss: 0.9076 - val_accuracy: 0.2572\n",
            "Epoch 15/100\n",
            "188/188 [==============================] - 0s 163us/sample - loss: 0.8446 - accuracy: 0.3351 - val_loss: 0.8639 - val_accuracy: 0.3097\n",
            "Epoch 16/100\n",
            "188/188 [==============================] - 0s 147us/sample - loss: 0.8044 - accuracy: 0.3670 - val_loss: 0.8235 - val_accuracy: 0.3386\n",
            "Epoch 17/100\n",
            "188/188 [==============================] - 0s 149us/sample - loss: 0.7675 - accuracy: 0.4362 - val_loss: 0.7857 - val_accuracy: 0.3990\n",
            "Epoch 18/100\n",
            "188/188 [==============================] - 0s 141us/sample - loss: 0.7333 - accuracy: 0.5106 - val_loss: 0.7507 - val_accuracy: 0.4567\n",
            "Epoch 19/100\n",
            "188/188 [==============================] - 0s 130us/sample - loss: 0.7010 - accuracy: 0.5691 - val_loss: 0.7182 - val_accuracy: 0.5144\n",
            "Epoch 20/100\n",
            "188/188 [==============================] - 0s 146us/sample - loss: 0.6722 - accuracy: 0.6223 - val_loss: 0.6877 - val_accuracy: 0.5433\n",
            "Epoch 21/100\n",
            "188/188 [==============================] - 0s 133us/sample - loss: 0.6434 - accuracy: 0.6649 - val_loss: 0.6601 - val_accuracy: 0.5958\n",
            "Epoch 22/100\n",
            "188/188 [==============================] - 0s 141us/sample - loss: 0.6177 - accuracy: 0.7394 - val_loss: 0.6346 - val_accuracy: 0.6299\n",
            "Epoch 23/100\n",
            "188/188 [==============================] - 0s 121us/sample - loss: 0.5943 - accuracy: 0.7660 - val_loss: 0.6110 - val_accuracy: 0.6798\n",
            "Epoch 24/100\n",
            "188/188 [==============================] - 0s 146us/sample - loss: 0.5725 - accuracy: 0.8032 - val_loss: 0.5891 - val_accuracy: 0.7139\n",
            "Epoch 25/100\n",
            "188/188 [==============================] - 0s 133us/sample - loss: 0.5527 - accuracy: 0.8404 - val_loss: 0.5686 - val_accuracy: 0.7664\n",
            "Epoch 26/100\n",
            "188/188 [==============================] - 0s 132us/sample - loss: 0.5340 - accuracy: 0.8670 - val_loss: 0.5496 - val_accuracy: 0.7874\n",
            "Epoch 27/100\n",
            "188/188 [==============================] - 0s 126us/sample - loss: 0.5161 - accuracy: 0.8777 - val_loss: 0.5324 - val_accuracy: 0.8031\n",
            "Epoch 28/100\n",
            "188/188 [==============================] - 0s 159us/sample - loss: 0.5002 - accuracy: 0.8723 - val_loss: 0.5163 - val_accuracy: 0.8294\n",
            "Epoch 29/100\n",
            "188/188 [==============================] - 0s 161us/sample - loss: 0.4861 - accuracy: 0.8830 - val_loss: 0.5009 - val_accuracy: 0.8478\n",
            "Epoch 30/100\n",
            "188/188 [==============================] - 0s 126us/sample - loss: 0.4718 - accuracy: 0.8883 - val_loss: 0.4868 - val_accuracy: 0.8609\n",
            "Epoch 31/100\n",
            "188/188 [==============================] - 0s 166us/sample - loss: 0.4588 - accuracy: 0.8936 - val_loss: 0.4738 - val_accuracy: 0.8661\n",
            "Epoch 32/100\n",
            "188/188 [==============================] - 0s 143us/sample - loss: 0.4468 - accuracy: 0.8936 - val_loss: 0.4615 - val_accuracy: 0.8714\n",
            "Epoch 33/100\n",
            "188/188 [==============================] - 0s 141us/sample - loss: 0.4358 - accuracy: 0.8883 - val_loss: 0.4499 - val_accuracy: 0.8740\n",
            "Epoch 34/100\n",
            "188/188 [==============================] - 0s 143us/sample - loss: 0.4253 - accuracy: 0.8936 - val_loss: 0.4391 - val_accuracy: 0.8793\n",
            "Epoch 35/100\n",
            "188/188 [==============================] - 0s 141us/sample - loss: 0.4152 - accuracy: 0.8936 - val_loss: 0.4290 - val_accuracy: 0.8793\n",
            "Epoch 36/100\n",
            "188/188 [==============================] - 0s 135us/sample - loss: 0.4063 - accuracy: 0.8989 - val_loss: 0.4192 - val_accuracy: 0.8845\n",
            "Epoch 37/100\n",
            "188/188 [==============================] - 0s 168us/sample - loss: 0.3972 - accuracy: 0.8989 - val_loss: 0.4102 - val_accuracy: 0.8898\n",
            "Epoch 38/100\n",
            "188/188 [==============================] - 0s 142us/sample - loss: 0.3890 - accuracy: 0.8989 - val_loss: 0.4017 - val_accuracy: 0.8976\n",
            "Epoch 39/100\n",
            "188/188 [==============================] - 0s 133us/sample - loss: 0.3815 - accuracy: 0.8989 - val_loss: 0.3934 - val_accuracy: 0.8976\n",
            "Epoch 40/100\n",
            "188/188 [==============================] - 0s 142us/sample - loss: 0.3738 - accuracy: 0.8989 - val_loss: 0.3858 - val_accuracy: 0.8976\n",
            "Epoch 41/100\n",
            "188/188 [==============================] - 0s 131us/sample - loss: 0.3669 - accuracy: 0.8989 - val_loss: 0.3785 - val_accuracy: 0.9003\n",
            "Epoch 42/100\n",
            "188/188 [==============================] - 0s 149us/sample - loss: 0.3603 - accuracy: 0.9096 - val_loss: 0.3715 - val_accuracy: 0.9081\n",
            "Epoch 43/100\n",
            "188/188 [==============================] - 0s 142us/sample - loss: 0.3538 - accuracy: 0.9043 - val_loss: 0.3648 - val_accuracy: 0.9108\n",
            "Epoch 44/100\n",
            "188/188 [==============================] - 0s 182us/sample - loss: 0.3479 - accuracy: 0.9096 - val_loss: 0.3584 - val_accuracy: 0.9108\n",
            "Epoch 45/100\n",
            "188/188 [==============================] - 0s 135us/sample - loss: 0.3420 - accuracy: 0.9096 - val_loss: 0.3523 - val_accuracy: 0.9186\n",
            "Epoch 46/100\n",
            "188/188 [==============================] - 0s 139us/sample - loss: 0.3365 - accuracy: 0.9149 - val_loss: 0.3465 - val_accuracy: 0.9186\n",
            "Epoch 47/100\n",
            "188/188 [==============================] - 0s 124us/sample - loss: 0.3313 - accuracy: 0.9149 - val_loss: 0.3408 - val_accuracy: 0.9265\n",
            "Epoch 48/100\n",
            "188/188 [==============================] - 0s 132us/sample - loss: 0.3262 - accuracy: 0.9202 - val_loss: 0.3354 - val_accuracy: 0.9318\n",
            "Epoch 49/100\n",
            "188/188 [==============================] - 0s 142us/sample - loss: 0.3213 - accuracy: 0.9202 - val_loss: 0.3302 - val_accuracy: 0.9318\n",
            "Epoch 50/100\n",
            "188/188 [==============================] - 0s 164us/sample - loss: 0.3167 - accuracy: 0.9202 - val_loss: 0.3252 - val_accuracy: 0.9344\n",
            "Epoch 51/100\n",
            "188/188 [==============================] - 0s 116us/sample - loss: 0.3122 - accuracy: 0.9255 - val_loss: 0.3205 - val_accuracy: 0.9396\n",
            "Epoch 52/100\n",
            "188/188 [==============================] - 0s 142us/sample - loss: 0.3080 - accuracy: 0.9255 - val_loss: 0.3159 - val_accuracy: 0.9449\n",
            "Epoch 53/100\n",
            "188/188 [==============================] - 0s 145us/sample - loss: 0.3037 - accuracy: 0.9255 - val_loss: 0.3114 - val_accuracy: 0.9475\n",
            "Epoch 54/100\n",
            "188/188 [==============================] - 0s 156us/sample - loss: 0.2997 - accuracy: 0.9255 - val_loss: 0.3072 - val_accuracy: 0.9501\n",
            "Epoch 55/100\n",
            "188/188 [==============================] - 0s 148us/sample - loss: 0.2959 - accuracy: 0.9309 - val_loss: 0.3030 - val_accuracy: 0.9501\n",
            "Epoch 56/100\n",
            "188/188 [==============================] - 0s 138us/sample - loss: 0.2923 - accuracy: 0.9309 - val_loss: 0.2990 - val_accuracy: 0.9501\n",
            "Epoch 57/100\n",
            "188/188 [==============================] - 0s 136us/sample - loss: 0.2887 - accuracy: 0.9309 - val_loss: 0.2950 - val_accuracy: 0.9528\n",
            "Epoch 58/100\n",
            "188/188 [==============================] - 0s 140us/sample - loss: 0.2851 - accuracy: 0.9362 - val_loss: 0.2913 - val_accuracy: 0.9554\n",
            "Epoch 59/100\n",
            "188/188 [==============================] - 0s 132us/sample - loss: 0.2818 - accuracy: 0.9362 - val_loss: 0.2877 - val_accuracy: 0.9554\n",
            "Epoch 60/100\n",
            "188/188 [==============================] - 0s 129us/sample - loss: 0.2787 - accuracy: 0.9362 - val_loss: 0.2841 - val_accuracy: 0.9554\n",
            "Epoch 61/100\n",
            "188/188 [==============================] - 0s 174us/sample - loss: 0.2755 - accuracy: 0.9362 - val_loss: 0.2807 - val_accuracy: 0.9554\n",
            "Epoch 62/100\n",
            "188/188 [==============================] - 0s 142us/sample - loss: 0.2725 - accuracy: 0.9362 - val_loss: 0.2774 - val_accuracy: 0.9554\n",
            "Epoch 63/100\n",
            "188/188 [==============================] - 0s 142us/sample - loss: 0.2696 - accuracy: 0.9362 - val_loss: 0.2742 - val_accuracy: 0.9580\n",
            "Epoch 64/100\n",
            "188/188 [==============================] - 0s 138us/sample - loss: 0.2668 - accuracy: 0.9362 - val_loss: 0.2711 - val_accuracy: 0.9580\n",
            "Epoch 65/100\n",
            "188/188 [==============================] - 0s 128us/sample - loss: 0.2640 - accuracy: 0.9362 - val_loss: 0.2681 - val_accuracy: 0.9580\n",
            "Epoch 66/100\n",
            "188/188 [==============================] - 0s 141us/sample - loss: 0.2613 - accuracy: 0.9362 - val_loss: 0.2652 - val_accuracy: 0.9580\n",
            "Epoch 67/100\n",
            "188/188 [==============================] - 0s 130us/sample - loss: 0.2588 - accuracy: 0.9362 - val_loss: 0.2623 - val_accuracy: 0.9580\n",
            "Epoch 68/100\n",
            "188/188 [==============================] - 0s 140us/sample - loss: 0.2563 - accuracy: 0.9362 - val_loss: 0.2595 - val_accuracy: 0.9606\n",
            "Epoch 69/100\n",
            "188/188 [==============================] - 0s 162us/sample - loss: 0.2539 - accuracy: 0.9362 - val_loss: 0.2568 - val_accuracy: 0.9606\n",
            "Epoch 70/100\n",
            "188/188 [==============================] - 0s 149us/sample - loss: 0.2515 - accuracy: 0.9362 - val_loss: 0.2541 - val_accuracy: 0.9606\n",
            "Epoch 71/100\n",
            "188/188 [==============================] - 0s 135us/sample - loss: 0.2492 - accuracy: 0.9362 - val_loss: 0.2516 - val_accuracy: 0.9606\n",
            "Epoch 72/100\n",
            "188/188 [==============================] - 0s 141us/sample - loss: 0.2470 - accuracy: 0.9362 - val_loss: 0.2492 - val_accuracy: 0.9606\n",
            "Epoch 73/100\n",
            "188/188 [==============================] - 0s 127us/sample - loss: 0.2448 - accuracy: 0.9362 - val_loss: 0.2467 - val_accuracy: 0.9606\n",
            "Epoch 74/100\n",
            "188/188 [==============================] - 0s 144us/sample - loss: 0.2427 - accuracy: 0.9362 - val_loss: 0.2444 - val_accuracy: 0.9633\n",
            "Epoch 75/100\n",
            "188/188 [==============================] - 0s 136us/sample - loss: 0.2407 - accuracy: 0.9362 - val_loss: 0.2420 - val_accuracy: 0.9633\n",
            "Epoch 76/100\n",
            "188/188 [==============================] - 0s 124us/sample - loss: 0.2388 - accuracy: 0.9362 - val_loss: 0.2398 - val_accuracy: 0.9633\n",
            "Epoch 77/100\n",
            "188/188 [==============================] - 0s 171us/sample - loss: 0.2368 - accuracy: 0.9362 - val_loss: 0.2376 - val_accuracy: 0.9633\n",
            "Epoch 78/100\n",
            "188/188 [==============================] - 0s 140us/sample - loss: 0.2349 - accuracy: 0.9362 - val_loss: 0.2355 - val_accuracy: 0.9633\n",
            "Epoch 79/100\n",
            "188/188 [==============================] - 0s 145us/sample - loss: 0.2330 - accuracy: 0.9362 - val_loss: 0.2334 - val_accuracy: 0.9659\n",
            "Epoch 80/100\n",
            "188/188 [==============================] - 0s 147us/sample - loss: 0.2314 - accuracy: 0.9362 - val_loss: 0.2313 - val_accuracy: 0.9659\n",
            "Epoch 81/100\n",
            "188/188 [==============================] - 0s 144us/sample - loss: 0.2296 - accuracy: 0.9362 - val_loss: 0.2294 - val_accuracy: 0.9659\n",
            "Epoch 82/100\n",
            "188/188 [==============================] - 0s 133us/sample - loss: 0.2278 - accuracy: 0.9415 - val_loss: 0.2275 - val_accuracy: 0.9659\n",
            "Epoch 83/100\n",
            "188/188 [==============================] - 0s 152us/sample - loss: 0.2262 - accuracy: 0.9415 - val_loss: 0.2255 - val_accuracy: 0.9659\n",
            "Epoch 84/100\n",
            "188/188 [==============================] - 0s 137us/sample - loss: 0.2246 - accuracy: 0.9415 - val_loss: 0.2237 - val_accuracy: 0.9659\n",
            "Epoch 85/100\n",
            "188/188 [==============================] - 0s 188us/sample - loss: 0.2230 - accuracy: 0.9468 - val_loss: 0.2219 - val_accuracy: 0.9685\n",
            "Epoch 86/100\n",
            "188/188 [==============================] - 0s 131us/sample - loss: 0.2215 - accuracy: 0.9468 - val_loss: 0.2202 - val_accuracy: 0.9685\n",
            "Epoch 87/100\n",
            "188/188 [==============================] - 0s 136us/sample - loss: 0.2199 - accuracy: 0.9468 - val_loss: 0.2185 - val_accuracy: 0.9685\n",
            "Epoch 88/100\n",
            "188/188 [==============================] - 0s 149us/sample - loss: 0.2185 - accuracy: 0.9468 - val_loss: 0.2168 - val_accuracy: 0.9685\n",
            "Epoch 89/100\n",
            "188/188 [==============================] - 0s 141us/sample - loss: 0.2171 - accuracy: 0.9468 - val_loss: 0.2151 - val_accuracy: 0.9685\n",
            "Epoch 90/100\n",
            "188/188 [==============================] - 0s 132us/sample - loss: 0.2157 - accuracy: 0.9468 - val_loss: 0.2134 - val_accuracy: 0.9685\n",
            "Epoch 91/100\n",
            "188/188 [==============================] - 0s 146us/sample - loss: 0.2143 - accuracy: 0.9468 - val_loss: 0.2118 - val_accuracy: 0.9685\n",
            "Epoch 92/100\n",
            "188/188 [==============================] - 0s 170us/sample - loss: 0.2129 - accuracy: 0.9468 - val_loss: 0.2102 - val_accuracy: 0.9685\n",
            "Epoch 93/100\n",
            "188/188 [==============================] - 0s 143us/sample - loss: 0.2117 - accuracy: 0.9468 - val_loss: 0.2087 - val_accuracy: 0.9685\n",
            "Epoch 94/100\n",
            "188/188 [==============================] - 0s 133us/sample - loss: 0.2104 - accuracy: 0.9468 - val_loss: 0.2072 - val_accuracy: 0.9711\n",
            "Epoch 95/100\n",
            "188/188 [==============================] - 0s 158us/sample - loss: 0.2091 - accuracy: 0.9468 - val_loss: 0.2057 - val_accuracy: 0.9711\n",
            "Epoch 96/100\n",
            "188/188 [==============================] - 0s 133us/sample - loss: 0.2079 - accuracy: 0.9468 - val_loss: 0.2042 - val_accuracy: 0.9711\n",
            "Epoch 97/100\n",
            "188/188 [==============================] - 0s 132us/sample - loss: 0.2067 - accuracy: 0.9468 - val_loss: 0.2028 - val_accuracy: 0.9711\n",
            "Epoch 98/100\n",
            "188/188 [==============================] - 0s 181us/sample - loss: 0.2055 - accuracy: 0.9468 - val_loss: 0.2014 - val_accuracy: 0.9711\n",
            "Epoch 99/100\n",
            "188/188 [==============================] - 0s 140us/sample - loss: 0.2044 - accuracy: 0.9468 - val_loss: 0.2001 - val_accuracy: 0.9711\n",
            "Epoch 100/100\n",
            "188/188 [==============================] - 0s 170us/sample - loss: 0.2032 - accuracy: 0.9521 - val_loss: 0.1987 - val_accuracy: 0.9711\n"
          ],
          "name": "stdout"
        }
      ]
    },
    {
      "cell_type": "code",
      "metadata": {
        "id": "tvtRT8VFqPoq",
        "colab_type": "code",
        "colab": {
          "base_uri": "https://localhost:8080/",
          "height": 86
        },
        "outputId": "5ddb5697-e371-43e6-c5d0-9a1593a70b57"
      },
      "source": [
        "print(\"Training score\", model.evaluate(X_train,y_train))\n",
        "print(\"Test score\", model.evaluate(X_test,y_test))"
      ],
      "execution_count": 20,
      "outputs": [
        {
          "output_type": "stream",
          "text": [
            "188/188 [==============================] - 0s 71us/sample - loss: 0.2025 - accuracy: 0.9521\n",
            "Training score [0.20254482170368762, 0.95212764]\n",
            "381/381 [==============================] - 0s 42us/sample - loss: 0.1987 - accuracy: 0.9711\n",
            "Test score [0.1987215235164472, 0.9711286]\n"
          ],
          "name": "stdout"
        }
      ]
    },
    {
      "cell_type": "code",
      "metadata": {
        "id": "Bd9nW6invonN",
        "colab_type": "code",
        "colab": {
          "base_uri": "https://localhost:8080/",
          "height": 35
        },
        "outputId": "b9a5fee0-fa2b-407e-8c71-9098104ac19e"
      },
      "source": [
        "history.history.keys()"
      ],
      "execution_count": 21,
      "outputs": [
        {
          "output_type": "execute_result",
          "data": {
            "text/plain": [
              "dict_keys(['loss', 'accuracy', 'val_loss', 'val_accuracy'])"
            ]
          },
          "metadata": {
            "tags": []
          },
          "execution_count": 21
        }
      ]
    },
    {
      "cell_type": "code",
      "metadata": {
        "id": "nAU0OSKCvE_g",
        "colab_type": "code",
        "colab": {
          "base_uri": "https://localhost:8080/",
          "height": 282
        },
        "outputId": "c7dc950f-3842-432e-b3d9-262f8415eb5b"
      },
      "source": [
        "import matplotlib.pyplot as plt\n",
        "plt.plot(history.history['loss'],label='loss')\n",
        "plt.plot(history.history['val_loss'],label ='val_loss')\n",
        "plt.legend()"
      ],
      "execution_count": 22,
      "outputs": [
        {
          "output_type": "execute_result",
          "data": {
            "text/plain": [
              "<matplotlib.legend.Legend at 0x7fd06242a9b0>"
            ]
          },
          "metadata": {
            "tags": []
          },
          "execution_count": 22
        },
        {
          "output_type": "display_data",
          "data": {
            "image/png": "[encoded data removed]",
            "text/plain": [
              "<Figure size 432x288 with 1 Axes>"
            ]
          },
          "metadata": {
            "tags": []
          }
        }
      ]
    },
    {
      "cell_type": "code",
      "metadata": {
        "id": "sBNGB14UvfUL",
        "colab_type": "code",
        "colab": {
          "base_uri": "https://localhost:8080/",
          "height": 284
        },
        "outputId": "c585a44c-4a8e-410e-c2de-1af5a30f4df7"
      },
      "source": [
        "plt.plot(history.history['accuracy'],label='acc')\n",
        "plt.plot(history.history['val_accuracy'],label ='val_acc')\n",
        "plt.legend()"
      ],
      "execution_count": 23,
      "outputs": [
        {
          "output_type": "execute_result",
          "data": {
            "text/plain": [
              "<matplotlib.legend.Legend at 0x7fd061f899e8>"
            ]
          },
          "metadata": {
            "tags": []
          },
          "execution_count": 23
        },
        {
          "output_type": "display_data",
          "data": {
            "image/png": "[encoded data removed]",
            "text/plain": [
              "<Figure size 432x288 with 1 Axes>"
            ]
          },
          "metadata": {
            "tags": []
          }
        }
      ]
    },
    {
      "cell_type": "code",
      "metadata": {
        "id": "AW2R8tb0wj3N",
        "colab_type": "code",
        "colab": {
          "base_uri": "https://localhost:8080/",
          "height": 1000
        },
        "outputId": "6b31545d-be82-4873-8ae2-71bb11797b63"
      },
      "source": [
        "P = model.predict(X_test)\n",
        "print(P)"
      ],
      "execution_count": 24,
      "outputs": [
        {
          "output_type": "stream",
          "text": [
            "[[1.93881691e-02]\n",
            " [9.78819370e-01]\n",
            " [3.47319543e-01]\n",
            " [7.64894485e-01]\n",
            " [7.90545344e-03]\n",
            " [9.72478032e-01]\n",
            " [1.52295619e-01]\n",
            " [3.32800567e-01]\n",
            " [4.19182479e-02]\n",
            " [8.78982425e-01]\n",
            " [2.48500109e-02]\n",
            " [8.39140773e-01]\n",
            " [1.48045063e-01]\n",
            " [1.35989189e-02]\n",
            " [8.83478284e-01]\n",
            " [8.47890675e-01]\n",
            " [8.47430706e-01]\n",
            " [4.03297096e-01]\n",
            " [3.29157412e-02]\n",
            " [8.51904452e-01]\n",
            " [6.16551518e-01]\n",
            " [3.60169142e-01]\n",
            " [8.50664735e-01]\n",
            " [7.36782908e-01]\n",
            " [8.92561734e-01]\n",
            " [2.98945606e-02]\n",
            " [8.28504682e-01]\n",
            " [9.30981219e-01]\n",
            " [2.82317162e-01]\n",
            " [2.94933379e-01]\n",
            " [1.45688415e-01]\n",
            " [4.48426902e-02]\n",
            " [9.10046101e-01]\n",
            " [3.64873946e-01]\n",
            " [3.77923608e-01]\n",
            " [3.72025371e-03]\n",
            " [2.90189505e-01]\n",
            " [6.15131974e-01]\n",
            " [6.79564178e-01]\n",
            " [2.06995606e-02]\n",
            " [9.45439160e-01]\n",
            " [1.25248134e-02]\n",
            " [8.92548203e-01]\n",
            " [8.85813177e-01]\n",
            " [9.14559126e-01]\n",
            " [9.34485495e-02]\n",
            " [6.75666332e-03]\n",
            " [8.68873835e-01]\n",
            " [3.91647249e-01]\n",
            " [7.70855904e-01]\n",
            " [8.81463051e-01]\n",
            " [5.69687784e-01]\n",
            " [1.24629200e-01]\n",
            " [9.52134848e-01]\n",
            " [2.37274170e-03]\n",
            " [5.06233633e-01]\n",
            " [6.19004726e-01]\n",
            " [6.06119871e-01]\n",
            " [9.35504973e-01]\n",
            " [9.87825215e-01]\n",
            " [9.62644398e-01]\n",
            " [9.81871724e-01]\n",
            " [8.63294780e-01]\n",
            " [8.33617568e-01]\n",
            " [7.04526067e-01]\n",
            " [7.84841180e-02]\n",
            " [9.57115173e-01]\n",
            " [7.90741801e-01]\n",
            " [9.04783607e-03]\n",
            " [5.77328205e-01]\n",
            " [9.65308666e-01]\n",
            " [9.31464911e-01]\n",
            " [1.69356942e-01]\n",
            " [3.84265900e-01]\n",
            " [4.25207257e-01]\n",
            " [1.73813045e-01]\n",
            " [1.44225150e-01]\n",
            " [8.07435393e-01]\n",
            " [2.42571056e-01]\n",
            " [2.89695263e-01]\n",
            " [9.20317471e-01]\n",
            " [9.06269789e-01]\n",
            " [8.21704626e-01]\n",
            " [9.67644155e-01]\n",
            " [9.15254653e-01]\n",
            " [9.42063570e-01]\n",
            " [6.45642459e-01]\n",
            " [8.95638347e-01]\n",
            " [2.03576386e-02]\n",
            " [9.13075924e-01]\n",
            " [6.88891351e-01]\n",
            " [9.36862111e-01]\n",
            " [8.53190303e-01]\n",
            " [9.22933221e-01]\n",
            " [8.68715227e-01]\n",
            " [7.25831747e-01]\n",
            " [8.48220229e-01]\n",
            " [7.89680362e-01]\n",
            " [9.27343130e-01]\n",
            " [1.27689242e-02]\n",
            " [8.23229909e-01]\n",
            " [1.02195442e-02]\n",
            " [7.54132509e-01]\n",
            " [7.60264039e-01]\n",
            " [9.66081619e-01]\n",
            " [9.73366261e-01]\n",
            " [2.71498859e-02]\n",
            " [8.11690092e-03]\n",
            " [9.38058972e-01]\n",
            " [8.45159411e-01]\n",
            " [9.43099499e-01]\n",
            " [7.01044142e-01]\n",
            " [5.50462782e-01]\n",
            " [6.09950781e-01]\n",
            " [1.86436474e-02]\n",
            " [6.84899092e-03]\n",
            " [8.67306530e-01]\n",
            " [8.44621778e-01]\n",
            " [9.82224643e-02]\n",
            " [9.52967227e-01]\n",
            " [8.49437714e-03]\n",
            " [6.29090428e-01]\n",
            " [8.59797239e-01]\n",
            " [9.07812238e-01]\n",
            " [6.34298742e-01]\n",
            " [7.08028436e-01]\n",
            " [3.22887003e-02]\n",
            " [3.51443946e-01]\n",
            " [2.42161959e-01]\n",
            " [5.63675761e-01]\n",
            " [9.04140651e-01]\n",
            " [2.30823755e-02]\n",
            " [1.19124055e-02]\n",
            " [2.21110582e-02]\n",
            " [5.40597975e-01]\n",
            " [8.72121453e-01]\n",
            " [8.21679354e-01]\n",
            " [8.04970682e-01]\n",
            " [6.97284102e-01]\n",
            " [9.37204361e-01]\n",
            " [8.47406030e-01]\n",
            " [5.38969398e-01]\n",
            " [3.81101370e-02]\n",
            " [1.55511796e-01]\n",
            " [3.56048346e-04]\n",
            " [7.30595112e-01]\n",
            " [7.51465261e-02]\n",
            " [3.77384245e-01]\n",
            " [9.48520005e-01]\n",
            " [7.18739748e-01]\n",
            " [7.39253521e-01]\n",
            " [2.46463150e-01]\n",
            " [8.13178241e-01]\n",
            " [6.95995450e-01]\n",
            " [8.14641953e-01]\n",
            " [9.83107209e-01]\n",
            " [8.37572575e-01]\n",
            " [8.32082212e-01]\n",
            " [7.90308893e-01]\n",
            " [6.18667781e-01]\n",
            " [5.15655339e-01]\n",
            " [1.34237617e-01]\n",
            " [1.12886727e-02]\n",
            " [7.95663595e-01]\n",
            " [9.61027801e-01]\n",
            " [5.07660806e-01]\n",
            " [2.43027806e-02]\n",
            " [3.52502704e-01]\n",
            " [9.19092774e-01]\n",
            " [6.78093314e-01]\n",
            " [9.54557657e-01]\n",
            " [9.93445396e-01]\n",
            " [9.84961927e-01]\n",
            " [2.87946463e-01]\n",
            " [7.33608067e-01]\n",
            " [7.56526589e-01]\n",
            " [9.73321080e-01]\n",
            " [8.91421974e-01]\n",
            " [2.77787447e-04]\n",
            " [9.33858693e-01]\n",
            " [5.13637960e-02]\n",
            " [4.14247811e-02]\n",
            " [5.13045192e-01]\n",
            " [5.45221865e-01]\n",
            " [1.15953386e-01]\n",
            " [5.97405314e-01]\n",
            " [9.71624494e-01]\n",
            " [7.66006947e-01]\n",
            " [9.44584846e-01]\n",
            " [5.31703949e-01]\n",
            " [3.49392533e-01]\n",
            " [1.71575487e-01]\n",
            " [8.80707562e-01]\n",
            " [9.02727604e-01]\n",
            " [9.74915981e-01]\n",
            " [7.33464539e-01]\n",
            " [6.92345798e-01]\n",
            " [8.90681863e-01]\n",
            " [9.81634915e-01]\n",
            " [9.05597806e-02]\n",
            " [9.42388892e-01]\n",
            " [7.21617818e-01]\n",
            " [9.42007542e-01]\n",
            " [5.89264631e-02]\n",
            " [9.55997586e-01]\n",
            " [7.82592654e-01]\n",
            " [1.87193155e-02]\n",
            " [4.86356616e-02]\n",
            " [9.10164118e-01]\n",
            " [8.56788456e-01]\n",
            " [1.87188387e-04]\n",
            " [7.79790998e-01]\n",
            " [7.74541616e-01]\n",
            " [9.57729340e-01]\n",
            " [8.03218961e-01]\n",
            " [9.83199835e-01]\n",
            " [6.80993676e-01]\n",
            " [7.36518383e-01]\n",
            " [8.45906436e-01]\n",
            " [7.47486591e-01]\n",
            " [4.55409288e-04]\n",
            " [9.56873298e-01]\n",
            " [9.55983400e-02]\n",
            " [7.02662528e-01]\n",
            " [7.80237019e-02]\n",
            " [2.24077433e-01]\n",
            " [6.06357455e-01]\n",
            " [2.54341215e-01]\n",
            " [1.12677664e-01]\n",
            " [9.47965443e-01]\n",
            " [9.05074000e-01]\n",
            " [7.86293149e-01]\n",
            " [8.87878537e-01]\n",
            " [9.62873459e-01]\n",
            " [8.29435110e-01]\n",
            " [9.70135927e-01]\n",
            " [3.07364464e-01]\n",
            " [6.31884038e-02]\n",
            " [2.83621311e-01]\n",
            " [7.63775527e-01]\n",
            " [8.98475766e-01]\n",
            " [9.00151014e-01]\n",
            " [9.11533833e-04]\n",
            " [8.37737203e-01]\n",
            " [8.55757833e-01]\n",
            " [9.36988711e-01]\n",
            " [1.15193069e-01]\n",
            " [6.54615164e-01]\n",
            " [3.86170208e-01]\n",
            " [7.73363352e-01]\n",
            " [1.80727541e-02]\n",
            " [5.95363796e-01]\n",
            " [7.43261874e-02]\n",
            " [2.87276626e-01]\n",
            " [1.63616389e-01]\n",
            " [8.94419312e-01]\n",
            " [8.58401597e-01]\n",
            " [8.69309664e-01]\n",
            " [7.53389001e-01]\n",
            " [5.46359718e-02]\n",
            " [7.71440029e-01]\n",
            " [8.49680781e-01]\n",
            " [7.84536719e-01]\n",
            " [9.58019137e-01]\n",
            " [7.94649363e-01]\n",
            " [7.70986557e-01]\n",
            " [8.50560188e-01]\n",
            " [7.15235114e-01]\n",
            " [1.39152825e-01]\n",
            " [8.71792912e-01]\n",
            " [5.07559180e-02]\n",
            " [7.86542892e-04]\n",
            " [8.63654375e-01]\n",
            " [8.78420830e-01]\n",
            " [8.85896206e-01]\n",
            " [7.97885299e-01]\n",
            " [9.24722612e-01]\n",
            " [8.96071970e-01]\n",
            " [3.26162755e-01]\n",
            " [9.10899699e-01]\n",
            " [7.73266733e-01]\n",
            " [8.71853530e-01]\n",
            " [9.36048746e-01]\n",
            " [6.46462321e-01]\n",
            " [1.02181911e-01]\n",
            " [8.52899313e-01]\n",
            " [9.60721552e-01]\n",
            " [7.46414065e-03]\n",
            " [9.51248407e-01]\n",
            " [1.40621662e-02]\n",
            " [1.45518780e-03]\n",
            " [5.07138491e-01]\n",
            " [8.06142628e-01]\n",
            " [6.02489591e-01]\n",
            " [9.16033626e-01]\n",
            " [9.66946125e-01]\n",
            " [6.59529150e-01]\n",
            " [9.78566527e-01]\n",
            " [8.08472574e-01]\n",
            " [5.95222831e-01]\n",
            " [1.13547772e-01]\n",
            " [1.37337297e-01]\n",
            " [8.30155790e-01]\n",
            " [5.52682281e-02]\n",
            " [2.56934404e-01]\n",
            " [8.32000434e-01]\n",
            " [8.66267323e-01]\n",
            " [5.55149138e-01]\n",
            " [2.30249852e-01]\n",
            " [4.59196568e-02]\n",
            " [7.90118933e-01]\n",
            " [7.56374240e-01]\n",
            " [9.05770421e-01]\n",
            " [9.15154457e-01]\n",
            " [8.07780862e-01]\n",
            " [9.45925474e-01]\n",
            " [9.73509550e-01]\n",
            " [6.82718039e-01]\n",
            " [8.09679627e-01]\n",
            " [1.04799271e-02]\n",
            " [9.39918756e-01]\n",
            " [6.18213415e-01]\n",
            " [5.87562859e-01]\n",
            " [2.27418542e-03]\n",
            " [4.42258090e-01]\n",
            " [6.81097150e-01]\n",
            " [9.56758976e-01]\n",
            " [6.41280174e-01]\n",
            " [3.18460345e-01]\n",
            " [3.98004055e-03]\n",
            " [8.61181915e-01]\n",
            " [9.20909405e-01]\n",
            " [8.57377946e-01]\n",
            " [7.04198837e-01]\n",
            " [8.38630438e-01]\n",
            " [9.46484327e-01]\n",
            " [4.92364168e-04]\n",
            " [8.70406628e-04]\n",
            " [4.07126278e-01]\n",
            " [4.86264527e-02]\n",
            " [6.09169900e-02]\n",
            " [1.09512210e-02]\n",
            " [1.06595457e-01]\n",
            " [7.40443230e-01]\n",
            " [8.21147084e-01]\n",
            " [5.42130947e-01]\n",
            " [9.60273087e-01]\n",
            " [1.54695153e-01]\n",
            " [9.15021300e-01]\n",
            " [9.39207673e-01]\n",
            " [1.40680969e-02]\n",
            " [1.96139693e-01]\n",
            " [9.51786339e-01]\n",
            " [5.38416862e-01]\n",
            " [8.74959230e-01]\n",
            " [8.91198158e-01]\n",
            " [9.30203795e-02]\n",
            " [1.56682730e-03]\n",
            " [1.09914303e-01]\n",
            " [9.43701267e-01]\n",
            " [9.86389160e-01]\n",
            " [1.44213438e-03]\n",
            " [6.03357494e-01]\n",
            " [5.54089546e-02]\n",
            " [1.33791566e-01]\n",
            " [9.89992857e-01]\n",
            " [1.96695328e-06]\n",
            " [2.22820640e-02]\n",
            " [8.82953644e-01]\n",
            " [9.44467425e-01]\n",
            " [8.61580253e-01]\n",
            " [1.43773556e-01]\n",
            " [3.66303921e-01]\n",
            " [8.11240315e-01]\n",
            " [9.45569515e-01]\n",
            " [9.62776780e-01]\n",
            " [9.82010067e-01]\n",
            " [8.53117049e-01]\n",
            " [1.45334341e-02]\n",
            " [8.04105759e-01]\n",
            " [3.79589833e-02]]\n"
          ],
          "name": "stdout"
        }
      ]
    },
    {
      "cell_type": "code",
      "metadata": {
        "id": "6wQ9gHSLwp99",
        "colab_type": "code",
        "outputId": "dc731206-1a3f-4acd-f12a-b3c6df76786e",
        "colab": {
          "base_uri": "https://localhost:8080/",
          "height": 294
        }
      },
      "source": [
        "import numpy as np\n",
        "P = np.round(P).flatten()\n",
        "print(P)"
      ],
      "execution_count": 25,
      "outputs": [
        {
          "output_type": "stream",
          "text": [
            "[0. 1. 0. 1. 0. 1. 0. 0. 0. 1. 0. 1. 0. 0. 1. 1. 1. 0. 0. 1. 1. 0. 1. 1.\n",
            " 1. 0. 1. 1. 0. 0. 0. 0. 1. 0. 0. 0. 0. 1. 1. 0. 1. 0. 1. 1. 1. 0. 0. 1.\n",
            " 0. 1. 1. 1. 0. 1. 0. 1. 1. 1. 1. 1. 1. 1. 1. 1. 1. 0. 1. 1. 0. 1. 1. 1.\n",
            " 0. 0. 0. 0. 0. 1. 0. 0. 1. 1. 1. 1. 1. 1. 1. 1. 0. 1. 1. 1. 1. 1. 1. 1.\n",
            " 1. 1. 1. 0. 1. 0. 1. 1. 1. 1. 0. 0. 1. 1. 1. 1. 1. 1. 0. 0. 1. 1. 0. 1.\n",
            " 0. 1. 1. 1. 1. 1. 0. 0. 0. 1. 1. 0. 0. 0. 1. 1. 1. 1. 1. 1. 1. 1. 0. 0.\n",
            " 0. 1. 0. 0. 1. 1. 1. 0. 1. 1. 1. 1. 1. 1. 1. 1. 1. 0. 0. 1. 1. 1. 0. 0.\n",
            " 1. 1. 1. 1. 1. 0. 1. 1. 1. 1. 0. 1. 0. 0. 1. 1. 0. 1. 1. 1. 1. 1. 0. 0.\n",
            " 1. 1. 1. 1. 1. 1. 1. 0. 1. 1. 1. 0. 1. 1. 0. 0. 1. 1. 0. 1. 1. 1. 1. 1.\n",
            " 1. 1. 1. 1. 0. 1. 0. 1. 0. 0. 1. 0. 0. 1. 1. 1. 1. 1. 1. 1. 0. 0. 0. 1.\n",
            " 1. 1. 0. 1. 1. 1. 0. 1. 0. 1. 0. 1. 0. 0. 0. 1. 1. 1. 1. 0. 1. 1. 1. 1.\n",
            " 1. 1. 1. 1. 0. 1. 0. 0. 1. 1. 1. 1. 1. 1. 0. 1. 1. 1. 1. 1. 0. 1. 1. 0.\n",
            " 1. 0. 0. 1. 1. 1. 1. 1. 1. 1. 1. 1. 0. 0. 1. 0. 0. 1. 1. 1. 0. 0. 1. 1.\n",
            " 1. 1. 1. 1. 1. 1. 1. 0. 1. 1. 1. 0. 0. 1. 1. 1. 0. 0. 1. 1. 1. 1. 1. 1.\n",
            " 0. 0. 0. 0. 0. 0. 0. 1. 1. 1. 1. 0. 1. 1. 0. 0. 1. 1. 1. 1. 0. 0. 0. 1.\n",
            " 1. 0. 1. 0. 0. 1. 0. 0. 1. 1. 1. 0. 0. 1. 1. 1. 1. 1. 0. 1. 0.]\n"
          ],
          "name": "stdout"
        }
      ]
    },
    {
      "cell_type": "code",
      "metadata": {
        "id": "ngJYRlSKHTgy",
        "colab_type": "code",
        "outputId": "4eacb46b-6e63-41ae-929e-46fe329daaaf",
        "colab": {
          "base_uri": "https://localhost:8080/",
          "height": 69
        }
      },
      "source": [
        "print(\"Manually canculation accuracy :\", np.mean( P == y_test))\n",
        "print(\"Evaluated by model :\", model.evaluate(X_test,y_test))"
      ],
      "execution_count": 26,
      "outputs": [
        {
          "output_type": "stream",
          "text": [
            "Manually canculation accuracy : 0.9711286089238845\n",
            "381/381 [==============================] - 0s 51us/sample - loss: 0.1987 - accuracy: 0.9711\n",
            "Evaluated by model : [0.1987215235164472, 0.9711286]\n"
          ],
          "name": "stdout"
        }
      ]
    },
    {
      "cell_type": "code",
      "metadata": {
        "id": "Fii49TQGHsKa",
        "colab_type": "code",
        "colab": {}
      },
      "source": [
        "#Save model\n",
        "model.save('linearclassification.h5')/content/linearclassification.h5"
      ],
      "execution_count": 0,
      "outputs": []
    },
    {
      "cell_type": "code",
      "metadata": {
        "id": "8SOLefx7Koop",
        "colab_type": "code",
        "colab": {
          "base_uri": "https://localhost:8080/",
          "height": 69
        },
        "outputId": "2648b395-b8df-48c6-aca4-75bb427b6d7e"
      },
      "source": [
        "!ls -lh"
      ],
      "execution_count": 28,
      "outputs": [
        {
          "output_type": "stream",
          "text": [
            "total 24K\n",
            "-rw-r--r-- 1 root root  20K Nov  4 06:46 linearclassification.h5\n",
            "drwxr-xr-x 1 root root 4.0K Oct 25 16:58 sample_data\n"
          ],
          "name": "stdout"
        }
      ]
    },
    {
      "cell_type": "code",
      "metadata": {
        "id": "kTT5FVUHKrnv",
        "colab_type": "code",
        "colab": {
          "base_uri": "https://localhost:8080/",
          "height": 69
        },
        "outputId": "5daf5d1e-b036-4f8c-ff31-af95a88e028b"
      },
      "source": [
        "model = tf.keras.models.load_model('/content/linearclassification.h5')\n",
        "print(model.layers)\n",
        "model.evaluate(X_test, y_test)"
      ],
      "execution_count": 29,
      "outputs": [
        {
          "output_type": "stream",
          "text": [
            "[<tensorflow.python.keras.layers.core.Dense object at 0x7fd060e18160>]\n",
            "381/381 [==============================] - 0s 119us/sample - loss: 0.1987 - accuracy: 0.9711\n"
          ],
          "name": "stdout"
        },
        {
          "output_type": "execute_result",
          "data": {
            "text/plain": [
              "[0.1987215235164472, 0.9711286]"
            ]
          },
          "metadata": {
            "tags": []
          },
          "execution_count": 29
        }
      ]
    },
    {
      "cell_type": "code",
      "metadata": {
        "id": "l7n82-_gLtwq",
        "colab_type": "code",
        "colab": {}
      },
      "source": [
        "from google.colab import files\n",
        "files.download('/content/linearclassification.h5')"
      ],
      "execution_count": 0,
      "outputs": []
    },
    {
      "cell_type": "code",
      "metadata": {
        "id": "dBmfimEDMzLi",
        "colab_type": "code",
        "colab": {}
      },
      "source": [
        ""
      ],
      "execution_count": 0,
      "outputs": []
    }
  ]
}