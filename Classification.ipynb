{
  "nbformat": 4,
  "nbformat_minor": 0,
  "metadata": {
    "colab": {
      "name": "Classification.ipynb",
      "provenance": [],
      "collapsed_sections": [],
      "include_colab_link": true
    },
    "kernelspec": {
      "name": "python3",
      "display_name": "Python 3"
    },
    "accelerator": "GPU"
  },
  "cells": [
    {
      "cell_type": "markdown",
      "metadata": {
        "id": "view-in-github",
        "colab_type": "text"
      },
      "source": [
        "<a href=\"https://colab.research.google.com/github/amitaucs/tensorflowexplore/blob/master/Classification.ipynb\" target=\"_parent\"><img src=\"https://colab.research.google.com/assets/colab-badge.svg\" alt=\"Open In Colab\"/></a>"
      ]
    },
    {
      "cell_type": "code",
      "metadata": {
        "id": "27SO4Es2kdww",
        "colab_type": "code",
        "colab": {
          "base_uri": "https://localhost:8080/",
          "height": 970
        },
        "outputId": "12a164e5-8511-4632-8730-3b8903fad7e6"
      },
      "source": [
        "!pip install tensorflow==2.0.0-alpha\n",
        "import tensorflow as tf\n"
      ],
      "execution_count": 2,
      "outputs": [
        {
          "output_type": "stream",
          "text": [
            "Collecting tensorflow==2.0.0-alpha\n",
            "\u001b[?25l  Downloading https://files.pythonhosted.org/packages/29/39/f99185d39131b8333afcfe1dcdb0629c2ffc4ecfb0e4c14ca210d620e56c/tensorflow-2.0.0a0-cp36-cp36m-manylinux1_x86_64.whl (79.9MB)\n",
            "\u001b[K     |████████████████████████████████| 79.9MB 135kB/s \n",
            "\u001b[?25hRequirement already satisfied: termcolor>=1.1.0 in /usr/local/lib/python3.6/dist-packages (from tensorflow==2.0.0-alpha) (1.1.0)\n",
            "Requirement already satisfied: google-pasta>=0.1.2 in /usr/local/lib/python3.6/dist-packages (from tensorflow==2.0.0-alpha) (0.1.7)\n",
            "Requirement already satisfied: keras-applications>=1.0.6 in /usr/local/lib/python3.6/dist-packages (from tensorflow==2.0.0-alpha) (1.0.8)\n",
            "Requirement already satisfied: numpy<2.0,>=1.14.5 in /usr/local/lib/python3.6/dist-packages (from tensorflow==2.0.0-alpha) (1.17.3)\n",
            "Requirement already satisfied: keras-preprocessing>=1.0.5 in /usr/local/lib/python3.6/dist-packages (from tensorflow==2.0.0-alpha) (1.1.0)\n",
            "Requirement already satisfied: grpcio>=1.8.6 in /usr/local/lib/python3.6/dist-packages (from tensorflow==2.0.0-alpha) (1.15.0)\n",
            "Requirement already satisfied: six>=1.10.0 in /usr/local/lib/python3.6/dist-packages (from tensorflow==2.0.0-alpha) (1.12.0)\n",
            "Requirement already satisfied: wheel>=0.26 in /usr/local/lib/python3.6/dist-packages (from tensorflow==2.0.0-alpha) (0.33.6)\n",
            "Requirement already satisfied: absl-py>=0.7.0 in /usr/local/lib/python3.6/dist-packages (from tensorflow==2.0.0-alpha) (0.8.1)\n",
            "Requirement already satisfied: gast>=0.2.0 in /usr/local/lib/python3.6/dist-packages (from tensorflow==2.0.0-alpha) (0.2.2)\n",
            "Requirement already satisfied: protobuf>=3.6.1 in /usr/local/lib/python3.6/dist-packages (from tensorflow==2.0.0-alpha) (3.10.0)\n",
            "Collecting tf-estimator-nightly<1.14.0.dev2019030116,>=1.14.0.dev2019030115\n",
            "\u001b[?25l  Downloading https://files.pythonhosted.org/packages/13/82/f16063b4eed210dc2ab057930ac1da4fbe1e91b7b051a6c8370b401e6ae7/tf_estimator_nightly-1.14.0.dev2019030115-py2.py3-none-any.whl (411kB)\n",
            "\u001b[K     |████████████████████████████████| 419kB 38.6MB/s \n",
            "\u001b[?25hCollecting tb-nightly<1.14.0a20190302,>=1.14.0a20190301\n",
            "\u001b[?25l  Downloading https://files.pythonhosted.org/packages/a9/51/aa1d756644bf4624c03844115e4ac4058eff77acd786b26315f051a4b195/tb_nightly-1.14.0a20190301-py3-none-any.whl (3.0MB)\n",
            "\u001b[K     |████████████████████████████████| 3.0MB 35.1MB/s \n",
            "\u001b[?25hRequirement already satisfied: astor>=0.6.0 in /usr/local/lib/python3.6/dist-packages (from tensorflow==2.0.0-alpha) (0.8.0)\n",
            "Requirement already satisfied: h5py in /usr/local/lib/python3.6/dist-packages (from keras-applications>=1.0.6->tensorflow==2.0.0-alpha) (2.8.0)\n",
            "Requirement already satisfied: setuptools in /usr/local/lib/python3.6/dist-packages (from protobuf>=3.6.1->tensorflow==2.0.0-alpha) (41.4.0)\n",
            "Requirement already satisfied: markdown>=2.6.8 in /usr/local/lib/python3.6/dist-packages (from tb-nightly<1.14.0a20190302,>=1.14.0a20190301->tensorflow==2.0.0-alpha) (3.1.1)\n",
            "Requirement already satisfied: werkzeug>=0.11.15 in /usr/local/lib/python3.6/dist-packages (from tb-nightly<1.14.0a20190302,>=1.14.0a20190301->tensorflow==2.0.0-alpha) (0.16.0)\n",
            "Installing collected packages: tf-estimator-nightly, tb-nightly, tensorflow\n",
            "  Found existing installation: tensorflow 1.15.0\n",
            "    Uninstalling tensorflow-1.15.0:\n",
            "      Successfully uninstalled tensorflow-1.15.0\n",
            "Successfully installed tb-nightly-1.14.0a20190301 tensorflow-2.0.0a0 tf-estimator-nightly-1.14.0.dev2019030115\n"
          ],
          "name": "stdout"
        },
        {
          "output_type": "stream",
          "text": [
            "/usr/local/lib/python3.6/dist-packages/tensorflow/python/framework/dtypes.py:523: FutureWarning: Passing (type, 1) or '1type' as a synonym of type is deprecated; in a future version of numpy, it will be understood as (type, (1,)) / '(1,)type'.\n",
            "  _np_qint8 = np.dtype([(\"qint8\", np.int8, 1)])\n",
            "/usr/local/lib/python3.6/dist-packages/tensorflow/python/framework/dtypes.py:524: FutureWarning: Passing (type, 1) or '1type' as a synonym of type is deprecated; in a future version of numpy, it will be understood as (type, (1,)) / '(1,)type'.\n",
            "  _np_quint8 = np.dtype([(\"quint8\", np.uint8, 1)])\n",
            "/usr/local/lib/python3.6/dist-packages/tensorflow/python/framework/dtypes.py:525: FutureWarning: Passing (type, 1) or '1type' as a synonym of type is deprecated; in a future version of numpy, it will be understood as (type, (1,)) / '(1,)type'.\n",
            "  _np_qint16 = np.dtype([(\"qint16\", np.int16, 1)])\n",
            "/usr/local/lib/python3.6/dist-packages/tensorflow/python/framework/dtypes.py:526: FutureWarning: Passing (type, 1) or '1type' as a synonym of type is deprecated; in a future version of numpy, it will be understood as (type, (1,)) / '(1,)type'.\n",
            "  _np_quint16 = np.dtype([(\"quint16\", np.uint16, 1)])\n",
            "/usr/local/lib/python3.6/dist-packages/tensorflow/python/framework/dtypes.py:527: FutureWarning: Passing (type, 1) or '1type' as a synonym of type is deprecated; in a future version of numpy, it will be understood as (type, (1,)) / '(1,)type'.\n",
            "  _np_qint32 = np.dtype([(\"qint32\", np.int32, 1)])\n",
            "/usr/local/lib/python3.6/dist-packages/tensorflow/python/framework/dtypes.py:532: FutureWarning: Passing (type, 1) or '1type' as a synonym of type is deprecated; in a future version of numpy, it will be understood as (type, (1,)) / '(1,)type'.\n",
            "  np_resource = np.dtype([(\"resource\", np.ubyte, 1)])\n",
            "/usr/local/lib/python3.6/dist-packages/tensorboard/compat/tensorflow_stub/dtypes.py:541: FutureWarning: Passing (type, 1) or '1type' as a synonym of type is deprecated; in a future version of numpy, it will be understood as (type, (1,)) / '(1,)type'.\n",
            "  _np_qint8 = np.dtype([(\"qint8\", np.int8, 1)])\n",
            "/usr/local/lib/python3.6/dist-packages/tensorboard/compat/tensorflow_stub/dtypes.py:542: FutureWarning: Passing (type, 1) or '1type' as a synonym of type is deprecated; in a future version of numpy, it will be understood as (type, (1,)) / '(1,)type'.\n",
            "  _np_quint8 = np.dtype([(\"quint8\", np.uint8, 1)])\n",
            "/usr/local/lib/python3.6/dist-packages/tensorboard/compat/tensorflow_stub/dtypes.py:543: FutureWarning: Passing (type, 1) or '1type' as a synonym of type is deprecated; in a future version of numpy, it will be understood as (type, (1,)) / '(1,)type'.\n",
            "  _np_qint16 = np.dtype([(\"qint16\", np.int16, 1)])\n",
            "/usr/local/lib/python3.6/dist-packages/tensorboard/compat/tensorflow_stub/dtypes.py:544: FutureWarning: Passing (type, 1) or '1type' as a synonym of type is deprecated; in a future version of numpy, it will be understood as (type, (1,)) / '(1,)type'.\n",
            "  _np_quint16 = np.dtype([(\"quint16\", np.uint16, 1)])\n",
            "/usr/local/lib/python3.6/dist-packages/tensorboard/compat/tensorflow_stub/dtypes.py:545: FutureWarning: Passing (type, 1) or '1type' as a synonym of type is deprecated; in a future version of numpy, it will be understood as (type, (1,)) / '(1,)type'.\n",
            "  _np_qint32 = np.dtype([(\"qint32\", np.int32, 1)])\n",
            "/usr/local/lib/python3.6/dist-packages/tensorboard/compat/tensorflow_stub/dtypes.py:550: FutureWarning: Passing (type, 1) or '1type' as a synonym of type is deprecated; in a future version of numpy, it will be understood as (type, (1,)) / '(1,)type'.\n",
            "  np_resource = np.dtype([(\"resource\", np.ubyte, 1)])\n"
          ],
          "name": "stderr"
        }
      ]
    },
    {
      "cell_type": "code",
      "metadata": {
        "id": "mk29eke7llhX",
        "colab_type": "code",
        "outputId": "f7abac5e-3532-4dbf-c205-77a86bc79cfe",
        "colab": {
          "base_uri": "https://localhost:8080/",
          "height": 35
        }
      },
      "source": [
        "print(tf.__version__)"
      ],
      "execution_count": 3,
      "outputs": [
        {
          "output_type": "stream",
          "text": [
            "2.0.0-alpha0\n"
          ],
          "name": "stdout"
        }
      ]
    },
    {
      "cell_type": "code",
      "metadata": {
        "id": "ihXkXfr1m4ku",
        "colab_type": "code",
        "colab": {}
      },
      "source": [
        "from sklearn.datasets import load_breast_cancer"
      ],
      "execution_count": 0,
      "outputs": []
    },
    {
      "cell_type": "code",
      "metadata": {
        "id": "uXcQMxHnnA2m",
        "colab_type": "code",
        "colab": {}
      },
      "source": [
        "data = load_breast_cancer()"
      ],
      "execution_count": 0,
      "outputs": []
    },
    {
      "cell_type": "code",
      "metadata": {
        "id": "1Vmy6axbnNEe",
        "colab_type": "code",
        "outputId": "03f8691c-2447-4cef-f30c-0bede0398759",
        "colab": {
          "base_uri": "https://localhost:8080/",
          "height": 35
        }
      },
      "source": [
        "type(data)"
      ],
      "execution_count": 6,
      "outputs": [
        {
          "output_type": "execute_result",
          "data": {
            "text/plain": [
              "sklearn.utils.Bunch"
            ]
          },
          "metadata": {
            "tags": []
          },
          "execution_count": 6
        }
      ]
    },
    {
      "cell_type": "code",
      "metadata": {
        "id": "P7_XpjBNnPxA",
        "colab_type": "code",
        "outputId": "e8fca267-626f-4d86-f81b-c89f50b4f880",
        "colab": {
          "base_uri": "https://localhost:8080/",
          "height": 35
        }
      },
      "source": [
        "data.keys()"
      ],
      "execution_count": 7,
      "outputs": [
        {
          "output_type": "execute_result",
          "data": {
            "text/plain": [
              "dict_keys(['data', 'target', 'target_names', 'DESCR', 'feature_names', 'filename'])"
            ]
          },
          "metadata": {
            "tags": []
          },
          "execution_count": 7
        }
      ]
    },
    {
      "cell_type": "code",
      "metadata": {
        "id": "Y4a4qcwxnTI0",
        "colab_type": "code",
        "outputId": "5bf7cb67-270d-465f-eb37-9487c27abbec",
        "colab": {
          "base_uri": "https://localhost:8080/",
          "height": 35
        }
      },
      "source": [
        "data.data.shape"
      ],
      "execution_count": 8,
      "outputs": [
        {
          "output_type": "execute_result",
          "data": {
            "text/plain": [
              "(569, 30)"
            ]
          },
          "metadata": {
            "tags": []
          },
          "execution_count": 8
        }
      ]
    },
    {
      "cell_type": "code",
      "metadata": {
        "id": "EgyUNlADnVNN",
        "colab_type": "code",
        "outputId": "e3d3a945-f140-4251-a49f-8dd07eef3a3e",
        "colab": {
          "base_uri": "https://localhost:8080/",
          "height": 35
        }
      },
      "source": [
        "data.target.shape"
      ],
      "execution_count": 9,
      "outputs": [
        {
          "output_type": "execute_result",
          "data": {
            "text/plain": [
              "(569,)"
            ]
          },
          "metadata": {
            "tags": []
          },
          "execution_count": 9
        }
      ]
    },
    {
      "cell_type": "code",
      "metadata": {
        "id": "mCgLZ61Tncu5",
        "colab_type": "code",
        "outputId": "02cd1191-4009-4f42-c603-8aabba8df5e7",
        "colab": {
          "base_uri": "https://localhost:8080/",
          "height": 35
        }
      },
      "source": [
        "data.target_names"
      ],
      "execution_count": 10,
      "outputs": [
        {
          "output_type": "execute_result",
          "data": {
            "text/plain": [
              "array(['malignant', 'benign'], dtype='<U9')"
            ]
          },
          "metadata": {
            "tags": []
          },
          "execution_count": 10
        }
      ]
    },
    {
      "cell_type": "code",
      "metadata": {
        "id": "Xw9OINrcnmtF",
        "colab_type": "code",
        "outputId": "e8fe2e8e-5a68-46dc-dff9-dd5f79ed2665",
        "colab": {
          "base_uri": "https://localhost:8080/",
          "height": 190
        }
      },
      "source": [
        "data.feature_names"
      ],
      "execution_count": 11,
      "outputs": [
        {
          "output_type": "execute_result",
          "data": {
            "text/plain": [
              "array(['mean radius', 'mean texture', 'mean perimeter', 'mean area',\n",
              "       'mean smoothness', 'mean compactness', 'mean concavity',\n",
              "       'mean concave points', 'mean symmetry', 'mean fractal dimension',\n",
              "       'radius error', 'texture error', 'perimeter error', 'area error',\n",
              "       'smoothness error', 'compactness error', 'concavity error',\n",
              "       'concave points error', 'symmetry error',\n",
              "       'fractal dimension error', 'worst radius', 'worst texture',\n",
              "       'worst perimeter', 'worst area', 'worst smoothness',\n",
              "       'worst compactness', 'worst concavity', 'worst concave points',\n",
              "       'worst symmetry', 'worst fractal dimension'], dtype='<U23')"
            ]
          },
          "metadata": {
            "tags": []
          },
          "execution_count": 11
        }
      ]
    },
    {
      "cell_type": "code",
      "metadata": {
        "id": "xCWSyclTn03D",
        "colab_type": "code",
        "colab": {}
      },
      "source": [
        "from sklearn.model_selection import train_test_split"
      ],
      "execution_count": 0,
      "outputs": []
    },
    {
      "cell_type": "code",
      "metadata": {
        "id": "nyYGrtxDoEgH",
        "colab_type": "code",
        "colab": {}
      },
      "source": [
        "X_test,X_train,y_test,y_train = train_test_split(data.data,data.target,test_size = 0.33)"
      ],
      "execution_count": 0,
      "outputs": []
    },
    {
      "cell_type": "code",
      "metadata": {
        "id": "Batm5ImcolHc",
        "colab_type": "code",
        "colab": {}
      },
      "source": [
        "N, D = X_train.shape"
      ],
      "execution_count": 0,
      "outputs": []
    },
    {
      "cell_type": "code",
      "metadata": {
        "id": "31y5I4Cgou8O",
        "colab_type": "code",
        "colab": {}
      },
      "source": [
        "N"
      ],
      "execution_count": 0,
      "outputs": []
    },
    {
      "cell_type": "code",
      "metadata": {
        "id": "QpVmxIaAowUl",
        "colab_type": "code",
        "colab": {}
      },
      "source": [
        "D"
      ],
      "execution_count": 0,
      "outputs": []
    },
    {
      "cell_type": "code",
      "metadata": {
        "id": "cL4NXmjioxMN",
        "colab_type": "code",
        "outputId": "878f2596-f3bf-43ec-a2c8-de084f49c0d5",
        "colab": {
          "base_uri": "https://localhost:8080/",
          "height": 242
        }
      },
      "source": [
        "X_train"
      ],
      "execution_count": 15,
      "outputs": [
        {
          "output_type": "execute_result",
          "data": {
            "text/plain": [
              "array([[1.490e+01, 2.253e+01, 1.021e+02, ..., 2.475e-01, 2.866e-01,\n",
              "        1.155e-01],\n",
              "       [1.328e+01, 2.028e+01, 8.732e+01, ..., 1.492e-01, 3.739e-01,\n",
              "        1.027e-01],\n",
              "       [1.157e+01, 1.904e+01, 7.420e+01, ..., 6.664e-02, 3.035e-01,\n",
              "        8.284e-02],\n",
              "       ...,\n",
              "       [1.757e+01, 1.505e+01, 1.150e+02, ..., 1.456e-01, 2.756e-01,\n",
              "        7.919e-02],\n",
              "       [9.787e+00, 1.994e+01, 6.211e+01, ..., 2.381e-02, 1.934e-01,\n",
              "        8.988e-02],\n",
              "       [2.175e+01, 2.099e+01, 1.473e+02, ..., 1.841e-01, 2.833e-01,\n",
              "        8.858e-02]])"
            ]
          },
          "metadata": {
            "tags": []
          },
          "execution_count": 15
        }
      ]
    },
    {
      "cell_type": "code",
      "metadata": {
        "id": "fZ5PkWxno2Km",
        "colab_type": "code",
        "colab": {}
      },
      "source": [
        "from sklearn.preprocessing import StandardScaler\n",
        "scaler = StandardScaler()\n",
        "\n",
        "X_train = scaler.fit_transform(X_train)\n",
        "X_test = scaler.fit_transform(X_test)\n"
      ],
      "execution_count": 0,
      "outputs": []
    },
    {
      "cell_type": "code",
      "metadata": {
        "id": "QNdU_J5upKrQ",
        "colab_type": "code",
        "outputId": "20c0d741-559d-47cf-a4a7-d03c3595d603",
        "colab": {
          "base_uri": "https://localhost:8080/",
          "height": 242
        }
      },
      "source": [
        "X_train"
      ],
      "execution_count": 17,
      "outputs": [
        {
          "output_type": "execute_result",
          "data": {
            "text/plain": [
              "array([[ 0.17102266,  0.69764458,  0.37708083, ...,  2.05099276,\n",
              "        -0.03514213,  1.57208549],\n",
              "       [-0.30353648,  0.17901809, -0.25601396, ...,  0.48967147,\n",
              "         1.30368499,  0.9117227 ],\n",
              "       [-0.80446002, -0.10680273, -0.81800338, ..., -0.82164782,\n",
              "         0.22403517, -0.11287143],\n",
              "       ...,\n",
              "       [ 0.95316644, -1.02650036,  0.92964665, ...,  0.43249185,\n",
              "        -0.20383742, -0.30117801],\n",
              "       [-1.32676802,  0.10064787, -1.3358732 , ..., -1.50192647,\n",
              "        -1.46445127,  0.2503281 ],\n",
              "       [ 2.1776462 ,  0.34267356,  2.31320292, ...,  1.04399612,\n",
              "        -0.08575072,  0.18326   ]])"
            ]
          },
          "metadata": {
            "tags": []
          },
          "execution_count": 17
        }
      ]
    },
    {
      "cell_type": "code",
      "metadata": {
        "id": "Rxmj-uQdpZel",
        "colab_type": "code",
        "outputId": "d7b82246-ce1b-4108-91a1-8e1f2b0f65b4",
        "colab": {
          "base_uri": "https://localhost:8080/",
          "height": 1000
        }
      },
      "source": [
        "model = tf.keras.models.Sequential()\n",
        "model.add(tf.keras.layers.Dense(1, input_shape=(D,), activation='sigmoid'))\n",
        "\n",
        "model.compile(optimizer='Adam', loss='binary_crossentropy', metrics=['accuracy'])\n",
        "history = model.fit(X_train,y_train, validation_data=(X_test,y_test),epochs=100)\n",
        "\n"
      ],
      "execution_count": 20,
      "outputs": [
        {
          "output_type": "stream",
          "text": [
            "Train on 188 samples, validate on 381 samples\n",
            "Epoch 1/100\n",
            "188/188 [==============================] - 0s 1ms/sample - loss: 1.1707 - accuracy: 0.1915 - val_loss: 1.1420 - val_accuracy: 0.2572\n",
            "Epoch 2/100\n",
            "188/188 [==============================] - 0s 141us/sample - loss: 1.1143 - accuracy: 0.2074 - val_loss: 1.0871 - val_accuracy: 0.2730\n",
            "Epoch 3/100\n",
            "188/188 [==============================] - 0s 127us/sample - loss: 1.0605 - accuracy: 0.2181 - val_loss: 1.0345 - val_accuracy: 0.2913\n",
            "Epoch 4/100\n",
            "188/188 [==============================] - 0s 126us/sample - loss: 1.0108 - accuracy: 0.2819 - val_loss: 0.9840 - val_accuracy: 0.3176\n",
            "Epoch 5/100\n",
            "188/188 [==============================] - 0s 112us/sample - loss: 0.9598 - accuracy: 0.3245 - val_loss: 0.9370 - val_accuracy: 0.3360\n",
            "Epoch 6/100\n",
            "188/188 [==============================] - 0s 123us/sample - loss: 0.9149 - accuracy: 0.3617 - val_loss: 0.8919 - val_accuracy: 0.3570\n",
            "Epoch 7/100\n",
            "188/188 [==============================] - 0s 144us/sample - loss: 0.8713 - accuracy: 0.3777 - val_loss: 0.8497 - val_accuracy: 0.4042\n",
            "Epoch 8/100\n",
            "188/188 [==============================] - 0s 127us/sample - loss: 0.8308 - accuracy: 0.4309 - val_loss: 0.8103 - val_accuracy: 0.4226\n",
            "Epoch 9/100\n",
            "188/188 [==============================] - 0s 129us/sample - loss: 0.7930 - accuracy: 0.4574 - val_loss: 0.7738 - val_accuracy: 0.4856\n",
            "Epoch 10/100\n",
            "188/188 [==============================] - 0s 140us/sample - loss: 0.7574 - accuracy: 0.4947 - val_loss: 0.7400 - val_accuracy: 0.5223\n",
            "Epoch 11/100\n",
            "188/188 [==============================] - 0s 123us/sample - loss: 0.7249 - accuracy: 0.5266 - val_loss: 0.7086 - val_accuracy: 0.5486\n",
            "Epoch 12/100\n",
            "188/188 [==============================] - 0s 121us/sample - loss: 0.6959 - accuracy: 0.5479 - val_loss: 0.6789 - val_accuracy: 0.5906\n",
            "Epoch 13/100\n",
            "188/188 [==============================] - 0s 122us/sample - loss: 0.6670 - accuracy: 0.6064 - val_loss: 0.6521 - val_accuracy: 0.6352\n",
            "Epoch 14/100\n",
            "188/188 [==============================] - 0s 128us/sample - loss: 0.6405 - accuracy: 0.6543 - val_loss: 0.6275 - val_accuracy: 0.6745\n",
            "Epoch 15/100\n",
            "188/188 [==============================] - 0s 117us/sample - loss: 0.6165 - accuracy: 0.6968 - val_loss: 0.6046 - val_accuracy: 0.6982\n",
            "Epoch 16/100\n",
            "188/188 [==============================] - 0s 129us/sample - loss: 0.5941 - accuracy: 0.7021 - val_loss: 0.5835 - val_accuracy: 0.7349\n",
            "Epoch 17/100\n",
            "188/188 [==============================] - 0s 113us/sample - loss: 0.5737 - accuracy: 0.7340 - val_loss: 0.5637 - val_accuracy: 0.7690\n",
            "Epoch 18/100\n",
            "188/188 [==============================] - 0s 121us/sample - loss: 0.5542 - accuracy: 0.7447 - val_loss: 0.5455 - val_accuracy: 0.7769\n",
            "Epoch 19/100\n",
            "188/188 [==============================] - 0s 115us/sample - loss: 0.5364 - accuracy: 0.7447 - val_loss: 0.5283 - val_accuracy: 0.7900\n",
            "Epoch 20/100\n",
            "188/188 [==============================] - 0s 141us/sample - loss: 0.5197 - accuracy: 0.7660 - val_loss: 0.5124 - val_accuracy: 0.7979\n",
            "Epoch 21/100\n",
            "188/188 [==============================] - 0s 136us/sample - loss: 0.5039 - accuracy: 0.7766 - val_loss: 0.4975 - val_accuracy: 0.8005\n",
            "Epoch 22/100\n",
            "188/188 [==============================] - 0s 133us/sample - loss: 0.4896 - accuracy: 0.7766 - val_loss: 0.4835 - val_accuracy: 0.8084\n",
            "Epoch 23/100\n",
            "188/188 [==============================] - 0s 127us/sample - loss: 0.4755 - accuracy: 0.7819 - val_loss: 0.4705 - val_accuracy: 0.8215\n",
            "Epoch 24/100\n",
            "188/188 [==============================] - 0s 117us/sample - loss: 0.4626 - accuracy: 0.7979 - val_loss: 0.4583 - val_accuracy: 0.8373\n",
            "Epoch 25/100\n",
            "188/188 [==============================] - 0s 114us/sample - loss: 0.4509 - accuracy: 0.8085 - val_loss: 0.4466 - val_accuracy: 0.8478\n",
            "Epoch 26/100\n",
            "188/188 [==============================] - 0s 110us/sample - loss: 0.4391 - accuracy: 0.8138 - val_loss: 0.4357 - val_accuracy: 0.8504\n",
            "Epoch 27/100\n",
            "188/188 [==============================] - 0s 132us/sample - loss: 0.4282 - accuracy: 0.8191 - val_loss: 0.4255 - val_accuracy: 0.8583\n",
            "Epoch 28/100\n",
            "188/188 [==============================] - 0s 124us/sample - loss: 0.4180 - accuracy: 0.8298 - val_loss: 0.4158 - val_accuracy: 0.8661\n",
            "Epoch 29/100\n",
            "188/188 [==============================] - 0s 114us/sample - loss: 0.4085 - accuracy: 0.8298 - val_loss: 0.4064 - val_accuracy: 0.8714\n",
            "Epoch 30/100\n",
            "188/188 [==============================] - 0s 117us/sample - loss: 0.3992 - accuracy: 0.8298 - val_loss: 0.3975 - val_accuracy: 0.8766\n",
            "Epoch 31/100\n",
            "188/188 [==============================] - 0s 117us/sample - loss: 0.3905 - accuracy: 0.8404 - val_loss: 0.3890 - val_accuracy: 0.8766\n",
            "Epoch 32/100\n",
            "188/188 [==============================] - 0s 135us/sample - loss: 0.3821 - accuracy: 0.8404 - val_loss: 0.3810 - val_accuracy: 0.8793\n",
            "Epoch 33/100\n",
            "188/188 [==============================] - 0s 120us/sample - loss: 0.3742 - accuracy: 0.8511 - val_loss: 0.3734 - val_accuracy: 0.8819\n",
            "Epoch 34/100\n",
            "188/188 [==============================] - 0s 128us/sample - loss: 0.3664 - accuracy: 0.8564 - val_loss: 0.3662 - val_accuracy: 0.8845\n",
            "Epoch 35/100\n",
            "188/188 [==============================] - 0s 148us/sample - loss: 0.3595 - accuracy: 0.8564 - val_loss: 0.3591 - val_accuracy: 0.8871\n",
            "Epoch 36/100\n",
            "188/188 [==============================] - 0s 114us/sample - loss: 0.3524 - accuracy: 0.8617 - val_loss: 0.3524 - val_accuracy: 0.8924\n",
            "Epoch 37/100\n",
            "188/188 [==============================] - 0s 131us/sample - loss: 0.3457 - accuracy: 0.8670 - val_loss: 0.3460 - val_accuracy: 0.8950\n",
            "Epoch 38/100\n",
            "188/188 [==============================] - 0s 125us/sample - loss: 0.3394 - accuracy: 0.8777 - val_loss: 0.3399 - val_accuracy: 0.8976\n",
            "Epoch 39/100\n",
            "188/188 [==============================] - 0s 129us/sample - loss: 0.3331 - accuracy: 0.8777 - val_loss: 0.3341 - val_accuracy: 0.9003\n",
            "Epoch 40/100\n",
            "188/188 [==============================] - 0s 118us/sample - loss: 0.3274 - accuracy: 0.8883 - val_loss: 0.3284 - val_accuracy: 0.9003\n",
            "Epoch 41/100\n",
            "188/188 [==============================] - 0s 125us/sample - loss: 0.3217 - accuracy: 0.8883 - val_loss: 0.3230 - val_accuracy: 0.9055\n",
            "Epoch 42/100\n",
            "188/188 [==============================] - 0s 119us/sample - loss: 0.3165 - accuracy: 0.8883 - val_loss: 0.3177 - val_accuracy: 0.9108\n",
            "Epoch 43/100\n",
            "188/188 [==============================] - 0s 117us/sample - loss: 0.3113 - accuracy: 0.8989 - val_loss: 0.3125 - val_accuracy: 0.9108\n",
            "Epoch 44/100\n",
            "188/188 [==============================] - 0s 155us/sample - loss: 0.3061 - accuracy: 0.8989 - val_loss: 0.3076 - val_accuracy: 0.9108\n",
            "Epoch 45/100\n",
            "188/188 [==============================] - 0s 113us/sample - loss: 0.3013 - accuracy: 0.8989 - val_loss: 0.3030 - val_accuracy: 0.9134\n",
            "Epoch 46/100\n",
            "188/188 [==============================] - 0s 119us/sample - loss: 0.2965 - accuracy: 0.9043 - val_loss: 0.2985 - val_accuracy: 0.9186\n",
            "Epoch 47/100\n",
            "188/188 [==============================] - 0s 128us/sample - loss: 0.2922 - accuracy: 0.9043 - val_loss: 0.2941 - val_accuracy: 0.9213\n",
            "Epoch 48/100\n",
            "188/188 [==============================] - 0s 125us/sample - loss: 0.2879 - accuracy: 0.9096 - val_loss: 0.2898 - val_accuracy: 0.9239\n",
            "Epoch 49/100\n",
            "188/188 [==============================] - 0s 127us/sample - loss: 0.2836 - accuracy: 0.9149 - val_loss: 0.2858 - val_accuracy: 0.9291\n",
            "Epoch 50/100\n",
            "188/188 [==============================] - 0s 115us/sample - loss: 0.2796 - accuracy: 0.9255 - val_loss: 0.2818 - val_accuracy: 0.9291\n",
            "Epoch 51/100\n",
            "188/188 [==============================] - 0s 121us/sample - loss: 0.2758 - accuracy: 0.9255 - val_loss: 0.2779 - val_accuracy: 0.9291\n",
            "Epoch 52/100\n",
            "188/188 [==============================] - 0s 115us/sample - loss: 0.2720 - accuracy: 0.9255 - val_loss: 0.2743 - val_accuracy: 0.9291\n",
            "Epoch 53/100\n",
            "188/188 [==============================] - 0s 129us/sample - loss: 0.2683 - accuracy: 0.9255 - val_loss: 0.2707 - val_accuracy: 0.9291\n",
            "Epoch 54/100\n",
            "188/188 [==============================] - 0s 112us/sample - loss: 0.2647 - accuracy: 0.9255 - val_loss: 0.2673 - val_accuracy: 0.9291\n",
            "Epoch 55/100\n",
            "188/188 [==============================] - 0s 114us/sample - loss: 0.2613 - accuracy: 0.9255 - val_loss: 0.2639 - val_accuracy: 0.9291\n",
            "Epoch 56/100\n",
            "188/188 [==============================] - 0s 117us/sample - loss: 0.2580 - accuracy: 0.9255 - val_loss: 0.2607 - val_accuracy: 0.9318\n",
            "Epoch 57/100\n",
            "188/188 [==============================] - 0s 117us/sample - loss: 0.2548 - accuracy: 0.9255 - val_loss: 0.2575 - val_accuracy: 0.9318\n",
            "Epoch 58/100\n",
            "188/188 [==============================] - 0s 116us/sample - loss: 0.2516 - accuracy: 0.9255 - val_loss: 0.2544 - val_accuracy: 0.9318\n",
            "Epoch 59/100\n",
            "188/188 [==============================] - 0s 129us/sample - loss: 0.2486 - accuracy: 0.9255 - val_loss: 0.2514 - val_accuracy: 0.9344\n",
            "Epoch 60/100\n",
            "188/188 [==============================] - 0s 115us/sample - loss: 0.2457 - accuracy: 0.9309 - val_loss: 0.2485 - val_accuracy: 0.9344\n",
            "Epoch 61/100\n",
            "188/188 [==============================] - 0s 135us/sample - loss: 0.2428 - accuracy: 0.9309 - val_loss: 0.2456 - val_accuracy: 0.9370\n",
            "Epoch 62/100\n",
            "188/188 [==============================] - 0s 124us/sample - loss: 0.2401 - accuracy: 0.9309 - val_loss: 0.2429 - val_accuracy: 0.9370\n",
            "Epoch 63/100\n",
            "188/188 [==============================] - 0s 119us/sample - loss: 0.2373 - accuracy: 0.9309 - val_loss: 0.2402 - val_accuracy: 0.9370\n",
            "Epoch 64/100\n",
            "188/188 [==============================] - 0s 129us/sample - loss: 0.2347 - accuracy: 0.9309 - val_loss: 0.2376 - val_accuracy: 0.9370\n",
            "Epoch 65/100\n",
            "188/188 [==============================] - 0s 120us/sample - loss: 0.2322 - accuracy: 0.9309 - val_loss: 0.2350 - val_accuracy: 0.9370\n",
            "Epoch 66/100\n",
            "188/188 [==============================] - 0s 121us/sample - loss: 0.2297 - accuracy: 0.9309 - val_loss: 0.2325 - val_accuracy: 0.9396\n",
            "Epoch 67/100\n",
            "188/188 [==============================] - 0s 128us/sample - loss: 0.2272 - accuracy: 0.9309 - val_loss: 0.2301 - val_accuracy: 0.9396\n",
            "Epoch 68/100\n",
            "188/188 [==============================] - 0s 122us/sample - loss: 0.2249 - accuracy: 0.9362 - val_loss: 0.2278 - val_accuracy: 0.9396\n",
            "Epoch 69/100\n",
            "188/188 [==============================] - 0s 128us/sample - loss: 0.2226 - accuracy: 0.9362 - val_loss: 0.2255 - val_accuracy: 0.9396\n",
            "Epoch 70/100\n",
            "188/188 [==============================] - 0s 118us/sample - loss: 0.2203 - accuracy: 0.9362 - val_loss: 0.2233 - val_accuracy: 0.9396\n",
            "Epoch 71/100\n",
            "188/188 [==============================] - 0s 127us/sample - loss: 0.2182 - accuracy: 0.9362 - val_loss: 0.2211 - val_accuracy: 0.9396\n",
            "Epoch 72/100\n",
            "188/188 [==============================] - 0s 131us/sample - loss: 0.2161 - accuracy: 0.9362 - val_loss: 0.2190 - val_accuracy: 0.9396\n",
            "Epoch 73/100\n",
            "188/188 [==============================] - 0s 134us/sample - loss: 0.2139 - accuracy: 0.9362 - val_loss: 0.2169 - val_accuracy: 0.9396\n",
            "Epoch 74/100\n",
            "188/188 [==============================] - 0s 172us/sample - loss: 0.2119 - accuracy: 0.9362 - val_loss: 0.2150 - val_accuracy: 0.9396\n",
            "Epoch 75/100\n",
            "188/188 [==============================] - 0s 118us/sample - loss: 0.2100 - accuracy: 0.9362 - val_loss: 0.2130 - val_accuracy: 0.9396\n",
            "Epoch 76/100\n",
            "188/188 [==============================] - 0s 123us/sample - loss: 0.2081 - accuracy: 0.9362 - val_loss: 0.2111 - val_accuracy: 0.9396\n",
            "Epoch 77/100\n",
            "188/188 [==============================] - 0s 110us/sample - loss: 0.2062 - accuracy: 0.9362 - val_loss: 0.2092 - val_accuracy: 0.9396\n",
            "Epoch 78/100\n",
            "188/188 [==============================] - 0s 137us/sample - loss: 0.2043 - accuracy: 0.9362 - val_loss: 0.2074 - val_accuracy: 0.9423\n",
            "Epoch 79/100\n",
            "188/188 [==============================] - 0s 137us/sample - loss: 0.2025 - accuracy: 0.9362 - val_loss: 0.2056 - val_accuracy: 0.9423\n",
            "Epoch 80/100\n",
            "188/188 [==============================] - 0s 133us/sample - loss: 0.2008 - accuracy: 0.9362 - val_loss: 0.2038 - val_accuracy: 0.9449\n",
            "Epoch 81/100\n",
            "188/188 [==============================] - 0s 129us/sample - loss: 0.1991 - accuracy: 0.9362 - val_loss: 0.2021 - val_accuracy: 0.9449\n",
            "Epoch 82/100\n",
            "188/188 [==============================] - 0s 111us/sample - loss: 0.1973 - accuracy: 0.9362 - val_loss: 0.2004 - val_accuracy: 0.9449\n",
            "Epoch 83/100\n",
            "188/188 [==============================] - 0s 127us/sample - loss: 0.1957 - accuracy: 0.9362 - val_loss: 0.1988 - val_accuracy: 0.9449\n",
            "Epoch 84/100\n",
            "188/188 [==============================] - 0s 131us/sample - loss: 0.1941 - accuracy: 0.9362 - val_loss: 0.1972 - val_accuracy: 0.9449\n",
            "Epoch 85/100\n",
            "188/188 [==============================] - 0s 137us/sample - loss: 0.1926 - accuracy: 0.9362 - val_loss: 0.1956 - val_accuracy: 0.9449\n",
            "Epoch 86/100\n",
            "188/188 [==============================] - 0s 116us/sample - loss: 0.1910 - accuracy: 0.9362 - val_loss: 0.1941 - val_accuracy: 0.9449\n",
            "Epoch 87/100\n",
            "188/188 [==============================] - 0s 115us/sample - loss: 0.1895 - accuracy: 0.9362 - val_loss: 0.1926 - val_accuracy: 0.9475\n",
            "Epoch 88/100\n",
            "188/188 [==============================] - 0s 128us/sample - loss: 0.1880 - accuracy: 0.9415 - val_loss: 0.1912 - val_accuracy: 0.9501\n",
            "Epoch 89/100\n",
            "188/188 [==============================] - 0s 114us/sample - loss: 0.1866 - accuracy: 0.9415 - val_loss: 0.1897 - val_accuracy: 0.9501\n",
            "Epoch 90/100\n",
            "188/188 [==============================] - 0s 112us/sample - loss: 0.1852 - accuracy: 0.9468 - val_loss: 0.1883 - val_accuracy: 0.9501\n",
            "Epoch 91/100\n",
            "188/188 [==============================] - 0s 123us/sample - loss: 0.1838 - accuracy: 0.9468 - val_loss: 0.1869 - val_accuracy: 0.9528\n",
            "Epoch 92/100\n",
            "188/188 [==============================] - 0s 128us/sample - loss: 0.1824 - accuracy: 0.9521 - val_loss: 0.1855 - val_accuracy: 0.9528\n",
            "Epoch 93/100\n",
            "188/188 [==============================] - 0s 118us/sample - loss: 0.1811 - accuracy: 0.9521 - val_loss: 0.1842 - val_accuracy: 0.9528\n",
            "Epoch 94/100\n",
            "188/188 [==============================] - 0s 113us/sample - loss: 0.1798 - accuracy: 0.9521 - val_loss: 0.1829 - val_accuracy: 0.9528\n",
            "Epoch 95/100\n",
            "188/188 [==============================] - 0s 122us/sample - loss: 0.1785 - accuracy: 0.9521 - val_loss: 0.1817 - val_accuracy: 0.9528\n",
            "Epoch 96/100\n",
            "188/188 [==============================] - 0s 111us/sample - loss: 0.1772 - accuracy: 0.9521 - val_loss: 0.1804 - val_accuracy: 0.9528\n",
            "Epoch 97/100\n",
            "188/188 [==============================] - 0s 138us/sample - loss: 0.1760 - accuracy: 0.9521 - val_loss: 0.1792 - val_accuracy: 0.9528\n",
            "Epoch 98/100\n",
            "188/188 [==============================] - 0s 113us/sample - loss: 0.1748 - accuracy: 0.9521 - val_loss: 0.1780 - val_accuracy: 0.9528\n",
            "Epoch 99/100\n",
            "188/188 [==============================] - 0s 105us/sample - loss: 0.1736 - accuracy: 0.9521 - val_loss: 0.1768 - val_accuracy: 0.9528\n",
            "Epoch 100/100\n",
            "188/188 [==============================] - 0s 123us/sample - loss: 0.1724 - accuracy: 0.9521 - val_loss: 0.1757 - val_accuracy: 0.9528\n"
          ],
          "name": "stdout"
        }
      ]
    },
    {
      "cell_type": "code",
      "metadata": {
        "id": "tvtRT8VFqPoq",
        "colab_type": "code",
        "colab": {
          "base_uri": "https://localhost:8080/",
          "height": 86
        },
        "outputId": "9e83dd38-185d-4a23-da08-6e691e5acd41"
      },
      "source": [
        "print(\"Training score\", model.evaluate(X_train,y_train))\n",
        "print(\"Test score\", model.evaluate(X_test,y_test))"
      ],
      "execution_count": 22,
      "outputs": [
        {
          "output_type": "stream",
          "text": [
            "188/188 [==============================] - 0s 89us/sample - loss: 0.1717 - accuracy: 0.9521\n",
            "Training score [0.17172038745372853, 0.95212764]\n",
            "381/381 [==============================] - 0s 33us/sample - loss: 0.1757 - accuracy: 0.9528\n",
            "Test score [0.17568636276903427, 0.9527559]\n"
          ],
          "name": "stdout"
        }
      ]
    },
    {
      "cell_type": "code",
      "metadata": {
        "id": "Bd9nW6invonN",
        "colab_type": "code",
        "colab": {
          "base_uri": "https://localhost:8080/",
          "height": 35
        },
        "outputId": "efaa0ef7-7fd0-493c-ce09-7852dc295cc4"
      },
      "source": [
        "history.history.keys()"
      ],
      "execution_count": 28,
      "outputs": [
        {
          "output_type": "execute_result",
          "data": {
            "text/plain": [
              "dict_keys(['loss', 'accuracy', 'val_loss', 'val_accuracy'])"
            ]
          },
          "metadata": {
            "tags": []
          },
          "execution_count": 28
        }
      ]
    },
    {
      "cell_type": "code",
      "metadata": {
        "id": "nAU0OSKCvE_g",
        "colab_type": "code",
        "colab": {
          "base_uri": "https://localhost:8080/",
          "height": 282
        },
        "outputId": "5a8d5595-8719-41f1-c49f-902667ba937a"
      },
      "source": [
        "import matplotlib.pyplot as plt\n",
        "plt.plot(history.history['loss'],label='loss')\n",
        "plt.plot(history.history['val_loss'],label ='val_loss')\n",
        "plt.legend()"
      ],
      "execution_count": 29,
      "outputs": [
        {
          "output_type": "execute_result",
          "data": {
            "text/plain": [
              "<matplotlib.legend.Legend at 0x7f7ff939b9b0>"
            ]
          },
          "metadata": {
            "tags": []
          },
          "execution_count": 29
        },
        {
          "output_type": "display_data",
          "data": {
            "image/png": "[encoded data removed]",
            "text/plain": [
              "<Figure size 432x288 with 1 Axes>"
            ]
          },
          "metadata": {
            "tags": []
          }
        }
      ]
    },
    {
      "cell_type": "code",
      "metadata": {
        "id": "sBNGB14UvfUL",
        "colab_type": "code",
        "colab": {
          "base_uri": "https://localhost:8080/",
          "height": 282
        },
        "outputId": "f6522394-5adc-4528-8362-b2de2bfdb43c"
      },
      "source": [
        "plt.plot(history.history['accuracy'],label='acc')\n",
        "plt.plot(history.history['val_accuracy'],label ='val_acc')\n",
        "plt.legend()"
      ],
      "execution_count": 30,
      "outputs": [
        {
          "output_type": "execute_result",
          "data": {
            "text/plain": [
              "<matplotlib.legend.Legend at 0x7f7ff939beb8>"
            ]
          },
          "metadata": {
            "tags": []
          },
          "execution_count": 30
        },
        {
          "output_type": "display_data",
          "data": {
            "image/png": "[encoded data removed]",
            "text/plain": [
              "<Figure size 432x288 with 1 Axes>"
            ]
          },
          "metadata": {
            "tags": []
          }
        }
      ]
    },
    {
      "cell_type": "code",
      "metadata": {
        "id": "AW2R8tb0wj3N",
        "colab_type": "code",
        "colab": {
          "base_uri": "https://localhost:8080/",
          "height": 1000
        },
        "outputId": "d555e34b-09e8-4d1c-875a-a653ace81a4c"
      },
      "source": [
        "P = model.predict(X_test)\n",
        "print(P)"
      ],
      "execution_count": 32,
      "outputs": [
        {
          "output_type": "stream",
          "text": [
            "[[9.88954425e-01]\n",
            " [9.49825525e-01]\n",
            " [9.85529840e-01]\n",
            " [9.56686854e-01]\n",
            " [9.57975626e-01]\n",
            " [9.87995386e-01]\n",
            " [8.45740557e-01]\n",
            " [9.83963430e-01]\n",
            " [8.97956848e-01]\n",
            " [3.23653221e-05]\n",
            " [9.16861594e-01]\n",
            " [4.90779191e-01]\n",
            " [9.49489355e-01]\n",
            " [9.10154819e-01]\n",
            " [2.94071704e-01]\n",
            " [8.64332318e-01]\n",
            " [9.83387291e-01]\n",
            " [3.24273407e-02]\n",
            " [9.63430583e-01]\n",
            " [7.05164135e-01]\n",
            " [6.97521508e-01]\n",
            " [9.00310516e-01]\n",
            " [9.43803906e-01]\n",
            " [9.72148895e-01]\n",
            " [9.93060827e-01]\n",
            " [8.65042806e-01]\n",
            " [4.69045937e-02]\n",
            " [2.26310611e-01]\n",
            " [8.04641068e-01]\n",
            " [9.21734571e-01]\n",
            " [9.27907228e-01]\n",
            " [9.23302352e-01]\n",
            " [2.95787454e-02]\n",
            " [3.77565622e-04]\n",
            " [4.83140022e-01]\n",
            " [8.32359493e-01]\n",
            " [9.76812601e-01]\n",
            " [9.81835425e-01]\n",
            " [2.85452604e-01]\n",
            " [8.09163094e-01]\n",
            " [9.59665537e-01]\n",
            " [9.45022404e-01]\n",
            " [9.14161265e-01]\n",
            " [9.59403872e-01]\n",
            " [4.78093565e-01]\n",
            " [8.66110086e-01]\n",
            " [9.63525414e-01]\n",
            " [8.39112043e-01]\n",
            " [8.98808539e-02]\n",
            " [2.61727631e-01]\n",
            " [5.64455986e-05]\n",
            " [9.75957394e-01]\n",
            " [4.09453511e-02]\n",
            " [9.21186209e-01]\n",
            " [9.49934840e-01]\n",
            " [4.05657679e-01]\n",
            " [9.00685906e-01]\n",
            " [7.21703172e-01]\n",
            " [9.72982287e-01]\n",
            " [8.96592081e-01]\n",
            " [5.74115276e-01]\n",
            " [9.81451511e-01]\n",
            " [9.62348759e-01]\n",
            " [9.40675259e-01]\n",
            " [1.03204250e-02]\n",
            " [9.31481063e-01]\n",
            " [1.73032165e-01]\n",
            " [8.26040268e-01]\n",
            " [9.09581661e-01]\n",
            " [2.32105076e-01]\n",
            " [5.62390685e-03]\n",
            " [8.79884005e-01]\n",
            " [3.35744023e-02]\n",
            " [1.86027348e-01]\n",
            " [6.10949278e-01]\n",
            " [9.69279051e-01]\n",
            " [9.42299545e-01]\n",
            " [7.48060048e-02]\n",
            " [8.38698745e-01]\n",
            " [9.72702980e-01]\n",
            " [2.30037063e-01]\n",
            " [8.04161429e-02]\n",
            " [8.43129158e-02]\n",
            " [5.19695699e-01]\n",
            " [9.83680189e-01]\n",
            " [1.08232796e-02]\n",
            " [9.28763866e-01]\n",
            " [1.88576579e-02]\n",
            " [4.56779301e-02]\n",
            " [8.93771648e-01]\n",
            " [2.74981856e-02]\n",
            " [8.63116026e-01]\n",
            " [1.15236938e-01]\n",
            " [9.84215021e-01]\n",
            " [8.24069560e-01]\n",
            " [9.71674085e-01]\n",
            " [2.21949220e-02]\n",
            " [9.81708646e-01]\n",
            " [3.13475698e-01]\n",
            " [4.54043150e-02]\n",
            " [1.09717548e-02]\n",
            " [8.95546377e-01]\n",
            " [8.81273508e-01]\n",
            " [4.52727079e-03]\n",
            " [9.07495499e-01]\n",
            " [9.30024028e-01]\n",
            " [8.47438931e-01]\n",
            " [9.64974165e-01]\n",
            " [5.97747624e-01]\n",
            " [8.68565202e-01]\n",
            " [2.05934048e-04]\n",
            " [9.51091170e-01]\n",
            " [2.15643555e-01]\n",
            " [1.78716421e-01]\n",
            " [1.75641477e-02]\n",
            " [8.37762833e-01]\n",
            " [1.22986257e-01]\n",
            " [9.33637857e-01]\n",
            " [9.25773025e-01]\n",
            " [8.14194679e-01]\n",
            " [9.37930524e-01]\n",
            " [8.60339582e-01]\n",
            " [3.10864866e-01]\n",
            " [3.33390594e-01]\n",
            " [9.35596287e-01]\n",
            " [3.64227295e-02]\n",
            " [7.71594048e-03]\n",
            " [7.57709146e-03]\n",
            " [9.77461517e-01]\n",
            " [8.99298191e-01]\n",
            " [9.36642826e-01]\n",
            " [9.37627375e-01]\n",
            " [2.09433734e-02]\n",
            " [9.66377556e-01]\n",
            " [8.11629176e-01]\n",
            " [8.31203818e-01]\n",
            " [1.60671175e-02]\n",
            " [8.47723484e-01]\n",
            " [3.36837143e-01]\n",
            " [7.29212165e-03]\n",
            " [9.02956009e-01]\n",
            " [2.10234523e-03]\n",
            " [1.38006270e-01]\n",
            " [9.72365618e-01]\n",
            " [9.70663667e-01]\n",
            " [9.63937640e-01]\n",
            " [9.88295317e-01]\n",
            " [8.29001069e-01]\n",
            " [2.80510247e-01]\n",
            " [9.51741755e-01]\n",
            " [9.91999745e-01]\n",
            " [9.77370620e-01]\n",
            " [4.38037515e-01]\n",
            " [8.77740085e-02]\n",
            " [3.99599075e-01]\n",
            " [8.12050104e-01]\n",
            " [5.79753757e-01]\n",
            " [1.20014936e-01]\n",
            " [8.87406051e-01]\n",
            " [9.24965382e-01]\n",
            " [5.62274814e-01]\n",
            " [7.72832930e-02]\n",
            " [9.58459973e-01]\n",
            " [1.83006823e-02]\n",
            " [9.08585906e-01]\n",
            " [9.06434059e-01]\n",
            " [1.87247038e-01]\n",
            " [8.24805856e-01]\n",
            " [6.43831491e-01]\n",
            " [8.54444981e-01]\n",
            " [5.98671317e-01]\n",
            " [9.56845820e-01]\n",
            " [8.81188631e-01]\n",
            " [6.09177470e-01]\n",
            " [4.47180867e-03]\n",
            " [9.73598003e-01]\n",
            " [8.61502051e-01]\n",
            " [9.09580231e-01]\n",
            " [8.83605361e-01]\n",
            " [4.79219288e-01]\n",
            " [1.03271544e-01]\n",
            " [8.82896304e-01]\n",
            " [8.90754819e-01]\n",
            " [9.69273686e-01]\n",
            " [8.45680118e-01]\n",
            " [2.92479992e-04]\n",
            " [9.45134878e-01]\n",
            " [5.25359809e-02]\n",
            " [4.17232513e-07]\n",
            " [9.64142442e-01]\n",
            " [8.75884891e-01]\n",
            " [2.79482901e-02]\n",
            " [1.59651041e-04]\n",
            " [9.01834488e-01]\n",
            " [1.08752668e-01]\n",
            " [9.66468155e-01]\n",
            " [1.22135222e-01]\n",
            " [9.03416872e-01]\n",
            " [1.90029442e-02]\n",
            " [9.45630789e-01]\n",
            " [9.76849258e-01]\n",
            " [2.16264129e-02]\n",
            " [3.12852561e-02]\n",
            " [9.46616054e-01]\n",
            " [9.28794980e-01]\n",
            " [9.71284986e-01]\n",
            " [2.97361016e-02]\n",
            " [6.12077117e-02]\n",
            " [9.10114169e-01]\n",
            " [9.80973125e-01]\n",
            " [8.65622520e-01]\n",
            " [8.54825974e-01]\n",
            " [9.84154820e-01]\n",
            " [8.31876755e-01]\n",
            " [6.54502451e-01]\n",
            " [8.60814750e-01]\n",
            " [9.18600261e-01]\n",
            " [6.33895397e-05]\n",
            " [7.62022376e-01]\n",
            " [7.80094862e-01]\n",
            " [2.15423107e-03]\n",
            " [8.13434422e-02]\n",
            " [3.97046626e-01]\n",
            " [9.41793501e-01]\n",
            " [1.78474188e-03]\n",
            " [8.49708200e-01]\n",
            " [9.20833349e-02]\n",
            " [7.84839988e-01]\n",
            " [8.08226109e-01]\n",
            " [9.72640395e-01]\n",
            " [7.49015808e-02]\n",
            " [9.40265417e-01]\n",
            " [5.45724988e-01]\n",
            " [1.15165114e-03]\n",
            " [8.65089417e-01]\n",
            " [8.77630174e-01]\n",
            " [8.51268649e-01]\n",
            " [5.72493732e-01]\n",
            " [9.44032133e-01]\n",
            " [1.24067068e-03]\n",
            " [9.65879440e-01]\n",
            " [8.16963315e-02]\n",
            " [2.68295705e-02]\n",
            " [8.48039687e-01]\n",
            " [9.58394647e-01]\n",
            " [2.83758640e-02]\n",
            " [8.44532967e-01]\n",
            " [9.41232443e-01]\n",
            " [5.92700541e-01]\n",
            " [8.54776621e-01]\n",
            " [7.22749531e-02]\n",
            " [9.51398015e-02]\n",
            " [3.13929945e-01]\n",
            " [1.00569427e-02]\n",
            " [8.13952088e-03]\n",
            " [3.84479761e-04]\n",
            " [9.66405869e-01]\n",
            " [6.60955906e-04]\n",
            " [7.85434604e-01]\n",
            " [7.37816095e-04]\n",
            " [9.37145352e-01]\n",
            " [8.77081037e-01]\n",
            " [8.51261139e-01]\n",
            " [9.42008018e-01]\n",
            " [9.28013563e-01]\n",
            " [9.85051811e-01]\n",
            " [1.16616488e-04]\n",
            " [6.75844431e-01]\n",
            " [1.35679513e-01]\n",
            " [9.71148968e-01]\n",
            " [6.13515377e-02]\n",
            " [9.32694793e-01]\n",
            " [9.62975502e-01]\n",
            " [2.78678536e-03]\n",
            " [9.37104344e-01]\n",
            " [9.04527962e-01]\n",
            " [8.78836155e-01]\n",
            " [8.70012939e-01]\n",
            " [1.40623897e-01]\n",
            " [4.84683961e-01]\n",
            " [8.95157456e-01]\n",
            " [8.91470551e-01]\n",
            " [9.91286337e-02]\n",
            " [8.59058201e-02]\n",
            " [6.54569864e-02]\n",
            " [8.96898270e-01]\n",
            " [7.04264343e-02]\n",
            " [7.47073889e-01]\n",
            " [8.90387893e-01]\n",
            " [7.83285499e-03]\n",
            " [3.72028351e-03]\n",
            " [7.02747703e-01]\n",
            " [5.99339128e-01]\n",
            " [6.18707061e-01]\n",
            " [9.05204535e-01]\n",
            " [9.33721960e-01]\n",
            " [1.51171863e-01]\n",
            " [1.04240865e-01]\n",
            " [9.49800014e-01]\n",
            " [6.69222474e-02]\n",
            " [9.28622961e-01]\n",
            " [3.76492739e-04]\n",
            " [3.31735611e-03]\n",
            " [8.66177201e-01]\n",
            " [7.03319430e-01]\n",
            " [9.20511544e-01]\n",
            " [1.19769692e-01]\n",
            " [8.96152258e-01]\n",
            " [6.74068630e-02]\n",
            " [2.36443460e-01]\n",
            " [2.04840720e-01]\n",
            " [5.11619449e-03]\n",
            " [4.90864813e-02]\n",
            " [9.13835943e-01]\n",
            " [8.93704057e-01]\n",
            " [5.67682505e-01]\n",
            " [9.64502633e-01]\n",
            " [1.35053158e-01]\n",
            " [8.09627295e-01]\n",
            " [9.63525236e-01]\n",
            " [6.73050702e-01]\n",
            " [6.80743754e-01]\n",
            " [8.17111850e-01]\n",
            " [9.06091213e-01]\n",
            " [5.44849217e-01]\n",
            " [9.27526474e-01]\n",
            " [9.55454350e-01]\n",
            " [9.92512286e-01]\n",
            " [1.03575587e-02]\n",
            " [9.79933023e-01]\n",
            " [2.25836426e-01]\n",
            " [1.96941406e-01]\n",
            " [9.16147172e-01]\n",
            " [9.69664276e-01]\n",
            " [6.68312192e-01]\n",
            " [9.00356889e-01]\n",
            " [5.49482405e-01]\n",
            " [9.16854143e-01]\n",
            " [2.92391181e-02]\n",
            " [9.70067799e-01]\n",
            " [8.66900861e-01]\n",
            " [1.59870088e-02]\n",
            " [4.05281037e-01]\n",
            " [2.08946109e-01]\n",
            " [4.78401601e-01]\n",
            " [8.42833519e-02]\n",
            " [7.66184330e-01]\n",
            " [9.36592221e-01]\n",
            " [2.48900056e-02]\n",
            " [9.11869705e-01]\n",
            " [1.23759031e-01]\n",
            " [8.30101967e-01]\n",
            " [9.34806228e-01]\n",
            " [8.80829692e-01]\n",
            " [8.61095011e-01]\n",
            " [8.13552260e-01]\n",
            " [9.17652011e-01]\n",
            " [9.67451930e-01]\n",
            " [9.22654510e-01]\n",
            " [9.04006660e-01]\n",
            " [4.91064936e-01]\n",
            " [8.54183674e-01]\n",
            " [9.84335184e-01]\n",
            " [9.26065445e-03]\n",
            " [9.55466270e-01]\n",
            " [9.51578498e-01]\n",
            " [1.98913664e-01]\n",
            " [3.40089619e-01]\n",
            " [8.54392231e-01]\n",
            " [8.32589328e-01]\n",
            " [2.20364332e-02]\n",
            " [8.92167270e-01]\n",
            " [4.29532856e-01]\n",
            " [7.17762351e-01]\n",
            " [8.39748979e-03]\n",
            " [9.39275980e-01]\n",
            " [5.88018119e-01]\n",
            " [4.09860164e-02]\n",
            " [1.43301990e-02]\n",
            " [9.91872370e-01]\n",
            " [6.46767974e-01]]\n"
          ],
          "name": "stdout"
        }
      ]
    },
    {
      "cell_type": "code",
      "metadata": {
        "id": "6wQ9gHSLwp99",
        "colab_type": "code",
        "colab": {}
      },
      "source": [
        ""
      ],
      "execution_count": 0,
      "outputs": []
    }
  ]
}